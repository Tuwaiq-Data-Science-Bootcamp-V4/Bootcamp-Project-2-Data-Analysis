{
 "cells": [
  {
   "cell_type": "code",
   "execution_count": 1,
   "metadata": {
    "cell_id": "bb2de9f6cca04e6bafdc53ddba9801c2",
    "deepnote_app_coordinates": {
     "h": 5,
     "w": 12,
     "x": 0,
     "y": 0
    },
    "deepnote_cell_type": "code",
    "deepnote_to_be_reexecuted": false,
    "execution_millis": 1973,
    "execution_start": 1691694251876,
    "source_hash": "4276bd5c"
   },
   "outputs": [],
   "source": [
    "import pandas as pd\n",
    "import numpy as np\n",
    "import matplotlib.pyplot as plt\n",
    "import seaborn as sns\n",
    "import re\n",
    "\n",
    "%matplotlib inline"
   ]
  },
  {
   "cell_type": "markdown",
   "metadata": {
    "cell_id": "05decdc774d34a81952a7923bb8bbb5e",
    "deepnote_app_coordinates": {
     "h": 5,
     "w": 12,
     "x": 0,
     "y": 0
    },
    "deepnote_cell_type": "text-cell-h3",
    "formattedRanges": []
   },
   "source": [
    "### AI, ML, Data Scientist, Big Data Jobs "
   ]
  },
  {
   "cell_type": "markdown",
   "metadata": {
    "cell_id": "d2d107eae3f641bd8de2575f291cff1b",
    "deepnote_app_coordinates": {
     "h": 2,
     "w": 8,
     "x": 0,
     "y": 0
    },
    "deepnote_cell_type": "text-cell-p",
    "formattedRanges": [
     {
      "fromCodePoint": 0,
      "ranges": [],
      "toCodePoint": 83,
      "type": "link",
      "url": "https://www.kaggle.com/datasets/joyshil0599/data-science-jobs-comprehensive-dataset"
     }
    ]
   },
   "source": [
    "https://www.kaggle.com/datasets/joyshil0599/data-science-jobs-comprehensive-dataset"
   ]
  },
  {
   "cell_type": "code",
   "execution_count": 2,
   "metadata": {
    "cell_id": "63ac73d453684324a2b1875ca27c496d",
    "deepnote_app_coordinates": {
     "h": 5,
     "w": 12,
     "x": 0,
     "y": 0
    },
    "deepnote_cell_type": "code",
    "deepnote_to_be_reexecuted": false,
    "execution_millis": 17,
    "execution_start": 1691694255524,
    "source_hash": "11d4b64a"
   },
   "outputs": [],
   "source": [
    "df = pd.read_csv('/work/AI ML DS & Big Data Jobs.csv', encoding='latin-1')"
   ]
  },
  {
   "cell_type": "code",
   "execution_count": 3,
   "metadata": {
    "cell_id": "3775101075a54e7688418420c487c1bc",
    "deepnote_app_coordinates": {
     "h": 5,
     "w": 12,
     "x": 0,
     "y": 0
    },
    "deepnote_cell_type": "code",
    "deepnote_table_loading": false,
    "deepnote_table_state": {
     "filters": [],
     "pageIndex": 0,
     "pageSize": 100,
     "sortBy": []
    },
    "deepnote_to_be_reexecuted": false,
    "execution_millis": 303,
    "execution_start": 1691694257843,
    "source_hash": "c085b6ba"
   },
   "outputs": [
    {
     "data": {
      "application/vnd.deepnote.dataframe.v3+json": {
       "column_count": 8,
       "columns": [
        {
         "dtype": "object",
         "name": "Company",
         "stats": {
          "categories": [
           {
            "count": 1,
            "name": "SGS"
           },
           {
            "count": 1,
            "name": "Ocorian"
           },
           {
            "count": 3,
            "name": "3 others"
           }
          ],
          "nan_count": 0,
          "unique_count": 5
         }
        },
        {
         "dtype": "object",
         "name": "Job Title",
         "stats": {
          "categories": [
           {
            "count": 1,
            "name": "Clinical Data Analyst"
           },
           {
            "count": 1,
            "name": "AML/CFT & Data Analyst"
           },
           {
            "count": 3,
            "name": "3 others"
           }
          ],
          "nan_count": 0,
          "unique_count": 5
         }
        },
        {
         "dtype": "object",
         "name": "Location",
         "stats": {
          "categories": [
           {
            "count": 1,
            "name": "Richardson, TX, United States"
           },
           {
            "count": 1,
            "name": "Ebène, Mauritius"
           },
           {
            "count": 3,
            "name": "3 others"
           }
          ],
          "nan_count": 0,
          "unique_count": 5
         }
        },
        {
         "dtype": "object",
         "name": "Job Type",
         "stats": {
          "categories": [
           {
            "count": 5,
            "name": "Full Time"
           }
          ],
          "nan_count": 0,
          "unique_count": 1
         }
        },
        {
         "dtype": "object",
         "name": "Experience level",
         "stats": {
          "categories": [
           {
            "count": 3,
            "name": "Entry-level"
           },
           {
            "count": 1,
            "name": "Mid-level"
           },
           {
            "count": 1,
            "name": "Missing"
           }
          ],
          "nan_count": 1,
          "unique_count": 2
         }
        },
        {
         "dtype": "object",
         "name": "Salary",
         "stats": {
          "categories": [
           {
            "count": 3,
            "name": " 48K+ *"
           },
           {
            "count": 1,
            "name": " 90K+ *"
           },
           {
            "count": 1,
            "name": " 108K+"
           }
          ],
          "nan_count": 0,
          "unique_count": 3
         }
        },
        {
         "dtype": "object",
         "name": "Requirment of the company ",
         "stats": {
          "categories": [
           {
            "count": 1,
            "name": "Computer Science,Data quality,Genetics,Mathematics,SAS,Statistics"
           },
           {
            "count": 1,
            "name": "Agile,Data management,Finance,Security,,"
           },
           {
            "count": 3,
            "name": "3 others"
           }
          ],
          "nan_count": 0,
          "unique_count": 5
         }
        },
        {
         "dtype": "object",
         "name": "Facilities",
         "stats": {
          "categories": [
           {
            "count": 3,
            "name": ",,,,"
           },
           {
            "count": 1,
            "name": "Career development,,,,"
           },
           {
            "count": 1,
            "name": "Flex hours,Flex vacation,Parental leave,Unlimited paid time off,"
           }
          ],
          "nan_count": 0,
          "unique_count": 3
         }
        },
        {
         "dtype": "int64",
         "name": "_deepnote_index_column"
        }
       ],
       "row_count": 5,
       "rows": [
        {
         "Company": "SGS",
         "Experience level": "Entry-level",
         "Facilities": ",,,,",
         "Job Title": "Clinical Data Analyst",
         "Job Type": "Full Time",
         "Location": "Richardson, TX, United States",
         "Requirment of the company ": "Computer Science,Data quality,Genetics,Mathematics,SAS,Statistics",
         "Salary": " 48K+ *",
         "_deepnote_index_column": 0
        },
        {
         "Company": "Ocorian",
         "Experience level": "Entry-level",
         "Facilities": ",,,,",
         "Job Title": "AML/CFT & Data Analyst",
         "Job Type": "Full Time",
         "Location": "Ebène, Mauritius",
         "Requirment of the company ": "Agile,Data management,Finance,Security,,",
         "Salary": " 48K+ *",
         "_deepnote_index_column": 1
        },
        {
         "Company": "Cricut",
         "Experience level": "nan",
         "Facilities": "Career development,,,,",
         "Job Title": "Machine Learning Engineer",
         "Job Type": "Full Time",
         "Location": "South Jordan, UT, United States",
         "Requirment of the company ": "Agile,Architecture,AWS,Computer Science,Computer Vision,Deep Learning",
         "Salary": " 90K+ *",
         "_deepnote_index_column": 2
        },
        {
         "Company": "Bosch Group",
         "Experience level": "Entry-level",
         "Facilities": ",,,,",
         "Job Title": "Application Developer & Data Analyst",
         "Job Type": "Full Time",
         "Location": "Nonantola, Italy",
         "Requirment of the company ": "Engineering,Industrial,Oracle,Power BI,R,R&D",
         "Salary": " 48K+ *",
         "_deepnote_index_column": 3
        },
        {
         "Company": "Publicis Groupe",
         "Experience level": "Mid-level",
         "Facilities": "Flex hours,Flex vacation,Parental leave,Unlimited paid time off,",
         "Job Title": "Data Engineer Full time (Public Sector) USA",
         "Job Type": "Full Time",
         "Location": "Arlington, VA, United States",
         "Requirment of the company ": "AWS,Azure,Computer Science,Consulting,Dataflow,Data pipelines",
         "Salary": " 108K+",
         "_deepnote_index_column": 4
        }
       ]
      },
      "text/html": [
       "<div>\n",
       "<style scoped>\n",
       "    .dataframe tbody tr th:only-of-type {\n",
       "        vertical-align: middle;\n",
       "    }\n",
       "\n",
       "    .dataframe tbody tr th {\n",
       "        vertical-align: top;\n",
       "    }\n",
       "\n",
       "    .dataframe thead th {\n",
       "        text-align: right;\n",
       "    }\n",
       "</style>\n",
       "<table border=\"1\" class=\"dataframe\">\n",
       "  <thead>\n",
       "    <tr style=\"text-align: right;\">\n",
       "      <th></th>\n",
       "      <th>Company</th>\n",
       "      <th>Job Title</th>\n",
       "      <th>Location</th>\n",
       "      <th>Job Type</th>\n",
       "      <th>Experience level</th>\n",
       "      <th>Salary</th>\n",
       "      <th>Requirment of the company</th>\n",
       "      <th>Facilities</th>\n",
       "    </tr>\n",
       "  </thead>\n",
       "  <tbody>\n",
       "    <tr>\n",
       "      <th>0</th>\n",
       "      <td>SGS</td>\n",
       "      <td>Clinical Data Analyst</td>\n",
       "      <td>Richardson, TX, United States</td>\n",
       "      <td>Full Time</td>\n",
       "      <td>Entry-level</td>\n",
       "      <td>48K+ *</td>\n",
       "      <td>Computer Science,Data quality,Genetics,Mathema...</td>\n",
       "      <td>,,,,</td>\n",
       "    </tr>\n",
       "    <tr>\n",
       "      <th>1</th>\n",
       "      <td>Ocorian</td>\n",
       "      <td>AML/CFT &amp; Data Analyst</td>\n",
       "      <td>Ebène, Mauritius</td>\n",
       "      <td>Full Time</td>\n",
       "      <td>Entry-level</td>\n",
       "      <td>48K+ *</td>\n",
       "      <td>Agile,Data management,Finance,Security,,</td>\n",
       "      <td>,,,,</td>\n",
       "    </tr>\n",
       "    <tr>\n",
       "      <th>2</th>\n",
       "      <td>Cricut</td>\n",
       "      <td>Machine Learning Engineer</td>\n",
       "      <td>South Jordan, UT, United States</td>\n",
       "      <td>Full Time</td>\n",
       "      <td>NaN</td>\n",
       "      <td>90K+ *</td>\n",
       "      <td>Agile,Architecture,AWS,Computer Science,Comput...</td>\n",
       "      <td>Career development,,,,</td>\n",
       "    </tr>\n",
       "    <tr>\n",
       "      <th>3</th>\n",
       "      <td>Bosch Group</td>\n",
       "      <td>Application Developer &amp; Data Analyst</td>\n",
       "      <td>Nonantola, Italy</td>\n",
       "      <td>Full Time</td>\n",
       "      <td>Entry-level</td>\n",
       "      <td>48K+ *</td>\n",
       "      <td>Engineering,Industrial,Oracle,Power BI,R,R&amp;D</td>\n",
       "      <td>,,,,</td>\n",
       "    </tr>\n",
       "    <tr>\n",
       "      <th>4</th>\n",
       "      <td>Publicis Groupe</td>\n",
       "      <td>Data Engineer Full time (Public Sector) USA</td>\n",
       "      <td>Arlington, VA, United States</td>\n",
       "      <td>Full Time</td>\n",
       "      <td>Mid-level</td>\n",
       "      <td>108K+</td>\n",
       "      <td>AWS,Azure,Computer Science,Consulting,Dataflow...</td>\n",
       "      <td>Flex hours,Flex vacation,Parental leave,Unlimi...</td>\n",
       "    </tr>\n",
       "  </tbody>\n",
       "</table>\n",
       "</div>"
      ],
      "text/plain": [
       "           Company                                    Job Title  \\\n",
       "0              SGS                        Clinical Data Analyst   \n",
       "1          Ocorian                       AML/CFT & Data Analyst   \n",
       "2           Cricut                    Machine Learning Engineer   \n",
       "3      Bosch Group         Application Developer & Data Analyst   \n",
       "4  Publicis Groupe  Data Engineer Full time (Public Sector) USA   \n",
       "\n",
       "                          Location   Job Type Experience level   Salary  \\\n",
       "0    Richardson, TX, United States  Full Time      Entry-level   48K+ *   \n",
       "1                 Ebène, Mauritius  Full Time      Entry-level   48K+ *   \n",
       "2  South Jordan, UT, United States  Full Time              NaN   90K+ *   \n",
       "3                 Nonantola, Italy  Full Time      Entry-level   48K+ *   \n",
       "4     Arlington, VA, United States  Full Time        Mid-level    108K+   \n",
       "\n",
       "                          Requirment of the company   \\\n",
       "0  Computer Science,Data quality,Genetics,Mathema...   \n",
       "1           Agile,Data management,Finance,Security,,   \n",
       "2  Agile,Architecture,AWS,Computer Science,Comput...   \n",
       "3       Engineering,Industrial,Oracle,Power BI,R,R&D   \n",
       "4  AWS,Azure,Computer Science,Consulting,Dataflow...   \n",
       "\n",
       "                                          Facilities  \n",
       "0                                               ,,,,  \n",
       "1                                               ,,,,  \n",
       "2                             Career development,,,,  \n",
       "3                                               ,,,,  \n",
       "4  Flex hours,Flex vacation,Parental leave,Unlimi...  "
      ]
     },
     "execution_count": 3,
     "metadata": {},
     "output_type": "execute_result"
    }
   ],
   "source": [
    "df.head()"
   ]
  },
  {
   "cell_type": "code",
   "execution_count": 4,
   "metadata": {
    "cell_id": "6b495534f2c540c58b5d10da1cf760eb",
    "deepnote_app_coordinates": {
     "h": 5,
     "w": 12,
     "x": 0,
     "y": 0
    },
    "deepnote_cell_type": "code",
    "deepnote_to_be_reexecuted": false,
    "execution_millis": 7,
    "execution_start": 1691694260118,
    "source_hash": "38febf"
   },
   "outputs": [
    {
     "data": {
      "text/plain": [
       "(3198, 8)"
      ]
     },
     "execution_count": 4,
     "metadata": {},
     "output_type": "execute_result"
    }
   ],
   "source": [
    "#Number of rows and columns\n",
    "df.shape"
   ]
  },
  {
   "cell_type": "code",
   "execution_count": 5,
   "metadata": {
    "cell_id": "866f76f5394749e4be7b54b74680a63d",
    "deepnote_app_coordinates": {
     "h": 5,
     "w": 12,
     "x": 0,
     "y": 0
    },
    "deepnote_cell_type": "code",
    "deepnote_to_be_reexecuted": false,
    "execution_millis": 12,
    "execution_start": 1691694262044,
    "source_hash": "de1e323c"
   },
   "outputs": [
    {
     "name": "stdout",
     "output_type": "stream",
     "text": [
      "<class 'pandas.core.frame.DataFrame'>\n",
      "RangeIndex: 3198 entries, 0 to 3197\n",
      "Data columns (total 8 columns):\n",
      " #   Column                      Non-Null Count  Dtype \n",
      "---  ------                      --------------  ----- \n",
      " 0   Company                     3197 non-null   object\n",
      " 1   Job Title                   3197 non-null   object\n",
      " 2   Location                    3197 non-null   object\n",
      " 3   Job Type                    3197 non-null   object\n",
      " 4   Experience level            2962 non-null   object\n",
      " 5   Salary                      3009 non-null   object\n",
      " 6   Requirment of the company   3198 non-null   object\n",
      " 7   Facilities                  3198 non-null   object\n",
      "dtypes: object(8)\n",
      "memory usage: 200.0+ KB\n"
     ]
    }
   ],
   "source": [
    "df.info()"
   ]
  },
  {
   "cell_type": "code",
   "execution_count": 6,
   "metadata": {
    "cell_id": "c91aea14a9f34893967323d0e3b3997d",
    "deepnote_app_coordinates": {
     "h": 5,
     "w": 12,
     "x": 0,
     "y": 0
    },
    "deepnote_cell_type": "code",
    "deepnote_to_be_reexecuted": false,
    "execution_millis": 428,
    "execution_start": 1691694263785,
    "source_hash": "f88152d9"
   },
   "outputs": [
    {
     "data": {
      "application/vnd.deepnote.dataframe.v3+json": {
       "column_count": 8,
       "columns": [
        {
         "dtype": "object",
         "name": "Company",
         "stats": {
          "categories": [
           {
            "count": 1,
            "name": "3197"
           },
           {
            "count": 1,
            "name": "1106"
           },
           {
            "count": 2,
            "name": "2 others"
           }
          ],
          "nan_count": 0,
          "unique_count": 4
         }
        },
        {
         "dtype": "object",
         "name": "Job Title",
         "stats": {
          "categories": [
           {
            "count": 1,
            "name": "3197"
           },
           {
            "count": 1,
            "name": "2138"
           },
           {
            "count": 2,
            "name": "2 others"
           }
          ],
          "nan_count": 0,
          "unique_count": 4
         }
        },
        {
         "dtype": "object",
         "name": "Location",
         "stats": {
          "categories": [
           {
            "count": 1,
            "name": "3197"
           },
           {
            "count": 1,
            "name": "1117"
           },
           {
            "count": 2,
            "name": "2 others"
           }
          ],
          "nan_count": 0,
          "unique_count": 4
         }
        },
        {
         "dtype": "object",
         "name": "Job Type",
         "stats": {
          "categories": [
           {
            "count": 1,
            "name": "3197"
           },
           {
            "count": 1,
            "name": "3"
           },
           {
            "count": 2,
            "name": "2 others"
           }
          ],
          "nan_count": 0,
          "unique_count": 4
         }
        },
        {
         "dtype": "object",
         "name": "Experience level",
         "stats": {
          "categories": [
           {
            "count": 1,
            "name": "2962"
           },
           {
            "count": 1,
            "name": "4"
           },
           {
            "count": 2,
            "name": "2 others"
           }
          ],
          "nan_count": 0,
          "unique_count": 4
         }
        },
        {
         "dtype": "object",
         "name": "Salary",
         "stats": {
          "categories": [
           {
            "count": 1,
            "name": "3009"
           },
           {
            "count": 1,
            "name": "218"
           },
           {
            "count": 2,
            "name": "2 others"
           }
          ],
          "nan_count": 0,
          "unique_count": 4
         }
        },
        {
         "dtype": "object",
         "name": "Requirment of the company ",
         "stats": {
          "categories": [
           {
            "count": 1,
            "name": "3198"
           },
           {
            "count": 1,
            "name": "2600"
           },
           {
            "count": 2,
            "name": "2 others"
           }
          ],
          "nan_count": 0,
          "unique_count": 4
         }
        },
        {
         "dtype": "object",
         "name": "Facilities",
         "stats": {
          "categories": [
           {
            "count": 1,
            "name": "3198"
           },
           {
            "count": 1,
            "name": "777"
           },
           {
            "count": 2,
            "name": "2 others"
           }
          ],
          "nan_count": 0,
          "unique_count": 4
         }
        },
        {
         "dtype": "object",
         "name": "_deepnote_index_column"
        }
       ],
       "row_count": 4,
       "rows": [
        {
         "Company": "3197",
         "Experience level": "2962",
         "Facilities": "3198",
         "Job Title": "3197",
         "Job Type": "3197",
         "Location": "3197",
         "Requirment of the company ": "3198",
         "Salary": "3009",
         "_deepnote_index_column": "count"
        },
        {
         "Company": "1106",
         "Experience level": "4",
         "Facilities": "777",
         "Job Title": "2138",
         "Job Type": "3",
         "Location": "1117",
         "Requirment of the company ": "2600",
         "Salary": "218",
         "_deepnote_index_column": "unique"
        },
        {
         "Company": "Publicis Groupe",
         "Experience level": "Senior-level",
         "Facilities": ",,,,",
         "Job Title": "Data Engineer",
         "Job Type": "Full Time",
         "Location": "Bengaluru, India",
         "Requirment of the company ": "Big Data,Business Intelligence,Data analysis,EDA,Excel,Machine Learning",
         "Salary": " 115K+ *",
         "_deepnote_index_column": "top"
        },
        {
         "Company": "126",
         "Experience level": "1876",
         "Facilities": "542",
         "Job Title": "105",
         "Job Type": "3116",
         "Location": "90",
         "Requirment of the company ": "12",
         "Salary": "253",
         "_deepnote_index_column": "freq"
        }
       ]
      },
      "text/html": [
       "<div>\n",
       "<style scoped>\n",
       "    .dataframe tbody tr th:only-of-type {\n",
       "        vertical-align: middle;\n",
       "    }\n",
       "\n",
       "    .dataframe tbody tr th {\n",
       "        vertical-align: top;\n",
       "    }\n",
       "\n",
       "    .dataframe thead th {\n",
       "        text-align: right;\n",
       "    }\n",
       "</style>\n",
       "<table border=\"1\" class=\"dataframe\">\n",
       "  <thead>\n",
       "    <tr style=\"text-align: right;\">\n",
       "      <th></th>\n",
       "      <th>Company</th>\n",
       "      <th>Job Title</th>\n",
       "      <th>Location</th>\n",
       "      <th>Job Type</th>\n",
       "      <th>Experience level</th>\n",
       "      <th>Salary</th>\n",
       "      <th>Requirment of the company</th>\n",
       "      <th>Facilities</th>\n",
       "    </tr>\n",
       "  </thead>\n",
       "  <tbody>\n",
       "    <tr>\n",
       "      <th>count</th>\n",
       "      <td>3197</td>\n",
       "      <td>3197</td>\n",
       "      <td>3197</td>\n",
       "      <td>3197</td>\n",
       "      <td>2962</td>\n",
       "      <td>3009</td>\n",
       "      <td>3198</td>\n",
       "      <td>3198</td>\n",
       "    </tr>\n",
       "    <tr>\n",
       "      <th>unique</th>\n",
       "      <td>1106</td>\n",
       "      <td>2138</td>\n",
       "      <td>1117</td>\n",
       "      <td>3</td>\n",
       "      <td>4</td>\n",
       "      <td>218</td>\n",
       "      <td>2600</td>\n",
       "      <td>777</td>\n",
       "    </tr>\n",
       "    <tr>\n",
       "      <th>top</th>\n",
       "      <td>Publicis Groupe</td>\n",
       "      <td>Data Engineer</td>\n",
       "      <td>Bengaluru, India</td>\n",
       "      <td>Full Time</td>\n",
       "      <td>Senior-level</td>\n",
       "      <td>115K+ *</td>\n",
       "      <td>Big Data,Business Intelligence,Data analysis,E...</td>\n",
       "      <td>,,,,</td>\n",
       "    </tr>\n",
       "    <tr>\n",
       "      <th>freq</th>\n",
       "      <td>126</td>\n",
       "      <td>105</td>\n",
       "      <td>90</td>\n",
       "      <td>3116</td>\n",
       "      <td>1876</td>\n",
       "      <td>253</td>\n",
       "      <td>12</td>\n",
       "      <td>542</td>\n",
       "    </tr>\n",
       "  </tbody>\n",
       "</table>\n",
       "</div>"
      ],
      "text/plain": [
       "                Company      Job Title          Location   Job Type  \\\n",
       "count              3197           3197              3197       3197   \n",
       "unique             1106           2138              1117          3   \n",
       "top     Publicis Groupe  Data Engineer  Bengaluru, India  Full Time   \n",
       "freq                126            105                90       3116   \n",
       "\n",
       "       Experience level    Salary  \\\n",
       "count              2962      3009   \n",
       "unique                4       218   \n",
       "top        Senior-level   115K+ *   \n",
       "freq               1876       253   \n",
       "\n",
       "                               Requirment of the company  Facilities  \n",
       "count                                                3198       3198  \n",
       "unique                                               2600        777  \n",
       "top     Big Data,Business Intelligence,Data analysis,E...       ,,,,  \n",
       "freq                                                   12        542  "
      ]
     },
     "execution_count": 6,
     "metadata": {},
     "output_type": "execute_result"
    }
   ],
   "source": [
    "df.describe()"
   ]
  },
  {
   "cell_type": "markdown",
   "metadata": {
    "cell_id": "2c83e7dc418d447882d227ac7d6af965",
    "deepnote_app_coordinates": {
     "h": 5,
     "w": 12,
     "x": 0,
     "y": 0
    },
    "deepnote_cell_type": "text-cell-h3",
    "formattedRanges": []
   },
   "source": [
    "### Rename the columns"
   ]
  },
  {
   "cell_type": "code",
   "execution_count": 7,
   "metadata": {
    "cell_id": "b9c40df8dbe846e7b531a80804ab461d",
    "deepnote_app_coordinates": {
     "h": 5,
     "w": 12,
     "x": 0,
     "y": 0
    },
    "deepnote_cell_type": "code",
    "deepnote_to_be_reexecuted": false,
    "execution_millis": 7,
    "execution_start": 1691694265658,
    "source_hash": "c9202413"
   },
   "outputs": [],
   "source": [
    "df.columns=['Company','JobTitle','Location','JobType','ExperienceLevel','Salary','JobRequirements','JobBenefits']"
   ]
  },
  {
   "cell_type": "code",
   "execution_count": 8,
   "metadata": {
    "cell_id": "c164cfe082464cba86f3d59522f65785",
    "deepnote_app_coordinates": {
     "h": 5,
     "w": 12,
     "x": 0,
     "y": 0
    },
    "deepnote_cell_type": "code",
    "deepnote_to_be_reexecuted": false,
    "execution_millis": 149,
    "execution_start": 1691694266579,
    "source_hash": "c085b6ba"
   },
   "outputs": [
    {
     "data": {
      "application/vnd.deepnote.dataframe.v3+json": {
       "column_count": 8,
       "columns": [
        {
         "dtype": "object",
         "name": "Company",
         "stats": {
          "categories": [
           {
            "count": 1,
            "name": "SGS"
           },
           {
            "count": 1,
            "name": "Ocorian"
           },
           {
            "count": 3,
            "name": "3 others"
           }
          ],
          "nan_count": 0,
          "unique_count": 5
         }
        },
        {
         "dtype": "object",
         "name": "JobTitle",
         "stats": {
          "categories": [
           {
            "count": 1,
            "name": "Clinical Data Analyst"
           },
           {
            "count": 1,
            "name": "AML/CFT & Data Analyst"
           },
           {
            "count": 3,
            "name": "3 others"
           }
          ],
          "nan_count": 0,
          "unique_count": 5
         }
        },
        {
         "dtype": "object",
         "name": "Location",
         "stats": {
          "categories": [
           {
            "count": 1,
            "name": "Richardson, TX, United States"
           },
           {
            "count": 1,
            "name": "Ebène, Mauritius"
           },
           {
            "count": 3,
            "name": "3 others"
           }
          ],
          "nan_count": 0,
          "unique_count": 5
         }
        },
        {
         "dtype": "object",
         "name": "JobType",
         "stats": {
          "categories": [
           {
            "count": 5,
            "name": "Full Time"
           }
          ],
          "nan_count": 0,
          "unique_count": 1
         }
        },
        {
         "dtype": "object",
         "name": "ExperienceLevel",
         "stats": {
          "categories": [
           {
            "count": 3,
            "name": "Entry-level"
           },
           {
            "count": 1,
            "name": "Mid-level"
           },
           {
            "count": 1,
            "name": "Missing"
           }
          ],
          "nan_count": 1,
          "unique_count": 2
         }
        },
        {
         "dtype": "object",
         "name": "Salary",
         "stats": {
          "categories": [
           {
            "count": 3,
            "name": " 48K+ *"
           },
           {
            "count": 1,
            "name": " 90K+ *"
           },
           {
            "count": 1,
            "name": " 108K+"
           }
          ],
          "nan_count": 0,
          "unique_count": 3
         }
        },
        {
         "dtype": "object",
         "name": "JobRequirements",
         "stats": {
          "categories": [
           {
            "count": 1,
            "name": "Computer Science,Data quality,Genetics,Mathematics,SAS,Statistics"
           },
           {
            "count": 1,
            "name": "Agile,Data management,Finance,Security,,"
           },
           {
            "count": 3,
            "name": "3 others"
           }
          ],
          "nan_count": 0,
          "unique_count": 5
         }
        },
        {
         "dtype": "object",
         "name": "JobBenefits",
         "stats": {
          "categories": [
           {
            "count": 3,
            "name": ",,,,"
           },
           {
            "count": 1,
            "name": "Career development,,,,"
           },
           {
            "count": 1,
            "name": "Flex hours,Flex vacation,Parental leave,Unlimited paid time off,"
           }
          ],
          "nan_count": 0,
          "unique_count": 3
         }
        },
        {
         "dtype": "int64",
         "name": "_deepnote_index_column"
        }
       ],
       "row_count": 5,
       "rows": [
        {
         "Company": "SGS",
         "ExperienceLevel": "Entry-level",
         "JobBenefits": ",,,,",
         "JobRequirements": "Computer Science,Data quality,Genetics,Mathematics,SAS,Statistics",
         "JobTitle": "Clinical Data Analyst",
         "JobType": "Full Time",
         "Location": "Richardson, TX, United States",
         "Salary": " 48K+ *",
         "_deepnote_index_column": 0
        },
        {
         "Company": "Ocorian",
         "ExperienceLevel": "Entry-level",
         "JobBenefits": ",,,,",
         "JobRequirements": "Agile,Data management,Finance,Security,,",
         "JobTitle": "AML/CFT & Data Analyst",
         "JobType": "Full Time",
         "Location": "Ebène, Mauritius",
         "Salary": " 48K+ *",
         "_deepnote_index_column": 1
        },
        {
         "Company": "Cricut",
         "ExperienceLevel": "nan",
         "JobBenefits": "Career development,,,,",
         "JobRequirements": "Agile,Architecture,AWS,Computer Science,Computer Vision,Deep Learning",
         "JobTitle": "Machine Learning Engineer",
         "JobType": "Full Time",
         "Location": "South Jordan, UT, United States",
         "Salary": " 90K+ *",
         "_deepnote_index_column": 2
        },
        {
         "Company": "Bosch Group",
         "ExperienceLevel": "Entry-level",
         "JobBenefits": ",,,,",
         "JobRequirements": "Engineering,Industrial,Oracle,Power BI,R,R&D",
         "JobTitle": "Application Developer & Data Analyst",
         "JobType": "Full Time",
         "Location": "Nonantola, Italy",
         "Salary": " 48K+ *",
         "_deepnote_index_column": 3
        },
        {
         "Company": "Publicis Groupe",
         "ExperienceLevel": "Mid-level",
         "JobBenefits": "Flex hours,Flex vacation,Parental leave,Unlimited paid time off,",
         "JobRequirements": "AWS,Azure,Computer Science,Consulting,Dataflow,Data pipelines",
         "JobTitle": "Data Engineer Full time (Public Sector) USA",
         "JobType": "Full Time",
         "Location": "Arlington, VA, United States",
         "Salary": " 108K+",
         "_deepnote_index_column": 4
        }
       ]
      },
      "text/html": [
       "<div>\n",
       "<style scoped>\n",
       "    .dataframe tbody tr th:only-of-type {\n",
       "        vertical-align: middle;\n",
       "    }\n",
       "\n",
       "    .dataframe tbody tr th {\n",
       "        vertical-align: top;\n",
       "    }\n",
       "\n",
       "    .dataframe thead th {\n",
       "        text-align: right;\n",
       "    }\n",
       "</style>\n",
       "<table border=\"1\" class=\"dataframe\">\n",
       "  <thead>\n",
       "    <tr style=\"text-align: right;\">\n",
       "      <th></th>\n",
       "      <th>Company</th>\n",
       "      <th>JobTitle</th>\n",
       "      <th>Location</th>\n",
       "      <th>JobType</th>\n",
       "      <th>ExperienceLevel</th>\n",
       "      <th>Salary</th>\n",
       "      <th>JobRequirements</th>\n",
       "      <th>JobBenefits</th>\n",
       "    </tr>\n",
       "  </thead>\n",
       "  <tbody>\n",
       "    <tr>\n",
       "      <th>0</th>\n",
       "      <td>SGS</td>\n",
       "      <td>Clinical Data Analyst</td>\n",
       "      <td>Richardson, TX, United States</td>\n",
       "      <td>Full Time</td>\n",
       "      <td>Entry-level</td>\n",
       "      <td>48K+ *</td>\n",
       "      <td>Computer Science,Data quality,Genetics,Mathema...</td>\n",
       "      <td>,,,,</td>\n",
       "    </tr>\n",
       "    <tr>\n",
       "      <th>1</th>\n",
       "      <td>Ocorian</td>\n",
       "      <td>AML/CFT &amp; Data Analyst</td>\n",
       "      <td>Ebène, Mauritius</td>\n",
       "      <td>Full Time</td>\n",
       "      <td>Entry-level</td>\n",
       "      <td>48K+ *</td>\n",
       "      <td>Agile,Data management,Finance,Security,,</td>\n",
       "      <td>,,,,</td>\n",
       "    </tr>\n",
       "    <tr>\n",
       "      <th>2</th>\n",
       "      <td>Cricut</td>\n",
       "      <td>Machine Learning Engineer</td>\n",
       "      <td>South Jordan, UT, United States</td>\n",
       "      <td>Full Time</td>\n",
       "      <td>NaN</td>\n",
       "      <td>90K+ *</td>\n",
       "      <td>Agile,Architecture,AWS,Computer Science,Comput...</td>\n",
       "      <td>Career development,,,,</td>\n",
       "    </tr>\n",
       "    <tr>\n",
       "      <th>3</th>\n",
       "      <td>Bosch Group</td>\n",
       "      <td>Application Developer &amp; Data Analyst</td>\n",
       "      <td>Nonantola, Italy</td>\n",
       "      <td>Full Time</td>\n",
       "      <td>Entry-level</td>\n",
       "      <td>48K+ *</td>\n",
       "      <td>Engineering,Industrial,Oracle,Power BI,R,R&amp;D</td>\n",
       "      <td>,,,,</td>\n",
       "    </tr>\n",
       "    <tr>\n",
       "      <th>4</th>\n",
       "      <td>Publicis Groupe</td>\n",
       "      <td>Data Engineer Full time (Public Sector) USA</td>\n",
       "      <td>Arlington, VA, United States</td>\n",
       "      <td>Full Time</td>\n",
       "      <td>Mid-level</td>\n",
       "      <td>108K+</td>\n",
       "      <td>AWS,Azure,Computer Science,Consulting,Dataflow...</td>\n",
       "      <td>Flex hours,Flex vacation,Parental leave,Unlimi...</td>\n",
       "    </tr>\n",
       "  </tbody>\n",
       "</table>\n",
       "</div>"
      ],
      "text/plain": [
       "           Company                                     JobTitle  \\\n",
       "0              SGS                        Clinical Data Analyst   \n",
       "1          Ocorian                       AML/CFT & Data Analyst   \n",
       "2           Cricut                    Machine Learning Engineer   \n",
       "3      Bosch Group         Application Developer & Data Analyst   \n",
       "4  Publicis Groupe  Data Engineer Full time (Public Sector) USA   \n",
       "\n",
       "                          Location    JobType ExperienceLevel   Salary  \\\n",
       "0    Richardson, TX, United States  Full Time     Entry-level   48K+ *   \n",
       "1                 Ebène, Mauritius  Full Time     Entry-level   48K+ *   \n",
       "2  South Jordan, UT, United States  Full Time             NaN   90K+ *   \n",
       "3                 Nonantola, Italy  Full Time     Entry-level   48K+ *   \n",
       "4     Arlington, VA, United States  Full Time       Mid-level    108K+   \n",
       "\n",
       "                                     JobRequirements  \\\n",
       "0  Computer Science,Data quality,Genetics,Mathema...   \n",
       "1           Agile,Data management,Finance,Security,,   \n",
       "2  Agile,Architecture,AWS,Computer Science,Comput...   \n",
       "3       Engineering,Industrial,Oracle,Power BI,R,R&D   \n",
       "4  AWS,Azure,Computer Science,Consulting,Dataflow...   \n",
       "\n",
       "                                         JobBenefits  \n",
       "0                                               ,,,,  \n",
       "1                                               ,,,,  \n",
       "2                             Career development,,,,  \n",
       "3                                               ,,,,  \n",
       "4  Flex hours,Flex vacation,Parental leave,Unlimi...  "
      ]
     },
     "execution_count": 8,
     "metadata": {},
     "output_type": "execute_result"
    }
   ],
   "source": [
    "df.head()"
   ]
  },
  {
   "cell_type": "markdown",
   "metadata": {
    "cell_id": "0ef985f80aaa4edbaadb56467076922c",
    "deepnote_app_coordinates": {
     "h": 5,
     "w": 12,
     "x": 0,
     "y": 0
    },
    "deepnote_cell_type": "text-cell-h3",
    "formattedRanges": []
   },
   "source": [
    "### Nulls checking"
   ]
  },
  {
   "cell_type": "code",
   "execution_count": 9,
   "metadata": {
    "cell_id": "6f091a50870b4056821711f6c3bfb48a",
    "deepnote_app_coordinates": {
     "h": 5,
     "w": 12,
     "x": 0,
     "y": 0
    },
    "deepnote_cell_type": "code",
    "deepnote_to_be_reexecuted": false,
    "execution_millis": 10,
    "execution_start": 1691694268238,
    "source_hash": "be3b9ac4"
   },
   "outputs": [
    {
     "name": "stdout",
     "output_type": "stream",
     "text": [
      "Company              1\n",
      "JobTitle             1\n",
      "Location             1\n",
      "JobType              1\n",
      "ExperienceLevel    236\n",
      "Salary             189\n",
      "JobRequirements      0\n",
      "JobBenefits          0\n",
      "dtype: int64\n"
     ]
    }
   ],
   "source": [
    "print(df.isnull().sum())"
   ]
  },
  {
   "cell_type": "markdown",
   "metadata": {
    "cell_id": "6be4ab788c4d4eb9958bc51400c611e8",
    "deepnote_app_coordinates": {
     "h": 5,
     "w": 12,
     "x": 0,
     "y": 0
    },
    "deepnote_cell_type": "text-cell-h3",
    "formattedRanges": []
   },
   "source": [
    "### Drop nulls in Company,JobTitle,JobType"
   ]
  },
  {
   "cell_type": "code",
   "execution_count": 10,
   "metadata": {
    "cell_id": "36732bf449df4859ab5cce9bddc96044",
    "deepnote_app_coordinates": {
     "h": 5,
     "w": 12,
     "x": 0,
     "y": 0
    },
    "deepnote_cell_type": "code",
    "deepnote_to_be_reexecuted": false,
    "execution_millis": 14,
    "execution_start": 1691694269914,
    "source_hash": "8b9b7c0e"
   },
   "outputs": [
    {
     "name": "stdout",
     "output_type": "stream",
     "text": [
      "Company              0\n",
      "JobTitle             0\n",
      "Location             0\n",
      "JobType              0\n",
      "ExperienceLevel    232\n",
      "Salary               0\n",
      "JobRequirements      0\n",
      "JobBenefits          0\n",
      "dtype: int64\n"
     ]
    }
   ],
   "source": [
    "df.dropna(subset=['Company','JobTitle','JobType','Salary'],axis=0,inplace=True)\n",
    "print(df.isnull().sum())"
   ]
  },
  {
   "cell_type": "markdown",
   "metadata": {
    "cell_id": "b7090d47f3774d24a1f277e117cf1f21",
    "deepnote_app_coordinates": {
     "h": 5,
     "w": 12,
     "x": 0,
     "y": 0
    },
    "deepnote_cell_type": "text-cell-h3",
    "formattedRanges": []
   },
   "source": [
    "### Filling nulls in Experience level with 'Not Specified'"
   ]
  },
  {
   "cell_type": "code",
   "execution_count": 11,
   "metadata": {
    "cell_id": "8ccb4d00b1f14617986c34c99ffbabf7",
    "deepnote_app_coordinates": {
     "h": 5,
     "w": 12,
     "x": 0,
     "y": 0
    },
    "deepnote_cell_type": "code",
    "deepnote_to_be_reexecuted": false,
    "execution_millis": 12,
    "execution_start": 1691694271581,
    "source_hash": "8ad92585"
   },
   "outputs": [
    {
     "name": "stdout",
     "output_type": "stream",
     "text": [
      "['Entry-level' nan 'Mid-level' 'Senior-level' 'Executive-level']\n"
     ]
    }
   ],
   "source": [
    "print(df.ExperienceLevel.unique())"
   ]
  },
  {
   "cell_type": "code",
   "execution_count": 12,
   "metadata": {
    "cell_id": "23e9feb03ade41fdb5b0be0044690e04",
    "deepnote_app_coordinates": {
     "h": 5,
     "w": 12,
     "x": 0,
     "y": 0
    },
    "deepnote_cell_type": "code",
    "deepnote_to_be_reexecuted": false,
    "execution_millis": 15,
    "execution_start": 1691694272448,
    "source_hash": "596b8a37"
   },
   "outputs": [
    {
     "name": "stdout",
     "output_type": "stream",
     "text": [
      "['Entry-level' 'Not Specified' 'Mid-level' 'Senior-level'\n",
      " 'Executive-level']\n",
      "Company            0\n",
      "JobTitle           0\n",
      "Location           0\n",
      "JobType            0\n",
      "ExperienceLevel    0\n",
      "Salary             0\n",
      "JobRequirements    0\n",
      "JobBenefits        0\n",
      "dtype: int64\n"
     ]
    }
   ],
   "source": [
    "df['ExperienceLevel'].fillna('Not Specified',inplace=True)\n",
    "print(df.ExperienceLevel.unique())\n",
    "print(df.isnull().sum())"
   ]
  },
  {
   "cell_type": "markdown",
   "metadata": {
    "cell_id": "21b373e4e7744ac3a543945ce4c410fe",
    "deepnote_app_coordinates": {
     "h": 5,
     "w": 12,
     "x": 0,
     "y": 0
    },
    "deepnote_cell_type": "text-cell-h3",
    "formattedRanges": []
   },
   "source": [
    "### Change the Values of Salary to numeric data type"
   ]
  },
  {
   "cell_type": "code",
   "execution_count": 13,
   "metadata": {
    "cell_id": "e63087c7cf914e5f93b57b027615f4bc",
    "deepnote_app_coordinates": {
     "h": 5,
     "w": 12,
     "x": 0,
     "y": 0
    },
    "deepnote_cell_type": "code",
    "deepnote_to_be_reexecuted": false,
    "execution_millis": 79,
    "execution_start": 1691694273982,
    "source_hash": "73896270"
   },
   "outputs": [
    {
     "name": "stdout",
     "output_type": "stream",
     "text": [
      "[' 48K+ *' ' 90K+ *' ' 108K+' ' 184K+' ' 39K+ *' ' 140K+' ' 40K+ *'\n",
      " ' 80K+ *' ' 35K+ *' ' 62K+ *' ' 159K+' ' 97K+' ' 92K+ *' ' 129K+ *'\n",
      " ' 115K+ *' ' 44K+ *' ' 73K+ *' ' 59K+ *' ' 106K+' ' 105K+ *' ' 55K+ *'\n",
      " ' 110K+ *' ' 63K+ *' ' 49K+ *' ' 180K+' ' 127K+' ' 60K+' ' 45K+ *'\n",
      " ' 135K+' ' 69K+ *' ' 176K+' ' 65K+ *' ' 51K+ *' ' 67K+' ' 104K+' ' 105K+'\n",
      " ' 166K+' ' 131K+ *' ' 115K+' ' 43K+' ' 81K+ *' ' 96K+ *' ' 56K+ *'\n",
      " ' 130K+' ' 131K+' ' 50K+ *' ' 100K+' ' 60K+ *' ' 52K+' ' 135K+ *' ' 76K+'\n",
      " ' 172K+' ' 119K+' ' 125K+' ' 116K+' ' 77K+ *' ' 74K+ *' ' 70K+ *'\n",
      " ' 120K+' ' 189K+' ' 149K+' ' 110K+' ' 90K+' ' 30K+ *' ' 167K+' ' 236K+'\n",
      " ' 179K+' ' 80K+' ' 200K+' ' 139K+' ' 129K+' ' 113K+' ' 150K+' ' 158K+'\n",
      " ' 40K+' ' 184K+ *' ' 133K+' ' 78K+' ' 36K+ *' ' 122K+ *' ' 81K+' ' 59K+'\n",
      " 'EUR 81K' ' 190K+' ' 72K+' ' 136K+' ' 102K+ *' ' 31K+ *' ' 89K+ *'\n",
      " ' 156K+' ' 107K+' ' 199K+' ' 224K+' ' 142K+' 'GBP 35K' ' 183K+' ' 164K+'\n",
      " 'EUR 130K+' ' 174K+' ' 84K+' ' 79K+' ' 103K+ *' ' 143K+' ' 175K+'\n",
      " ' 170K+' ' 141K+ *' ' 283K+' ' 151K+' ' 111K+' ' 51K+' ' 96K+' ' 148K+'\n",
      " ' 204K+' ' 202K+' ' 295K+' ' 68K+' ' 195K+' ' 145K+' ' 50K+' ' 267K+'\n",
      " ' 200K+ *' ' 109K+ *' ' 310K+' ' 153K+' ' 154K+' ' 86K+' ' 70K+' ' 207K+'\n",
      " ' 85K+' ' 66K+' ' 315K+' ' 160K+' ' 66K+ *' ' 144K+' ' 245K+' ' 126K+'\n",
      " ' 63K+' ' 182K+' ' 157K+' ' 214K+' ' 173K+' 'EUR 80K+' ' 120K+ *'\n",
      " 'EUR 36K+' 'EUR 60K+' 'GBP 42K+' ' 112K+' ' 124K+' ' 185K+' ' 147K+'\n",
      " ' 122K+' 'GBP 80K+' ' 144K+ *' ' 146K+' ' 165K+' ' 75K+' ' 163K+'\n",
      " ' 193K+' ' 109K+' 'GBP 60K+' ' 218K+' ' 230K+' ' 168K+' ' 134K+' ' 225K+'\n",
      " ' 253K+' ' 83K+' ' 235K+' ' 187K+' ' 227K+' ' 73K+' ' 61K+ *' ' 171K+'\n",
      " ' 234K+' 'GBP 45K+' ' 155K+' ' 71K+' ' 94K+' ' 57K+ *' ' 197K+' ' 102K+'\n",
      " ' 82K+' ' 177K+' 'GBP 50K+' ' 93K+' ' 55K+' ' 121K+' ' 42K+ *' ' 45K+'\n",
      " ' 75K+ *' ' 152K+' ' 161K+' ' 155K+ *' ' 132K+' 'GBP 55K+' ' 138K+'\n",
      " ' 196K+' ' 205K+' 'GBP 65K+' ' 178K+' ' 95K+' ' 33K+ *' ' 54K+ *' ' 98K+'\n",
      " ' 141K+' ' 95K+ *' ' 65K+' 'GBP 55K' ' 99K+' ' 220K+' ' 74K+' ' 103K+'\n",
      " ' 100K+ *' 'GBP 51K+' ' 128K+' 'GBP 54K+' ' 123K+' ' 117K+']\n"
     ]
    }
   ],
   "source": [
    "print(df['Salary'].unique())"
   ]
  },
  {
   "cell_type": "code",
   "execution_count": 20,
   "metadata": {
    "cell_id": "9bb774b130c34ec5bb3638676a465296",
    "deepnote_app_coordinates": {
     "h": 5,
     "w": 12,
     "x": 0,
     "y": 0
    },
    "deepnote_cell_type": "code",
    "deepnote_to_be_reexecuted": false,
    "execution_millis": 112,
    "execution_start": 1691694316080,
    "source_hash": "f309b498"
   },
   "outputs": [
    {
     "name": "stdout",
     "output_type": "stream",
     "text": [
      "['48000' '90000' '108000' '184000' '39000' '140000' '40000' '80000'\n",
      " '35000' '62000' '159000' '97000' '92000' '129000' '115000' '44000'\n",
      " '73000' '59000' '106000' '105000' '55000' '110000' '63000' '49000'\n",
      " '180000' '127000' '60000' '45000' '135000' '69000' '176000' '65000'\n",
      " '51000' '67000' '104000' '166000' '131000' '43000' '81000' '96000'\n",
      " '56000' '130000' '50000' '100000' '52000' '76000' '172000' '119000'\n",
      " '125000' '116000' '77000' '74000' '70000' '120000' '189000' '149000'\n",
      " '30000' '167000' '236000' '179000' '200000' '139000' '113000' '150000'\n",
      " '158000' '133000' '78000' '36000' '122000' '190000' '72000' '136000'\n",
      " '102000' '31000' '89000' '156000' '107000' '199000' '224000' '142000'\n",
      " '183000' '164000' '174000' '84000' '79000' '103000' '143000' '175000'\n",
      " '170000' '141000' '283000' '151000' '111000' '148000' '204000' '202000'\n",
      " '295000' '68000' '195000' '145000' '267000' '109000' '310000' '153000'\n",
      " '154000' '86000' '207000' '85000' '66000' '315000' '160000' '144000'\n",
      " '245000' '126000' '182000' '157000' '214000' '173000' '42000' '112000'\n",
      " '124000' '185000' '147000' '146000' '165000' '75000' '163000' '193000'\n",
      " '218000' '230000' '168000' '134000' '225000' '253000' '83000' '235000'\n",
      " '187000' '227000' '61000' '171000' '234000' '155000' '71000' '94000'\n",
      " '57000' '197000' '82000' '177000' '93000' '121000' '152000' '161000'\n",
      " '132000' '138000' '196000' '205000' '178000' '95000' '33000' '54000'\n",
      " '98000' '99000' '220000' '128000' '123000' '117000']\n"
     ]
    }
   ],
   "source": [
    "df['Salary'] = df['Salary'].apply(lambda x: re.sub(r'[^0-9]', '',str(x)))\n",
    "print(df['Salary'].unique())"
   ]
  },
  {
   "cell_type": "code",
   "execution_count": 21,
   "metadata": {
    "cell_id": "d91550319de74da2a8eac3ea985122cc",
    "deepnote_app_coordinates": {
     "h": 5,
     "w": 12,
     "x": 0,
     "y": 0
    },
    "deepnote_cell_type": "code",
    "deepnote_to_be_reexecuted": false,
    "execution_millis": 49,
    "execution_start": 1691694318062,
    "source_hash": "8309810f"
   },
   "outputs": [],
   "source": [
    "df['Salary'] = df['Salary']+('000')"
   ]
  },
  {
   "cell_type": "code",
   "execution_count": 22,
   "metadata": {
    "cell_id": "41a97e73c5df4157a7b9342503a04835",
    "deepnote_app_coordinates": {
     "h": 5,
     "w": 12,
     "x": 0,
     "y": 0
    },
    "deepnote_cell_type": "code",
    "deepnote_to_be_reexecuted": false,
    "execution_millis": 14,
    "execution_start": 1691694320286,
    "source_hash": "ad0fc388"
   },
   "outputs": [],
   "source": [
    "df['Salary'] = pd.to_numeric(df['Salary'])\n"
   ]
  },
  {
   "cell_type": "code",
   "execution_count": 23,
   "metadata": {
    "cell_id": "177fa5d272f7486d84dccd73e7026592",
    "deepnote_app_coordinates": {
     "h": 5,
     "w": 12,
     "x": 0,
     "y": 0
    },
    "deepnote_cell_type": "code",
    "deepnote_to_be_reexecuted": false,
    "execution_millis": 9,
    "execution_start": 1691694321424,
    "source_hash": "5308d219"
   },
   "outputs": [
    {
     "name": "stdout",
     "output_type": "stream",
     "text": [
      "int64\n"
     ]
    }
   ],
   "source": [
    "print(df.Salary.dtype)"
   ]
  },
  {
   "cell_type": "code",
   "execution_count": 24,
   "metadata": {
    "cell_id": "21fb338c6a7048f082731a9e828a8bb3",
    "deepnote_app_coordinates": {
     "h": 5,
     "w": 12,
     "x": 0,
     "y": 0
    },
    "deepnote_cell_type": "code",
    "deepnote_to_be_reexecuted": false,
    "execution_millis": 80,
    "execution_start": 1691694322723,
    "source_hash": "73896270"
   },
   "outputs": [
    {
     "name": "stdout",
     "output_type": "stream",
     "text": [
      "[ 48000000  90000000 108000000 184000000  39000000 140000000  40000000\n",
      "  80000000  35000000  62000000 159000000  97000000  92000000 129000000\n",
      " 115000000  44000000  73000000  59000000 106000000 105000000  55000000\n",
      " 110000000  63000000  49000000 180000000 127000000  60000000  45000000\n",
      " 135000000  69000000 176000000  65000000  51000000  67000000 104000000\n",
      " 166000000 131000000  43000000  81000000  96000000  56000000 130000000\n",
      "  50000000 100000000  52000000  76000000 172000000 119000000 125000000\n",
      " 116000000  77000000  74000000  70000000 120000000 189000000 149000000\n",
      "  30000000 167000000 236000000 179000000 200000000 139000000 113000000\n",
      " 150000000 158000000 133000000  78000000  36000000 122000000 190000000\n",
      "  72000000 136000000 102000000  31000000  89000000 156000000 107000000\n",
      " 199000000 224000000 142000000 183000000 164000000 174000000  84000000\n",
      "  79000000 103000000 143000000 175000000 170000000 141000000 283000000\n",
      " 151000000 111000000 148000000 204000000 202000000 295000000  68000000\n",
      " 195000000 145000000 267000000 109000000 310000000 153000000 154000000\n",
      "  86000000 207000000  85000000  66000000 315000000 160000000 144000000\n",
      " 245000000 126000000 182000000 157000000 214000000 173000000  42000000\n",
      " 112000000 124000000 185000000 147000000 146000000 165000000  75000000\n",
      " 163000000 193000000 218000000 230000000 168000000 134000000 225000000\n",
      " 253000000  83000000 235000000 187000000 227000000  61000000 171000000\n",
      " 234000000 155000000  71000000  94000000  57000000 197000000  82000000\n",
      " 177000000  93000000 121000000 152000000 161000000 132000000 138000000\n",
      " 196000000 205000000 178000000  95000000  33000000  54000000  98000000\n",
      "  99000000 220000000 128000000 123000000 117000000]\n"
     ]
    }
   ],
   "source": [
    "print(df['Salary'].unique())"
   ]
  },
  {
   "cell_type": "markdown",
   "metadata": {
    "cell_id": "22a1c7f247e34f298f9a6ef796936c45",
    "deepnote_app_coordinates": {
     "h": 5,
     "w": 12,
     "x": 0,
     "y": 0
    },
    "deepnote_cell_type": "text-cell-h3",
    "formattedRanges": []
   },
   "source": [
    "### Cleaning JobBenefits column"
   ]
  },
  {
   "cell_type": "markdown",
   "metadata": {
    "cell_id": "79a8b127f9bf4c48a9e39d8ce86c7d17",
    "deepnote_app_coordinates": {
     "h": 5,
     "w": 12,
     "x": 0,
     "y": 0
    },
    "deepnote_cell_type": "markdown"
   },
   "source": [
    "- change ',,,,' to Not Specified.\n",
    "- make all the records separated with single comma only. "
   ]
  },
  {
   "cell_type": "code",
   "execution_count": 25,
   "metadata": {
    "cell_id": "b10bbe3d2394498792806179c572bcc3",
    "deepnote_app_coordinates": {
     "h": 5,
     "w": 12,
     "x": 0,
     "y": 0
    },
    "deepnote_cell_type": "code",
    "deepnote_to_be_reexecuted": false,
    "execution_millis": 155,
    "execution_start": 1691694325809,
    "source_hash": "1499603f"
   },
   "outputs": [
    {
     "data": {
      "text/plain": [
       "array([',,,,', 'Career development,,,,',\n",
       "       'Flex hours,Flex vacation,Parental leave,Unlimited paid time off,',\n",
       "       '401(k) matching,Career development,Competitive pay,Equity,Flex hours',\n",
       "       'Gear,,,,',\n",
       "       'Career development,Medical leave,Salary bonus,Startup environment,',\n",
       "       'Career development,Health care,Medical leave,,',\n",
       "       'Career development,Startup environment,,,', 'Flex hours,,,,',\n",
       "       'Team events,,,,',\n",
       "       'Career development,Competitive pay,Health care,Salary bonus,',\n",
       "       'Flex hours,Flex vacation,Home office stipend,Parental leave,Startup environment',\n",
       "       'Competitive pay,Equity,Health care,Insurance,',\n",
       "       'Career development,Equity,Fitness / gym,Home office stipend,Relocation support',\n",
       "       'Career development,Flex hours,,,',\n",
       "       'Career development,Team events,,,',\n",
       "       'Career development,Flex hours,Health care,,', 'Health care,,,,',\n",
       "       'Career development,Flex vacation,,,', 'Fitness / gym,,,,',\n",
       "       'Career development,Flex hours,Health care,Startup environment,',\n",
       "       'Startup environment,,,,',\n",
       "       'Career development,Fitness / gym,Flex hours,Flex vacation,Health care',\n",
       "       'Career development,Equity,Flex hours,Flex vacation,Health care',\n",
       "       'Career development,Relocation support,,,',\n",
       "       'Career development,Competitive pay,Health care,,',\n",
       "       'Career development,Flex hours,Startup environment,,',\n",
       "       'Flex hours,Flex vacation,,,',\n",
       "       'Career development,Fitness / gym,Flex hours,Flex vacation,Gear',\n",
       "       '401(k) matching,Career development,Competitive pay,Equity,Fertility benefits',\n",
       "       'Salary bonus,Startup environment,,,',\n",
       "       'Career development,Competitive pay,Equity,Salary bonus,',\n",
       "       'Equity,,,,', 'Career development,Conferences,Flex hours,,',\n",
       "       'Career development,Conferences,Equity,Health care,',\n",
       "       'Cell phone stipend,Competitive pay,Fitness / gym,Health care,Insurance',\n",
       "       'Career development,Competitive pay,Conferences,Equity,Health care',\n",
       "       'Career development,Home office stipend,,,',\n",
       "       '401(k) matching,Health care,Salary bonus,Wellness,',\n",
       "       'Career development,Competitive pay,,,',\n",
       "       '401(k) matching,Career development,Equity,Gear,Health care',\n",
       "       'Career development,Equity,Fitness / gym,Flex hours,Flex vacation',\n",
       "       'Career development,Startup environment,Team events,,',\n",
       "       'Career development,Competitive pay,Equity,Flex hours,Team events',\n",
       "       'Career development,Competitive pay,Flex hours,Health care,Salary bonus',\n",
       "       'Flex hours,Health care,Insurance,Medical leave,',\n",
       "       'Career development,Flex hours,Flex vacation,Health care,Insurance',\n",
       "       'Career development,Health care,Insurance,,',\n",
       "       'Career development,Flex hours,Parental leave,,',\n",
       "       'Career development,Equity,Salary bonus,,', 'Insurance,,,,',\n",
       "       'Flex hours,Flex vacation,Medical leave,Salary bonus,Wellness',\n",
       "       'Career development,Competitive pay,Flex hours,Flex vacation,Health care',\n",
       "       'Equity,Health care,Insurance,Salary bonus,Wellness',\n",
       "       'Career development,Competitive pay,Salary bonus,,',\n",
       "       '401(k) matching,Flex hours,Flex vacation,Health care,Salary bonus',\n",
       "       'Career development,Competitive pay,Equity,Fitness / gym,Health care',\n",
       "       'Career development,Competitive pay,Equity,Flex hours,Flex vacation',\n",
       "       '401(k) matching,Competitive pay,Equity,Health care,Insurance',\n",
       "       'Competitive pay,Flex vacation,Gear,Medical leave,Parental leave',\n",
       "       'Competitive pay,Health care,Team events,,',\n",
       "       'Career development,Competitive pay,Startup environment,Team events,',\n",
       "       'Career development,Flex vacation,Startup environment,,',\n",
       "       'Competitive pay,Flex vacation,,,',\n",
       "       'Career development,Flex hours,Flex vacation,Health care,Startup environment',\n",
       "       'Competitive pay,Equity,Flex vacation,Health care,Salary bonus',\n",
       "       'Career development,Equity,Flex vacation,Startup environment,Transparency',\n",
       "       'Career development,Equity,Flex hours,Health care,Startup environment',\n",
       "       'Transparency,,,,',\n",
       "       'Career development,Equity,Health care,Insurance,Parental leave',\n",
       "       'Career development,Equity,Health care,Home office stipend,Insurance',\n",
       "       'Career development,Insurance,,,',\n",
       "       'Career development,Equity,Health care,Insurance,Medical leave',\n",
       "       'Career development,Flex hours,Health care,Home office stipend,',\n",
       "       'Career development,Fitness / gym,Health care,Insurance,',\n",
       "       'Career development,Conferences,,,',\n",
       "       'Career development,Equity,Health care,Insurance,Salary bonus',\n",
       "       'Flex hours,Startup environment,,,',\n",
       "       '401(k) matching,Career development,Equity,Flex vacation,Health care',\n",
       "       'Career development,Competitive pay,Conferences,Fitness / gym,Gear',\n",
       "       'Career development,Competitive pay,Conferences,Fertility benefits,Health care',\n",
       "       'Career development,Health care,Insurance,Medical leave,Parental leave',\n",
       "       '401(k) matching,Career development,Conferences,Equity,Flex hours',\n",
       "       'Competitive pay,Equity,Health care,Medical leave,Parental leave',\n",
       "       'Fitness / gym,Flex hours,Flex vacation,Home office stipend,Salary bonus',\n",
       "       '401(k) matching,Career development,Competitive pay,Equity,Flex vacation',\n",
       "       '401(k) matching,,,,',\n",
       "       'Career development,Parental leave,Wellness,,',\n",
       "       'Career development,Flex hours,Flex vacation,Health care,Home office stipend',\n",
       "       '401(k) matching,Equity,Flex hours,Flex vacation,Health care',\n",
       "       'Career development,Conferences,Flex vacation,Health care,Insurance',\n",
       "       'Career development,Competitive pay,Conferences,Salary bonus,Startup environment',\n",
       "       'Career development,Competitive pay,Flex hours,Team events,',\n",
       "       'Conferences,Startup environment,Team events,,',\n",
       "       'Career development,Equity,Flex hours,Salary bonus,',\n",
       "       'Career development,Competitive pay,Conferences,Equity,Salary bonus',\n",
       "       '401(k) matching,Competitive pay,Equity,Fertility benefits,Fitness / gym',\n",
       "       'Career development,Competitive pay,Fitness / gym,Health care,Insurance',\n",
       "       '401(k) matching,Career development,Competitive pay,Flex hours,Flex vacation',\n",
       "       'Career development,Competitive pay,Health care,Startup environment,',\n",
       "       'Career development,Parental leave,,,',\n",
       "       'Career development,Conferences,Flex hours,Flex vacation,Health care',\n",
       "       'Career development,Competitive pay,Health care,Insurance,',\n",
       "       'Career development,Conferences,Startup environment,Team events,',\n",
       "       'Career development,Competitive pay,Flex vacation,Health care,Insurance',\n",
       "       'Career development,Medical leave,,,',\n",
       "       'Career development,Competitive pay,Flex hours,Health care,Home office stipend',\n",
       "       'Career development,Health care,,,',\n",
       "       'Equity,Health care,Insurance,Medical leave,Parental leave',\n",
       "       'Flex hours,Flex vacation,Parental leave,,',\n",
       "       'Competitive pay,Health care,Medical leave,Parental leave,',\n",
       "       'Career development,Competitive pay,Equity,Health care,Home office stipend',\n",
       "       'Career development,Lunch / meals,Team events,,',\n",
       "       'Career development,Equity,Flex hours,Health care,Salary bonus',\n",
       "       'Career development,Conferences,Health care,Medical leave,Parental leave',\n",
       "       'Career development,Competitive pay,Equity,Flex hours,Health care',\n",
       "       'Career development,Competitive pay,Equity,Startup environment,Transparency',\n",
       "       'Career development,Competitive pay,Salary bonus,Wellness,',\n",
       "       'Career development,Health care,Startup environment,Team events,',\n",
       "       'Health care,Wellness,,,',\n",
       "       'Competitive pay,Startup environment,,,',\n",
       "       'Competitive pay,Health care,Relocation support,,',\n",
       "       '401(k) matching,Career development,Health care,Startup environment,',\n",
       "       '401(k) matching,Career development,Competitive pay,Equity,Health care',\n",
       "       'Career development,Equity,Flex vacation,Health care,Insurance',\n",
       "       'Career development,Flex hours,Startup environment,Yoga,',\n",
       "       'Career development,Startup environment,Unlimited paid time off,,',\n",
       "       'Career development,Conferences,Equity,Flex hours,Health care',\n",
       "       'Career development,Competitive pay,Team events,,',\n",
       "       'Career development,Conferences,Flex hours,Parental leave,',\n",
       "       'Career development,Insurance,Parental leave,Salary bonus,Startup environment',\n",
       "       'Career development,Health care,Startup environment,,',\n",
       "       'Career development,Competitive pay,Equity,Health care,Parental leave',\n",
       "       'Flex vacation,Gear,Health care,Team events,',\n",
       "       'Career development,Flex hours,Salary bonus,Startup environment,Team events',\n",
       "       'Career development,Conferences,Flex vacation,Parental leave,',\n",
       "       'Career development,Flex hours,Team events,Yoga,',\n",
       "       'Career development,Equity,Flex hours,Flex vacation,Home office stipend',\n",
       "       'Health care,Insurance,,,',\n",
       "       '401(k) matching,Career development,Equity,Flex hours,Flex vacation',\n",
       "       'Career development,Equity,,,',\n",
       "       '401(k) matching,Career development,Competitive pay,Health care,Insurance',\n",
       "       'Career development,Equity,Flex hours,Flex vacation,Salary bonus',\n",
       "       'Career development,Conferences,Gear,Lunch / meals,Salary bonus',\n",
       "       'Career development,Competitive pay,Equity,,',\n",
       "       'Career development,Equity,Flex hours,Home office stipend,',\n",
       "       'Career development,Competitive pay,Equity,Startup environment,Team events',\n",
       "       'Career development,Competitive pay,Startup environment,,',\n",
       "       'Career development,Flex hours,Flex vacation,Health care,Relocation support',\n",
       "       'Career development,Competitive pay,Conferences,Flex hours,Flex vacation',\n",
       "       'Career development,Conferences,Startup environment,,',\n",
       "       'Career development,Competitive pay,Parental leave,Startup environment,Wellness',\n",
       "       '401(k) matching,Competitive pay,Equity,Flex hours,Flex vacation',\n",
       "       '401(k) matching,Health care,Insurance,Wellness,',\n",
       "       'Career development,Competitive pay,Equity,Flex vacation,Health care',\n",
       "       'Competitive pay,Flex hours,Health care,Team events,',\n",
       "       'Salary bonus,,,,',\n",
       "       'Career development,Competitive pay,Health care,Team events,',\n",
       "       'Flex hours,Salary bonus,,,',\n",
       "       'Career development,Equity,Gear,Medical leave,Salary bonus',\n",
       "       'Career development,Flex vacation,Health care,Home office stipend,Parental leave',\n",
       "       '401(k) matching,Career development,Flex hours,Flex vacation,Health care',\n",
       "       'Competitive pay,Equity,,,',\n",
       "       'Career development,Conferences,Salary bonus,Startup environment,',\n",
       "       'Competitive pay,Flex hours,Flex vacation,Health care,Salary bonus',\n",
       "       'Career development,Flex vacation,Health care,Medical leave,Parental leave',\n",
       "       'Competitive pay,Lunch / meals,Startup environment,Wellness,',\n",
       "       'Competitive pay,Fertility benefits,Flex hours,Health care,Medical leave',\n",
       "       'Equity,Relocation support,,,',\n",
       "       'Career development,Conferences,Health care,Lunch / meals,Medical leave',\n",
       "       'Flex hours,Flex vacation,Gear,Home office stipend,Team events',\n",
       "       'Conferences,,,,',\n",
       "       'Career development,Competitive pay,Flex hours,Gear,Startup environment',\n",
       "       'Equity,Flex hours,Flex vacation,Health care,Insurance',\n",
       "       'Career development,Fitness / gym,Flex hours,Flex vacation,Salary bonus',\n",
       "       'Career development,Insurance,Team events,,',\n",
       "       'Equity,Flex hours,Insurance,Team events,',\n",
       "       'Career development,Flex hours,Flex vacation,Startup environment,Team events',\n",
       "       'Career development,Flex hours,Health care,Team events,',\n",
       "       'Flex hours,Health care,Insurance,,',\n",
       "       'Career development,Equity,Startup environment,Unlimited paid time off,Wellness',\n",
       "       'Career development,Equity,Flex hours,Health care,Insurance',\n",
       "       'Career development,Competitive pay,Equity,Flex hours,Medical leave',\n",
       "       'Career development,Flex hours,Health care,Parental leave,Relocation support',\n",
       "       '401(k) matching,Career development,Flex hours,Flexible spending account,Flex vacation',\n",
       "       'Travel,,,,',\n",
       "       'Career development,Conferences,Equity,Flex hours,Flex vacation',\n",
       "       '401(k) matching,Career development,Equity,Health care,Medical leave',\n",
       "       'Flex vacation,Medical leave,,,',\n",
       "       'Competitive pay,Equity,Flex hours,Health care,Salary bonus',\n",
       "       'Career development,Flex hours,Insurance,Startup environment,Team events',\n",
       "       'Career development,Equity,Startup environment,Team events,',\n",
       "       'Competitive pay,Flex hours,,,',\n",
       "       'Career development,Competitive pay,Equity,Medical leave,Parental leave',\n",
       "       'Career development,Competitive pay,Equity,Flex vacation,Salary bonus',\n",
       "       'Career development,Flex vacation,Health care,Home office stipend,Medical leave',\n",
       "       'Career development,Competitive pay,Equity,Fertility benefits,Flex hours',\n",
       "       'Career development,Flex hours,Flex vacation,Health care,Team events',\n",
       "       '401(k) matching,Career development,Equity,Fertility benefits,Health care',\n",
       "       '401(k) matching,Career development,Fertility benefits,Flex hours,Flex vacation',\n",
       "       'Flex hours,Flex vacation,Transparency,Unlimited paid time off,',\n",
       "       'Career development,Health care,Salary bonus,,',\n",
       "       '401(k) matching,Career development,Competitive pay,Flex vacation,Health care',\n",
       "       'Career development,Flex hours,Flex vacation,Salary bonus,',\n",
       "       'Career development,Equity,Flex hours,Flex vacation,Team events',\n",
       "       'Career development,Yoga,,,', 'Flex hours,Team events,,,',\n",
       "       'Career development,Fitness / gym,Health care,Parental leave,Startup environment',\n",
       "       'Equity,Flex hours,,,',\n",
       "       'Career development,Equity,Flex hours,Health care,Home office stipend',\n",
       "       'Health care,Insurance,Medical leave,Salary bonus,',\n",
       "       'Competitive pay,Insurance,,,',\n",
       "       'Startup environment,Team events,,,',\n",
       "       'Career development,Medical leave,Startup environment,,',\n",
       "       'Career development,Flex hours,Salary bonus,Team events,',\n",
       "       'Career development,Travel,,,',\n",
       "       'Career development,Flex hours,Health care,Medical leave,Parental leave',\n",
       "       'Career development,Competitive pay,Fitness / gym,Gear,Health care',\n",
       "       'Career development,Competitive pay,Insurance,,',\n",
       "       'Career development,Flex hours,Salary bonus,Startup environment,',\n",
       "       'Career development,Competitive pay,Flex hours,Parental leave,Salary bonus',\n",
       "       'Career development,Competitive pay,Flex hours,Health care,Team events',\n",
       "       'Career development,Equity,Health care,Medical leave,Unlimited paid time off',\n",
       "       'Career development,Competitive pay,Flex vacation,Home office stipend,Insurance',\n",
       "       '401(k) matching,Competitive pay,Health care,Insurance,Salary bonus',\n",
       "       'Competitive pay,Startup environment,Team events,,',\n",
       "       '401(k) matching,Career development,Conferences,Flex hours,Flex vacation',\n",
       "       'Career development,Equity,Team events,,', 'Competitive pay,,,,',\n",
       "       'Career development,Flex hours,Flex vacation,Team events,',\n",
       "       'Career development,Parental leave,Team events,,',\n",
       "       '401(k) matching,Career development,Competitive pay,Conferences,Fitness / gym',\n",
       "       '401(k) matching,Career development,Cell phone stipend,Competitive pay,Conferences',\n",
       "       'Career development,Equity,Health care,,',\n",
       "       'Competitive pay,Flex hours,Health care,Startup environment,',\n",
       "       'Career development,Competitive pay,Flex hours,Flex vacation,Gear',\n",
       "       'Career development,Flex hours,Flex vacation,,',\n",
       "       'Career development,Competitive pay,Conferences,Health care,Salary bonus',\n",
       "       '401(k) matching,Career development,Competitive pay,Fitness / gym,Flex hours',\n",
       "       'Career development,Fitness / gym,Flex hours,Health care,Medical leave',\n",
       "       'Career development,Flex hours,Flex vacation,Insurance,Parental leave',\n",
       "       'Flex hours,Flex vacation,Startup environment,Team events,',\n",
       "       'Equity,Flex hours,Flex vacation,Health care,Unlimited paid time off',\n",
       "       'Career development,Competitive pay,Health care,Insurance,Startup environment',\n",
       "       'Career development,Flex vacation,Health care,Insurance,Medical leave',\n",
       "       '401(k) matching,Career development,Flexible spending account,Flex vacation,Health care',\n",
       "       'Career development,Conferences,Flex vacation,Health care,Startup environment',\n",
       "       'Career development,Competitive pay,Equity,Health care,Team events',\n",
       "       'Competitive pay,Equity,Flex vacation,Health care,Wellness',\n",
       "       'Career development,Equity,Insurance,Startup environment,Team events',\n",
       "       'Career development,Fitness / gym,,,',\n",
       "       'Home office stipend,Startup environment,Team events,Yoga,',\n",
       "       'Career development,Competitive pay,Fitness / gym,Flex hours,Flex vacation',\n",
       "       'Career development,Competitive pay,Flex vacation,Health care,Startup environment',\n",
       "       'Career development,Equity,Flex hours,Health care,Parental leave',\n",
       "       'Flex hours,Gear,,,',\n",
       "       'Flex hours,Flex vacation,Medical leave,Salary bonus,Team events',\n",
       "       'Health care,Insurance,Team events,,',\n",
       "       'Career development,Health care,Medical leave,Salary bonus,',\n",
       "       'Career development,Conferences,Health care,Salary bonus,',\n",
       "       'Career development,Health care,Team events,,',\n",
       "       'Career development,Relocation support,Startup environment,,',\n",
       "       'Career development,Equity,Flex hours,Startup environment,',\n",
       "       'Career development,Equity,Flex hours,,',\n",
       "       'Career development,Competitive pay,Equity,Fertility benefits,Flex vacation',\n",
       "       'Career development,Flex vacation,Health care,Team events,',\n",
       "       'Career development,Conferences,Flex hours,Home office stipend,Startup environment',\n",
       "       'Career development,Startup environment,Travel,,',\n",
       "       'Equity,Health care,,,',\n",
       "       'Career development,Flex vacation,Startup environment,Team events,',\n",
       "       'Career development,Equity,Fertility benefits,Flex hours,Flex vacation',\n",
       "       '401(k) matching,Career development,Equity,Health care,Insurance',\n",
       "       'Competitive pay,Conferences,Equity,Salary bonus,Startup environment',\n",
       "       'Career development,Conferences,Flex vacation,Health care,Salary bonus',\n",
       "       'Competitive pay,Flex hours,Health care,Snacks / Drinks,Team events',\n",
       "       'Conferences,Flex hours,Flex vacation,Health care,Unlimited paid time off',\n",
       "       'Career development,Flex vacation,Health care,Startup environment,Team events',\n",
       "       'Career development,Equity,Startup environment,,',\n",
       "       'Career development,Flex hours,Insurance,Parental leave,',\n",
       "       'Competitive pay,Equity,Flex hours,Startup environment,Team events',\n",
       "       'Career development,Flex hours,Medical leave,Parental leave,Salary bonus',\n",
       "       'Career development,Fitness / gym,Health care,Insurance,Medical leave',\n",
       "       '401(k) matching,Career development,Flex vacation,Health care,Salary bonus',\n",
       "       'Career development,Flex hours,Flex vacation,Health care,Parental leave',\n",
       "       'Equity,Flex hours,Flex vacation,Health care,',\n",
       "       'Career development,Home office stipend,Snacks / Drinks,Wellness,',\n",
       "       'Career development,Equity,Flex vacation,Insurance,Team events',\n",
       "       '401(k) matching,Career development,Health care,Startup environment,Wellness',\n",
       "       'Career development,Flex hours,Parental leave,Team events,',\n",
       "       'Career development,Equity,Startup environment,Team events,Transparency',\n",
       "       'Career development,Equity,Insurance,Team events,',\n",
       "       'Career development,Conferences,Team events,,',\n",
       "       'Career development,Competitive pay,Equity,Flex hours,',\n",
       "       'Career development,Insurance,Startup environment,,',\n",
       "       'Fitness / gym,Team events,,,',\n",
       "       'Career development,Conferences,Equity,Startup environment,',\n",
       "       'Flex hours,Insurance,Medical leave,Parental leave,',\n",
       "       'Wellness,,,,', 'Career development,Equity,Travel,,',\n",
       "       'Career development,Cell phone stipend,Competitive pay,Gear,Health care',\n",
       "       'Career development,Health care,Insurance,Medical leave,Startup environment',\n",
       "       'Career development,Flex hours,Flex vacation,Startup environment,Unlimited paid time off',\n",
       "       'Career development,Equity,Fitness / gym,Health care,Paid sabbatical',\n",
       "       'Career development,Flex vacation,Health care,Pet friendly,Startup environment',\n",
       "       'Flex vacation,Salary bonus,,,',\n",
       "       'Career development,Flex hours,Gear,Startup environment,Travel',\n",
       "       'Career development,Equity,Parental leave,Startup environment,Team events',\n",
       "       'Career development,Competitive pay,Conferences,Flex hours,Health care',\n",
       "       'Competitive pay,Flex hours,Flex vacation,Health care,Insurance',\n",
       "       'Career development,Competitive pay,Equity,Health care,Startup environment',\n",
       "       'Career development,Flex hours,Flex vacation,Startup environment,',\n",
       "       'Career development,Competitive pay,Equity,Health care,Medical leave',\n",
       "       'Career development,Equity,Flex hours,Insurance,Startup environment',\n",
       "       'Career development,Flex hours,Salary bonus,,',\n",
       "       'Career development,Wellness,,,',\n",
       "       'Flex hours,Flex vacation,Relocation support,,',\n",
       "       'Career development,Flex hours,Health care,Medical leave,Salary bonus',\n",
       "       'Career development,Flex hours,Flex vacation,Medical leave,Parental leave',\n",
       "       'Career development,Fitness / gym,Health care,Parental leave,',\n",
       "       'Career development,Gear,Health care,,',\n",
       "       'Career development,Equity,Flex hours,Parental leave,Startup environment',\n",
       "       'Career development,Conferences,Medical leave,Parental leave,Salary bonus',\n",
       "       'Career development,Health care,Pet friendly,Salary bonus,Team events',\n",
       "       'Career development,Lunch / meals,Yoga,,',\n",
       "       'Career development,Fitness / gym,Home office stipend,Insurance,Salary bonus',\n",
       "       'Career development,Competitive pay,Equity,Health care,Insurance',\n",
       "       '401(k) matching,Career development,Competitive pay,Conferences,Equity',\n",
       "       'Equity,Home office stipend,Relocation support,,',\n",
       "       'Career development,Medical leave,Salary bonus,,',\n",
       "       'Career development,Equity,Health care,Salary bonus,',\n",
       "       '401(k) matching,Career development,Competitive pay,Startup environment,',\n",
       "       '401(k) matching,Career development,Competitive pay,,',\n",
       "       'Career development,Competitive pay,Health care,Insurance,Relocation support',\n",
       "       'Career development,Equity,Flex vacation,Health care,Medical leave',\n",
       "       'Competitive pay,Equity,Health care,Insurance,Parental leave',\n",
       "       'Equity,Flex hours,Health care,Insurance,Parental leave',\n",
       "       'Career development,Conferences,Equity,,',\n",
       "       'Flex hours,Health care,Relocation support,Startup environment,',\n",
       "       'Flex hours,Flex vacation,Health care,,',\n",
       "       'Career development,Health care,Medical leave,Relocation support,Startup environment',\n",
       "       '401(k) matching,Competitive pay,Health care,Insurance,Startup environment',\n",
       "       'Career development,Conferences,Flex vacation,Health care,Relocation support',\n",
       "       '401(k) matching,Equity,Flex vacation,Health care,Insurance',\n",
       "       'Career development,Flex hours,Health care,Insurance,',\n",
       "       'Competitive pay,Equity,Health care,Salary bonus,Startup environment',\n",
       "       '401(k) matching,Health care,Medical leave,Parental leave,Team events',\n",
       "       'Career development,Competitive pay,Flex hours,Health care,Snacks / Drinks',\n",
       "       '401(k) matching,Flex hours,Flex vacation,Health care,Medical leave',\n",
       "       'Career development,Equity,Flex hours,Flex vacation,Startup environment',\n",
       "       'Competitive pay,Equity,Flex hours,Flex vacation,',\n",
       "       '401(k) matching,Career development,Cell phone stipend,Competitive pay,Gear',\n",
       "       'Equity,Salary bonus,,,',\n",
       "       'Flex hours,Startup environment,Team events,,',\n",
       "       'Career development,Health care,Startup environment,Wellness,',\n",
       "       'Career development,Flex hours,Team events,,',\n",
       "       'Competitive pay,Flex vacation,Startup environment,Team events,',\n",
       "       'Competitive pay,Equity,Flex vacation,Salary bonus,Startup environment',\n",
       "       '401(k) matching,Health care,Insurance,Medical leave,Parental leave',\n",
       "       '401(k) matching,Career development,Conferences,Flex vacation,Health care',\n",
       "       'Career development,Competitive pay,Fitness / gym,Health care,Parental leave',\n",
       "       'Insurance,Team events,,,',\n",
       "       'Career development,Equity,Flex vacation,Health care,Relocation support',\n",
       "       'Career development,Flex vacation,Gear,Health care,Insurance',\n",
       "       'Career development,Flex hours,Flex vacation,Health care,Medical leave',\n",
       "       'Career development,Flex hours,Flex vacation,Parental leave,Startup environment',\n",
       "       '401(k) matching,Career development,Conferences,Equity,Fitness / gym',\n",
       "       'Competitive pay,Flex vacation,Startup environment,,',\n",
       "       'Career development,Flex hours,Health care,Salary bonus,Startup environment',\n",
       "       'Career development,Flex hours,Startup environment,Team events,',\n",
       "       'Career development,Equity,Gear,Health care,Insurance',\n",
       "       'Career development,Flex vacation,Health care,,',\n",
       "       'Career development,Gear,Health care,Home office stipend,Insurance',\n",
       "       'Career development,Competitive pay,Flex hours,Parental leave,Startup environment',\n",
       "       'Flex hours,Flex vacation,Gear,Health care,',\n",
       "       'Career development,Flex vacation,Team events,,',\n",
       "       'Career development,Competitive pay,Equity,Flex hours,Startup environment',\n",
       "       'Career development,Salary bonus,,,',\n",
       "       'Flex hours,Flex vacation,Health care,Insurance,Parental leave',\n",
       "       'Career development,Equity,Medical leave,Startup environment,Team events',\n",
       "       'Career development,Competitive pay,Health care,Lunch / meals,Unlimited paid time off',\n",
       "       'Flex vacation,Gear,Health care,Insurance,',\n",
       "       'Career development,Parental leave,Salary bonus,Wellness,',\n",
       "       'Career development,Health care,Insurance,Salary bonus,',\n",
       "       'Career development,Competitive pay,Equity,Parental leave,Team events',\n",
       "       'Career development,Conferences,Flex hours,Flex vacation,Home office stipend',\n",
       "       'Career development,Health care,Parental leave,Salary bonus,',\n",
       "       'Career development,Competitive pay,Fertility benefits,Flex vacation,Gear',\n",
       "       'Career development,Conferences,Fitness / gym,Flex hours,Flex vacation',\n",
       "       'Career development,Startup environment,Transparency,,',\n",
       "       'Career development,Flat hierarchy,Startup environment,,',\n",
       "       'Career development,Conferences,Equity,Flex hours,Startup environment',\n",
       "       'Career development,Conferences,Equity,Salary bonus,',\n",
       "       'Career development,Home office stipend,Relocation support,Startup environment,',\n",
       "       'Career development,Flex hours,Parental leave,Startup environment,',\n",
       "       'Career development,Health care,Insurance,Startup environment,Yoga',\n",
       "       'Competitive pay,Flex hours,Gear,,',\n",
       "       '401(k) matching,Career development,Equity,Health care,Unlimited paid time off',\n",
       "       'Career development,Competitive pay,Equity,Health care,Salary bonus',\n",
       "       '401(k) matching,Career development,Flex hours,Flex vacation,Gear',\n",
       "       'Career development,Competitive pay,Fitness / gym,Flex hours,Health care',\n",
       "       'Equity,Health care,Salary bonus,,',\n",
       "       'Equity,Flex hours,Flex vacation,Parental leave,',\n",
       "       'Career development,Insurance,Parental leave,,',\n",
       "       'Career development,Competitive pay,Equity,Gear,Startup environment',\n",
       "       'Competitive pay,Equity,Health care,Insurance,Medical leave',\n",
       "       'Career development,Flex hours,Flex vacation,Gear,Health care',\n",
       "       'Equity,Startup environment,,,',\n",
       "       'Career development,Flex hours,Home office stipend,Paid sabbatical,Parental leave',\n",
       "       'Startup environment,Wellness,,,',\n",
       "       'Career development,Flex hours,Flex vacation,Health care,Wellness',\n",
       "       'Equity,Salary bonus,Startup environment,,',\n",
       "       'Career development,Competitive pay,Flex hours,Flex vacation,',\n",
       "       'Equity,Fitness / gym,Health care,Insurance,Startup environment',\n",
       "       'Health care,Insurance,Parental leave,Relocation support,',\n",
       "       'Career development,Competitive pay,Equity,Flex hours,Parental leave',\n",
       "       'Career development,Competitive pay,Equity,Fitness / gym,Flex hours',\n",
       "       'Competitive pay,Flex hours,Flex vacation,Salary bonus,',\n",
       "       'Competitive pay,Equity,Startup environment,Team events,',\n",
       "       'Competitive pay,Equity,Flex hours,Team events,',\n",
       "       'Flat hierarchy,Flex hours,Startup environment,,',\n",
       "       'Career development,Gear,Home office stipend,Relocation support,Signing bonus',\n",
       "       'Competitive pay,Equity,Fertility benefits,Flex hours,Flex vacation',\n",
       "       'Career development,Health care,Home office stipend,,',\n",
       "       'Flex hours,Flex vacation,Parental leave,Startup environment,',\n",
       "       'Career development,Health care,Medical leave,Startup environment,',\n",
       "       'Career development,Transparency,,,',\n",
       "       'Equity,Health care,Insurance,Relocation support,Salary bonus',\n",
       "       'Health care,Startup environment,,,',\n",
       "       'Health care,Medical leave,,,',\n",
       "       '401(k) matching,Career development,Flex vacation,Health care,Medical leave',\n",
       "       'Career development,Flex hours,Snacks / Drinks,Team events,',\n",
       "       'Career development,Equity,Health care,Home office stipend,Salary bonus',\n",
       "       'Competitive pay,Equity,Health care,Wellness,',\n",
       "       'Career development,Flex hours,Flex vacation,Relocation support,',\n",
       "       'Competitive pay,Flex hours,Startup environment,,',\n",
       "       'Career development,Flex vacation,Health care,Insurance,Unlimited paid time off',\n",
       "       '401(k) matching,Career development,Fertility benefits,Health care,Insurance',\n",
       "       'Career development,Equity,Lunch / meals,,',\n",
       "       '401(k) matching,Health care,Insurance,,',\n",
       "       'Competitive pay,Equity,Health care,Salary bonus,',\n",
       "       'Career development,Competitive pay,Health care,Salary bonus,Unlimited paid time off',\n",
       "       'Career development,Competitive pay,Flex hours,,',\n",
       "       'Career development,Conferences,Flex hours,Flex vacation,Team events',\n",
       "       'Career development,Equity,Flex vacation,,',\n",
       "       'Career development,Equity,Health care,Startup environment,',\n",
       "       'Career development,Flex hours,Flex vacation,Parental leave,Salary bonus',\n",
       "       'Career development,Flex hours,Health care,Startup environment,Team events',\n",
       "       'Career development,Competitive pay,Equity,Fertility benefits,Health care',\n",
       "       'Career development,Health care,Parental leave,Startup environment,',\n",
       "       'Flex hours,Flex vacation,Gear,Pet friendly,Salary bonus',\n",
       "       'Career development,Equity,Gear,Parental leave,Startup environment',\n",
       "       'Career development,Fitness / gym,Flex hours,,',\n",
       "       'Flex vacation,Health care,Insurance,,',\n",
       "       'Health care,Salary bonus,,,',\n",
       "       'Career development,Competitive pay,Conferences,Team events,',\n",
       "       '401(k) matching,Career development,Fertility benefits,Flex vacation,Snacks / Drinks',\n",
       "       'Health care,Parental leave,Startup environment,,',\n",
       "       'Health care,Salary bonus,Startup environment,,',\n",
       "       'Career development,Equity,Flex hours,Flex vacation,Gear',\n",
       "       'Competitive pay,Team events,,,',\n",
       "       'Career development,Competitive pay,Health care,Medical leave,Startup environment',\n",
       "       'Conferences,Startup environment,,,',\n",
       "       'Career development,Conferences,Insurance,Parental leave,Startup environment',\n",
       "       'Career development,Competitive pay,Fitness / gym,Flex hours,Home office stipend',\n",
       "       'Career development,Competitive pay,Salary bonus,Startup environment,',\n",
       "       'Career development,Parental leave,Startup environment,Wellness,',\n",
       "       'Competitive pay,Health care,Salary bonus,,',\n",
       "       '401(k) matching,Career development,Fitness / gym,Flex hours,Flex vacation',\n",
       "       '401(k) matching,Career development,Health care,Insurance,Startup environment',\n",
       "       'Equity,Flex vacation,Health care,Insurance,Medical leave',\n",
       "       'Career development,Health care,Startup environment,Transparency,',\n",
       "       '401(k) matching,Career development,Health care,Insurance,Medical leave',\n",
       "       'Career development,Competitive pay,Health care,Salary bonus,Wellness',\n",
       "       'Career development,Flex hours,Wellness,,',\n",
       "       'Career development,Medical leave,Parental leave,,',\n",
       "       '401(k) matching,Career development,Competitive pay,Fitness / gym,Flex vacation',\n",
       "       'Career development,Insurance,Salary bonus,,',\n",
       "       'Flex hours,Health care,Insurance,Team events,',\n",
       "       'Career development,Equity,Health care,Salary bonus,Startup environment',\n",
       "       'Career development,Flex vacation,Health care,Paid sabbatical,Parental leave',\n",
       "       'Career development,Competitive pay,Health care,Medical leave,Parental leave',\n",
       "       'Career development,Fitness / gym,Medical leave,Team events,Wellness',\n",
       "       'Career development,Competitive pay,Fertility benefits,Health care,Insurance',\n",
       "       'Career development,Equity,Home office stipend,,',\n",
       "       'Flex hours,Flex vacation,Health care,Startup environment,Wellness',\n",
       "       'Career development,Team events,Travel,,',\n",
       "       'Career development,Equity,Health care,Home office stipend,Medical leave',\n",
       "       'Career development,Competitive pay,Health care,Insurance,Wellness',\n",
       "       'Career development,Salary bonus,Team events,,',\n",
       "       'Career development,Startup environment,Team events,Transparency,',\n",
       "       'Career development,Equity,Fitness / gym,Health care,Relocation support',\n",
       "       'Fitness / gym,Flex hours,Health care,Snacks / Drinks,',\n",
       "       'Equity,Medical leave,Salary bonus,,',\n",
       "       'Flex hours,Flex vacation,Health care,Unlimited paid time off,',\n",
       "       'Fitness / gym,Health care,Salary bonus,Team events,',\n",
       "       'Competitive pay,Equity,Snacks / Drinks,Team events,',\n",
       "       'Home office stipend,,,,',\n",
       "       'Career development,Competitive pay,Flex hours,Health care,Startup environment',\n",
       "       'Career development,Fitness / gym,Flex hours,Health care,Snacks / Drinks',\n",
       "       'Medical leave,,,,',\n",
       "       'Career development,Flex hours,Medical leave,Parental leave,Relocation support',\n",
       "       'Career development,Equity,Health care,Parental leave,Wellness',\n",
       "       'Equity,Health care,Insurance,Medical leave,',\n",
       "       'Fitness / gym,Flex vacation,Health care,Home office stipend,Unlimited paid time off',\n",
       "       'Career development,Competitive pay,Conferences,Equity,Fertility benefits',\n",
       "       'Career development,Flex hours,Flex vacation,Health care,Paid sabbatical',\n",
       "       'Career development,Insurance,Parental leave,Snacks / Drinks,Startup environment',\n",
       "       'Career development,Flex hours,Salary bonus,Team events,Yoga',\n",
       "       'Career development,Insurance,Parental leave,Salary bonus,Snacks / Drinks',\n",
       "       'Equity,Flex vacation,Salary bonus,Startup environment,Team events',\n",
       "       'Career development,Flex hours,Health care,Team events,Transparency',\n",
       "       '401(k) matching,Equity,Fertility benefits,Health care,Insurance',\n",
       "       'Career development,Competitive pay,Conferences,Startup environment,',\n",
       "       'Career development,Conferences,Wellness,,',\n",
       "       'Competitive pay,Flex hours,Flex vacation,Salary bonus,Startup environment',\n",
       "       'Career development,Fitness / gym,Health care,Insurance,Salary bonus',\n",
       "       'Flex hours,Flex vacation,Health care,Startup environment,',\n",
       "       'Fitness / gym,Health care,Insurance,Salary bonus,Startup environment',\n",
       "       '401(k) matching,Career development,Competitive pay,Equity,Parental leave',\n",
       "       'Competitive pay,Health care,Salary bonus,Wellness,',\n",
       "       'Competitive pay,Equity,Flex vacation,Startup environment,',\n",
       "       'Career development,Equity,Home office stipend,Startup environment,Team events',\n",
       "       'Career development,Fitness / gym,Flex hours,Flex vacation,Home office stipend',\n",
       "       'Career development,Competitive pay,Flex hours,Flex vacation,Pet friendly',\n",
       "       'Competitive pay,Health care,Startup environment,,',\n",
       "       'Career development,Flex hours,Flex vacation,Health care,Pet friendly',\n",
       "       'Career development,Flex vacation,Gear,Health care,Startup environment',\n",
       "       'Career development,Equity,Flex hours,Team events,',\n",
       "       'Career development,Flex hours,Snacks / Drinks,Startup environment,Team events',\n",
       "       'Career development,Flex vacation,Health care,Medical leave,Unlimited paid time off',\n",
       "       'Career development,Equity,Flex hours,Health care,Relocation support',\n",
       "       'Flex vacation,,,,',\n",
       "       'Career development,Conferences,Flex hours,Health care,Medical leave',\n",
       "       'Career development,Signing bonus,,,',\n",
       "       'Career development,Fertility benefits,Fitness / gym,Health care,Insurance',\n",
       "       'Career development,Equity,Flex hours,Insurance,Parental leave',\n",
       "       'Equity,Flex vacation,Health care,Team events,Unlimited paid time off',\n",
       "       'Yoga,,,,', 'Competitive pay,Flat hierarchy,Flex hours,,',\n",
       "       'Career development,Health care,Salary bonus,Team events,Transparency',\n",
       "       'Career development,Conferences,Fitness / gym,Team events,',\n",
       "       '401(k) matching,Flex vacation,Health care,Unlimited paid time off,',\n",
       "       'Career development,Health care,Home office stipend,Startup environment,Team events',\n",
       "       'Career development,Flex hours,Flex vacation,Parental leave,Snacks / Drinks',\n",
       "       'Flex hours,Flex vacation,Startup environment,,',\n",
       "       '401(k) matching,Equity,Health care,Salary bonus,Unlimited paid time off',\n",
       "       'Career development,Flex hours,Medical leave,,',\n",
       "       'Career development,Equity,Health care,Medical leave,Parental leave',\n",
       "       '401(k) matching,Equity,Health care,Home office stipend,Unlimited paid time off',\n",
       "       'Career development,Fitness / gym,Health care,Lunch / meals,Startup environment',\n",
       "       'Career development,Equity,Team events,Travel,',\n",
       "       'Career development,Competitive pay,Equity,Health care,Lunch / meals',\n",
       "       'Medical leave,Salary bonus,,,',\n",
       "       'Career development,Competitive pay,Fitness / gym,Health care,Salary bonus',\n",
       "       'Career development,Flex hours,Startup environment,Travel,',\n",
       "       'Competitive pay,Insurance,Team events,,',\n",
       "       'Career development,Competitive pay,Health care,Salary bonus,Startup environment',\n",
       "       '401(k) matching,Flex hours,Flex vacation,Health care,Insurance',\n",
       "       'Career development,Equity,Medical leave,Startup environment,',\n",
       "       'Career development,Cell phone stipend,Competitive pay,Equity,Fertility benefits',\n",
       "       '401(k) matching,Career development,Competitive pay,Health care,Lunch / meals',\n",
       "       'Career development,Flex vacation,Gear,Health care,Home office stipend',\n",
       "       'Career development,Insurance,Parental leave,Salary bonus,',\n",
       "       'Career development,Flex hours,Medical leave,Parental leave,Startup environment',\n",
       "       'Career development,Flex vacation,Health care,Insurance,',\n",
       "       'Competitive pay,Equity,Flex hours,Flex vacation,Parental leave',\n",
       "       'Career development,Competitive pay,Conferences,Health care,Insurance',\n",
       "       'Career development,Gear,,,',\n",
       "       'Career development,Fertility benefits,Parental leave,,',\n",
       "       'Flex hours,Flex vacation,Team events,,',\n",
       "       'Career development,Health care,Medical leave,Wellness,',\n",
       "       'Fitness / gym,Health care,Insurance,Salary bonus,',\n",
       "       'Career development,Competitive pay,Equity,Relocation support,Salary bonus',\n",
       "       'Career development,Competitive pay,Health care,Insurance,Salary bonus',\n",
       "       'Career development,Competitive pay,Flex vacation,Health care,Medical leave',\n",
       "       'Career development,Competitive pay,Flex hours,Gear,Health care',\n",
       "       'Career development,Equity,Fitness / gym,Health care,Insurance',\n",
       "       'Equity,Flex hours,Flex vacation,Home office stipend,Salary bonus',\n",
       "       'Career development,Conferences,Salary bonus,,',\n",
       "       'Career development,Conferences,Flex vacation,,',\n",
       "       'Fitness / gym,Health care,Medical leave,Salary bonus,',\n",
       "       'Career development,Competitive pay,Equity,Salary bonus,Startup environment',\n",
       "       'Flex hours,Medical leave,Salary bonus,Startup environment,Team events',\n",
       "       'Competitive pay,Gear,Health care,Team events,',\n",
       "       'Competitive pay,Flex hours,Gear,Team events,',\n",
       "       'Career development,Competitive pay,Conferences,Equity,',\n",
       "       'Equity,Gear,Health care,Salary bonus,Startup environment',\n",
       "       'Flex hours,Health care,,,',\n",
       "       'Flex hours,Health care,Home office stipend,Salary bonus,',\n",
       "       '401(k) matching,Career development,Equity,Health care,',\n",
       "       'Competitive pay,Flex vacation,Team events,Unlimited paid time off,',\n",
       "       '401(k) matching,Career development,Competitive pay,Equity,Gear',\n",
       "       'Competitive pay,Equity,Flex hours,Flex vacation,Health care',\n",
       "       'Equity,Flex hours,Team events,Yoga,',\n",
       "       '401(k) matching,Career development,Competitive pay,Fitness / gym,Health care',\n",
       "       'Career development,Conferences,Flex hours,Health care,Home office stipend',\n",
       "       'Career development,Competitive pay,Gear,Relocation support,Transparency',\n",
       "       'Career development,Equity,Flex hours,Salary bonus,Yoga',\n",
       "       'Career development,Competitive pay,Health care,Medical leave,Pet friendly',\n",
       "       'Career development,Competitive pay,Equity,Flex hours,Insurance',\n",
       "       'Career development,Competitive pay,Equity,Health care,',\n",
       "       'Competitive pay,Equity,Health care,Parental leave,Startup environment',\n",
       "       'Career development,Startup environment,Contract,,',\n",
       "       'Career development,Flex hours,Pet friendly,Salary bonus,',\n",
       "       'Career development,Parental leave,Startup environment,Transparency,',\n",
       "       'Career development,Competitive pay,Equity,Flex hours,Flexible spending account',\n",
       "       'Home office stipend,Team events,,,',\n",
       "       '401(k) matching,Competitive pay,Equity,Health care,',\n",
       "       'Career development,Flex hours,Flex vacation,Insurance,Medical leave',\n",
       "       '401(k) matching,Career development,Competitive pay,Parental leave,Salary bonus',\n",
       "       'Career development,Equity,Health care,Medical leave,',\n",
       "       '401(k) matching,Career development,Competitive pay,Equity,Fitness / gym',\n",
       "       'Competitive pay,Equity,Unlimited paid time off,,',\n",
       "       'Career development,Competitive pay,Flex hours,Health care,Insurance',\n",
       "       'Career development,Competitive pay,Medical leave,Relocation support,',\n",
       "       'Flex hours,Medical leave,Parental leave,,',\n",
       "       '401(k) matching,Equity,Flex hours,Salary bonus,Team events',\n",
       "       'Fitness / gym,Health care,Insurance,Medical leave,',\n",
       "       'Career development,Flex hours,Health care,Parental leave,Salary bonus',\n",
       "       'Career development,Gear,Health care,Lunch / meals,Salary bonus',\n",
       "       'Career development,Competitive pay,Flex hours,Health care,',\n",
       "       'Equity,Health care,Parental leave,Startup environment,',\n",
       "       'Equity,Flex hours,Home office stipend,Startup environment,Team events',\n",
       "       'Flex hours,,Freelance,,',\n",
       "       'Career development,Snacks / Drinks,Wellness,,',\n",
       "       'Equity,Flex hours,Team events,,',\n",
       "       'Career development,Insurance,Salary bonus,Transparency,',\n",
       "       'Career development,Competitive pay,Health care,Parental leave,Salary bonus',\n",
       "       'Career development,Flex hours,Flex vacation,Health care,Unlimited paid time off',\n",
       "       'Career development,Equity,Fitness / gym,Health care,Home office stipend',\n",
       "       'Career development,Fitness / gym,Flex hours,Health care,Home office stipend',\n",
       "       'Equity,Flex hours,Health care,Insurance,',\n",
       "       'Equity,Flex hours,Salary bonus,Startup environment,Team events',\n",
       "       'Career development,Competitive pay,Fertility benefits,Health care,Medical leave',\n",
       "       'Career development,Fertility benefits,Parental leave,Startup environment,',\n",
       "       'Career development,Flex hours,Health care,Home office stipend,Salary bonus',\n",
       "       'Fitness / gym,Startup environment,Team events,,',\n",
       "       'Competitive pay,Equity,Health care,Salary bonus,Wellness',\n",
       "       'Flex hours,Health care,Insurance,Medical leave,Team events',\n",
       "       'Career development,Conferences,Flex hours,Salary bonus,Team events',\n",
       "       'Career development,Competitive pay,Conferences,Health care,Startup environment',\n",
       "       'Career development,Flex hours,Health care,Medical leave,',\n",
       "       'Competitive pay,Equity,Salary bonus,Startup environment,Transparency',\n",
       "       '401(k) matching,Career development,Competitive pay,Health care,Medical leave',\n",
       "       'Career development,Conferences,Flex vacation,Health care,',\n",
       "       'Career development,Conferences,Flex hours,Health care,Team events',\n",
       "       'Flat hierarchy,,,,',\n",
       "       'Career development,Flex vacation,Relocation support,Salary bonus,',\n",
       "       'Career development,Equity,Flat hierarchy,Gear,Signing bonus',\n",
       "       '401(k) matching,Competitive pay,Equity,Gear,',\n",
       "       'Competitive pay,Flex hours,Salary bonus,Startup environment,',\n",
       "       'Career development,Equity,Fertility benefits,Flex vacation,Health care',\n",
       "       '401(k) matching,Career development,Health care,Insurance,',\n",
       "       'Gear,Home office stipend,Startup environment,,',\n",
       "       'Flex hours,Salary bonus,Startup environment,Team events,Yoga',\n",
       "       '401(k) matching,Career development,Equity,Flex hours,Health care',\n",
       "       'Career development,Flex hours,Gear,Health care,Parental leave',\n",
       "       'Career development,Competitive pay,Conferences,Equity,Flex vacation',\n",
       "       'Career development,Relocation support,Startup environment,Team events,',\n",
       "       'Career development,Equity,Flex hours,Flex vacation,Medical leave',\n",
       "       '401(k) matching,Competitive pay,Equity,Flex hours,Health care',\n",
       "       'Career development,Health care,Insurance,Team events,',\n",
       "       'Career development,Fertility benefits,Flex hours,Flex vacation,Health care',\n",
       "       '401(k) matching,Flex vacation,Health care,Medical leave,Parental leave',\n",
       "       'Career development,Competitive pay,Equity,Home office stipend,',\n",
       "       'Competitive pay,Equity,Startup environment,,',\n",
       "       'Career development,Flex vacation,Health care,Parental leave,Startup environment',\n",
       "       'Career development,Flex hours,Flex vacation,Relocation support,Startup environment',\n",
       "       'Competitive pay,Equity,Team events,Unlimited paid time off,Wellness',\n",
       "       'Career development,Competitive pay,Gear,Home office stipend,Travel',\n",
       "       'Competitive pay,Home office stipend,,,',\n",
       "       'Career development,Health care,Parental leave,,',\n",
       "       'Career development,Competitive pay,Flat hierarchy,Flex hours,Relocation support',\n",
       "       '401(k) matching,Career development,Equity,Insurance,Parental leave',\n",
       "       'Health care,Pet friendly,Team events,,',\n",
       "       'Equity,Flex hours,Flex vacation,Gear,Health care',\n",
       "       '401(k) matching,Health care,Medical leave,Parental leave,',\n",
       "       'Career development,Competitive pay,Salary bonus,Team events,',\n",
       "       'Flex hours,Health care,Insurance,Parental leave,',\n",
       "       'Flex hours,Health care,Insurance,Parental leave,Startup environment',\n",
       "       'Career development,Equity,Health care,Insurance,Team events',\n",
       "       'Flex vacation,Relocation support,Team events,,',\n",
       "       'Career development,Competitive pay,Health care,Unlimited paid time off,',\n",
       "       '401(k) matching,Career development,Competitive pay,Health care,Startup environment',\n",
       "       '401(k) matching,Equity,Insurance,Parental leave,Wellness',\n",
       "       'Career development,Salary bonus,Startup environment,,',\n",
       "       '401(k) matching,Career development,Equity,Health care,Salary bonus',\n",
       "       'Competitive pay,Equity,Health care,Parental leave,Team events',\n",
       "       'Health care,Medical leave,Team events,,', 'Team events,Travel,,,',\n",
       "       'Career development,Equity,Flex hours,Startup environment,Team events',\n",
       "       'Flex hours,Flex vacation,Health care,Medical leave,Parental leave',\n",
       "       'Competitive pay,Equity,Salary bonus,Team events,Unlimited paid time off',\n",
       "       'Career development,Flex vacation,Health care,Parental leave,',\n",
       "       'Career development,Competitive pay,Flex hours,Flexible spending account,Flex vacation',\n",
       "       'Career development,Competitive pay,Flex hours,Health care,Medical leave',\n",
       "       'Unlimited paid time off,,,,',\n",
       "       'Career development,Fitness / gym,Flex vacation,Health care,Medical leave',\n",
       "       '401(k) matching,Competitive pay,Equity,Flex hours,Flexible spending account',\n",
       "       'Career development,Competitive pay,Flex vacation,,',\n",
       "       'Career development,Competitive pay,Conferences,Flex vacation,Health care',\n",
       "       'Career development,Flex hours,Flex vacation,Health care,Salary bonus',\n",
       "       '401(k) matching,Health care,Salary bonus,,',\n",
       "       'Career development,Health care,Insurance,Startup environment,',\n",
       "       'Career development,Equity,Flex hours,Yoga,',\n",
       "       'Conferences,Salary bonus,,,',\n",
       "       'Career development,Equity,Insurance,,',\n",
       "       '401(k) matching,Career development,Flex vacation,Health care,Insurance',\n",
       "       'Flex vacation,Health care,Parental leave,Startup environment,',\n",
       "       'Career development,Competitive pay,Conferences,Flex hours,',\n",
       "       '401(k) matching,Career development,Conferences,Health care,',\n",
       "       'Career development,Competitive pay,Flex vacation,Startup environment,',\n",
       "       'Career development,Fitness / gym,Pet friendly,Startup environment,Unlimited paid time off',\n",
       "       'Career development,Flex hours,Pet friendly,Team events,',\n",
       "       'Career development,Equity,Flex hours,Insurance,Wellness',\n",
       "       'Parental leave,,,,',\n",
       "       'Competitive pay,Flex hours,Relocation support,Startup environment,',\n",
       "       '401(k) matching,Career development,Competitive pay,Conferences,Flex hours',\n",
       "       'Career development,Competitive pay,Medical leave,Startup environment,',\n",
       "       'Competitive pay,Flex hours,Transparency,,',\n",
       "       'Career development,Conferences,Flex hours,Health care,Insurance',\n",
       "       'Career development,Competitive pay,Equity,Flex vacation,Relocation support',\n",
       "       'Career development,Conferences,Fitness / gym,Health care,Insurance',\n",
       "       '401(k) matching,Career development,Conferences,Health care,Insurance',\n",
       "       'Career development,Competitive pay,Health care,Salary bonus,Team events',\n",
       "       'Career development,Equity,Fitness / gym,Gear,Home office stipend',\n",
       "       'Salary bonus,Team events,,,',\n",
       "       'Competitive pay,Health care,Lunch / meals,Wellness,',\n",
       "       'Health care,Startup environment,Team events,Wellness,',\n",
       "       'Career development,Equity,Fitness / gym,Gear,Relocation support',\n",
       "       'Competitive pay,Equity,Flex hours,Flex vacation,Salary bonus',\n",
       "       'Equity,Flex vacation,,,',\n",
       "       'Competitive pay,Flex hours,Startup environment,Team events,',\n",
       "       'Career development,Flex hours,Health care,Relocation support,Salary bonus',\n",
       "       'Fitness / gym,Flex hours,Flex vacation,Health care,Salary bonus',\n",
       "       '401(k) matching,Health care,Startup environment,,',\n",
       "       'Career development,Flex hours,Health care,Insurance,Parental leave',\n",
       "       'Career development,Gear,Lunch / meals,Salary bonus,Team events',\n",
       "       'Flex hours,Team events,Wellness,,',\n",
       "       '401(k) matching,Career development,Equity,Fitness / gym,Flex hours',\n",
       "       'Career development,Equity,Flex hours,Startup environment,Yoga',\n",
       "       'Career development,Conferences,Relocation support,Salary bonus,Team events',\n",
       "       'Career development,Equity,Flex hours,Gear,Health care',\n",
       "       'Competitive pay,Salary bonus,,,',\n",
       "       'Career development,Flex hours,Gear,Health care,Home office stipend',\n",
       "       'Career development,Competitive pay,Health care,Home office stipend,Unlimited paid time off',\n",
       "       'Career development,Conferences,Equity,Flex hours,',\n",
       "       'Equity,Health care,Startup environment,Team events,',\n",
       "       'Health care,Insurance,Parental leave,Salary bonus,',\n",
       "       'Career development,Competitive pay,Flex hours,Salary bonus,Transparency',\n",
       "       '401(k) matching,Flex hours,Flex vacation,Health care,Startup environment'],\n",
       "      dtype=object)"
      ]
     },
     "execution_count": 25,
     "metadata": {},
     "output_type": "execute_result"
    }
   ],
   "source": [
    "df['JobBenefits'].unique()"
   ]
  },
  {
   "cell_type": "code",
   "execution_count": 26,
   "metadata": {
    "cell_id": "dde0abb3f79e432a919c313e8de1e8a3",
    "deepnote_app_coordinates": {
     "h": 5,
     "w": 12,
     "x": 0,
     "y": 0
    },
    "deepnote_cell_type": "code",
    "deepnote_to_be_reexecuted": false,
    "execution_millis": 8,
    "execution_start": 1691694327616,
    "source_hash": "46945f09"
   },
   "outputs": [],
   "source": [
    "df.JobBenefits.replace({',,,,':'Not Specified'},inplace=True)"
   ]
  },
  {
   "cell_type": "code",
   "execution_count": 27,
   "metadata": {
    "cell_id": "6b6cfe98df544d05a43fe79f5b860571",
    "deepnote_app_coordinates": {
     "h": 5,
     "w": 12,
     "x": 0,
     "y": 0
    },
    "deepnote_cell_type": "code",
    "deepnote_to_be_reexecuted": false,
    "execution_millis": 535,
    "execution_start": 1691694328648,
    "source_hash": "110a6975"
   },
   "outputs": [
    {
     "name": "stderr",
     "output_type": "stream",
     "text": [
      "/tmp/ipykernel_935/1881834295.py:2: FutureWarning: The default value of regex will change from True to False in a future version.\n",
      "  df['JobBenefits'] = df['JobBenefits'].str.replace(r',+', ',').str.strip(',')\n"
     ]
    },
    {
     "data": {
      "text/plain": [
       "array(['Not Specified', 'Career development',\n",
       "       'Flex hours,Flex vacation,Parental leave,Unlimited paid time off',\n",
       "       '401(k) matching,Career development,Competitive pay,Equity,Flex hours',\n",
       "       'Gear',\n",
       "       'Career development,Medical leave,Salary bonus,Startup environment',\n",
       "       'Career development,Health care,Medical leave',\n",
       "       'Career development,Startup environment', 'Flex hours',\n",
       "       'Team events',\n",
       "       'Career development,Competitive pay,Health care,Salary bonus',\n",
       "       'Flex hours,Flex vacation,Home office stipend,Parental leave,Startup environment',\n",
       "       'Competitive pay,Equity,Health care,Insurance',\n",
       "       'Career development,Equity,Fitness / gym,Home office stipend,Relocation support',\n",
       "       'Career development,Flex hours', 'Career development,Team events',\n",
       "       'Career development,Flex hours,Health care', 'Health care',\n",
       "       'Career development,Flex vacation', 'Fitness / gym',\n",
       "       'Career development,Flex hours,Health care,Startup environment',\n",
       "       'Startup environment',\n",
       "       'Career development,Fitness / gym,Flex hours,Flex vacation,Health care',\n",
       "       'Career development,Equity,Flex hours,Flex vacation,Health care',\n",
       "       'Career development,Relocation support',\n",
       "       'Career development,Competitive pay,Health care',\n",
       "       'Career development,Flex hours,Startup environment',\n",
       "       'Flex hours,Flex vacation',\n",
       "       'Career development,Fitness / gym,Flex hours,Flex vacation,Gear',\n",
       "       '401(k) matching,Career development,Competitive pay,Equity,Fertility benefits',\n",
       "       'Salary bonus,Startup environment',\n",
       "       'Career development,Competitive pay,Equity,Salary bonus', 'Equity',\n",
       "       'Career development,Conferences,Flex hours',\n",
       "       'Career development,Conferences,Equity,Health care',\n",
       "       'Cell phone stipend,Competitive pay,Fitness / gym,Health care,Insurance',\n",
       "       'Career development,Competitive pay,Conferences,Equity,Health care',\n",
       "       'Career development,Home office stipend',\n",
       "       '401(k) matching,Health care,Salary bonus,Wellness',\n",
       "       'Career development,Competitive pay',\n",
       "       '401(k) matching,Career development,Equity,Gear,Health care',\n",
       "       'Career development,Equity,Fitness / gym,Flex hours,Flex vacation',\n",
       "       'Career development,Startup environment,Team events',\n",
       "       'Career development,Competitive pay,Equity,Flex hours,Team events',\n",
       "       'Career development,Competitive pay,Flex hours,Health care,Salary bonus',\n",
       "       'Flex hours,Health care,Insurance,Medical leave',\n",
       "       'Career development,Flex hours,Flex vacation,Health care,Insurance',\n",
       "       'Career development,Health care,Insurance',\n",
       "       'Career development,Flex hours,Parental leave',\n",
       "       'Career development,Equity,Salary bonus', 'Insurance',\n",
       "       'Flex hours,Flex vacation,Medical leave,Salary bonus,Wellness',\n",
       "       'Career development,Competitive pay,Flex hours,Flex vacation,Health care',\n",
       "       'Equity,Health care,Insurance,Salary bonus,Wellness',\n",
       "       'Career development,Competitive pay,Salary bonus',\n",
       "       '401(k) matching,Flex hours,Flex vacation,Health care,Salary bonus',\n",
       "       'Career development,Competitive pay,Equity,Fitness / gym,Health care',\n",
       "       'Career development,Competitive pay,Equity,Flex hours,Flex vacation',\n",
       "       '401(k) matching,Competitive pay,Equity,Health care,Insurance',\n",
       "       'Competitive pay,Flex vacation,Gear,Medical leave,Parental leave',\n",
       "       'Competitive pay,Health care,Team events',\n",
       "       'Career development,Competitive pay,Startup environment,Team events',\n",
       "       'Career development,Flex vacation,Startup environment',\n",
       "       'Competitive pay,Flex vacation',\n",
       "       'Career development,Flex hours,Flex vacation,Health care,Startup environment',\n",
       "       'Competitive pay,Equity,Flex vacation,Health care,Salary bonus',\n",
       "       'Career development,Equity,Flex vacation,Startup environment,Transparency',\n",
       "       'Career development,Equity,Flex hours,Health care,Startup environment',\n",
       "       'Transparency',\n",
       "       'Career development,Equity,Health care,Insurance,Parental leave',\n",
       "       'Career development,Equity,Health care,Home office stipend,Insurance',\n",
       "       'Career development,Insurance',\n",
       "       'Career development,Equity,Health care,Insurance,Medical leave',\n",
       "       'Career development,Flex hours,Health care,Home office stipend',\n",
       "       'Career development,Fitness / gym,Health care,Insurance',\n",
       "       'Career development,Conferences',\n",
       "       'Career development,Equity,Health care,Insurance,Salary bonus',\n",
       "       'Flex hours,Startup environment',\n",
       "       '401(k) matching,Career development,Equity,Flex vacation,Health care',\n",
       "       'Career development,Competitive pay,Conferences,Fitness / gym,Gear',\n",
       "       'Career development,Competitive pay,Conferences,Fertility benefits,Health care',\n",
       "       'Career development,Health care,Insurance,Medical leave,Parental leave',\n",
       "       '401(k) matching,Career development,Conferences,Equity,Flex hours',\n",
       "       'Competitive pay,Equity,Health care,Medical leave,Parental leave',\n",
       "       'Fitness / gym,Flex hours,Flex vacation,Home office stipend,Salary bonus',\n",
       "       '401(k) matching,Career development,Competitive pay,Equity,Flex vacation',\n",
       "       '401(k) matching', 'Career development,Parental leave,Wellness',\n",
       "       'Career development,Flex hours,Flex vacation,Health care,Home office stipend',\n",
       "       '401(k) matching,Equity,Flex hours,Flex vacation,Health care',\n",
       "       'Career development,Conferences,Flex vacation,Health care,Insurance',\n",
       "       'Career development,Competitive pay,Conferences,Salary bonus,Startup environment',\n",
       "       'Career development,Competitive pay,Flex hours,Team events',\n",
       "       'Conferences,Startup environment,Team events',\n",
       "       'Career development,Equity,Flex hours,Salary bonus',\n",
       "       'Career development,Competitive pay,Conferences,Equity,Salary bonus',\n",
       "       '401(k) matching,Competitive pay,Equity,Fertility benefits,Fitness / gym',\n",
       "       'Career development,Competitive pay,Fitness / gym,Health care,Insurance',\n",
       "       '401(k) matching,Career development,Competitive pay,Flex hours,Flex vacation',\n",
       "       'Career development,Competitive pay,Health care,Startup environment',\n",
       "       'Career development,Parental leave',\n",
       "       'Career development,Conferences,Flex hours,Flex vacation,Health care',\n",
       "       'Career development,Competitive pay,Health care,Insurance',\n",
       "       'Career development,Conferences,Startup environment,Team events',\n",
       "       'Career development,Competitive pay,Flex vacation,Health care,Insurance',\n",
       "       'Career development,Medical leave',\n",
       "       'Career development,Competitive pay,Flex hours,Health care,Home office stipend',\n",
       "       'Career development,Health care',\n",
       "       'Equity,Health care,Insurance,Medical leave,Parental leave',\n",
       "       'Flex hours,Flex vacation,Parental leave',\n",
       "       'Competitive pay,Health care,Medical leave,Parental leave',\n",
       "       'Career development,Competitive pay,Equity,Health care,Home office stipend',\n",
       "       'Career development,Lunch / meals,Team events',\n",
       "       'Career development,Equity,Flex hours,Health care,Salary bonus',\n",
       "       'Career development,Conferences,Health care,Medical leave,Parental leave',\n",
       "       'Career development,Competitive pay,Equity,Flex hours,Health care',\n",
       "       'Career development,Competitive pay,Equity,Startup environment,Transparency',\n",
       "       'Career development,Competitive pay,Salary bonus,Wellness',\n",
       "       'Career development,Health care,Startup environment,Team events',\n",
       "       'Health care,Wellness', 'Competitive pay,Startup environment',\n",
       "       'Competitive pay,Health care,Relocation support',\n",
       "       '401(k) matching,Career development,Health care,Startup environment',\n",
       "       '401(k) matching,Career development,Competitive pay,Equity,Health care',\n",
       "       'Career development,Equity,Flex vacation,Health care,Insurance',\n",
       "       'Career development,Flex hours,Startup environment,Yoga',\n",
       "       'Career development,Startup environment,Unlimited paid time off',\n",
       "       'Career development,Conferences,Equity,Flex hours,Health care',\n",
       "       'Career development,Competitive pay,Team events',\n",
       "       'Career development,Conferences,Flex hours,Parental leave',\n",
       "       'Career development,Insurance,Parental leave,Salary bonus,Startup environment',\n",
       "       'Career development,Health care,Startup environment',\n",
       "       'Career development,Competitive pay,Equity,Health care,Parental leave',\n",
       "       'Flex vacation,Gear,Health care,Team events',\n",
       "       'Career development,Flex hours,Salary bonus,Startup environment,Team events',\n",
       "       'Career development,Conferences,Flex vacation,Parental leave',\n",
       "       'Career development,Flex hours,Team events,Yoga',\n",
       "       'Career development,Equity,Flex hours,Flex vacation,Home office stipend',\n",
       "       'Health care,Insurance',\n",
       "       '401(k) matching,Career development,Equity,Flex hours,Flex vacation',\n",
       "       'Career development,Equity',\n",
       "       '401(k) matching,Career development,Competitive pay,Health care,Insurance',\n",
       "       'Career development,Equity,Flex hours,Flex vacation,Salary bonus',\n",
       "       'Career development,Conferences,Gear,Lunch / meals,Salary bonus',\n",
       "       'Career development,Competitive pay,Equity',\n",
       "       'Career development,Equity,Flex hours,Home office stipend',\n",
       "       'Career development,Competitive pay,Equity,Startup environment,Team events',\n",
       "       'Career development,Competitive pay,Startup environment',\n",
       "       'Career development,Flex hours,Flex vacation,Health care,Relocation support',\n",
       "       'Career development,Competitive pay,Conferences,Flex hours,Flex vacation',\n",
       "       'Career development,Conferences,Startup environment',\n",
       "       'Career development,Competitive pay,Parental leave,Startup environment,Wellness',\n",
       "       '401(k) matching,Competitive pay,Equity,Flex hours,Flex vacation',\n",
       "       '401(k) matching,Health care,Insurance,Wellness',\n",
       "       'Career development,Competitive pay,Equity,Flex vacation,Health care',\n",
       "       'Competitive pay,Flex hours,Health care,Team events',\n",
       "       'Salary bonus',\n",
       "       'Career development,Competitive pay,Health care,Team events',\n",
       "       'Flex hours,Salary bonus',\n",
       "       'Career development,Equity,Gear,Medical leave,Salary bonus',\n",
       "       'Career development,Flex vacation,Health care,Home office stipend,Parental leave',\n",
       "       '401(k) matching,Career development,Flex hours,Flex vacation,Health care',\n",
       "       'Competitive pay,Equity',\n",
       "       'Career development,Conferences,Salary bonus,Startup environment',\n",
       "       'Competitive pay,Flex hours,Flex vacation,Health care,Salary bonus',\n",
       "       'Career development,Flex vacation,Health care,Medical leave,Parental leave',\n",
       "       'Competitive pay,Lunch / meals,Startup environment,Wellness',\n",
       "       'Competitive pay,Fertility benefits,Flex hours,Health care,Medical leave',\n",
       "       'Equity,Relocation support',\n",
       "       'Career development,Conferences,Health care,Lunch / meals,Medical leave',\n",
       "       'Flex hours,Flex vacation,Gear,Home office stipend,Team events',\n",
       "       'Conferences',\n",
       "       'Career development,Competitive pay,Flex hours,Gear,Startup environment',\n",
       "       'Equity,Flex hours,Flex vacation,Health care,Insurance',\n",
       "       'Career development,Fitness / gym,Flex hours,Flex vacation,Salary bonus',\n",
       "       'Career development,Insurance,Team events',\n",
       "       'Equity,Flex hours,Insurance,Team events',\n",
       "       'Career development,Flex hours,Flex vacation,Startup environment,Team events',\n",
       "       'Career development,Flex hours,Health care,Team events',\n",
       "       'Flex hours,Health care,Insurance',\n",
       "       'Career development,Equity,Startup environment,Unlimited paid time off,Wellness',\n",
       "       'Career development,Equity,Flex hours,Health care,Insurance',\n",
       "       'Career development,Competitive pay,Equity,Flex hours,Medical leave',\n",
       "       'Career development,Flex hours,Health care,Parental leave,Relocation support',\n",
       "       '401(k) matching,Career development,Flex hours,Flexible spending account,Flex vacation',\n",
       "       'Travel',\n",
       "       'Career development,Conferences,Equity,Flex hours,Flex vacation',\n",
       "       '401(k) matching,Career development,Equity,Health care,Medical leave',\n",
       "       'Flex vacation,Medical leave',\n",
       "       'Competitive pay,Equity,Flex hours,Health care,Salary bonus',\n",
       "       'Career development,Flex hours,Insurance,Startup environment,Team events',\n",
       "       'Career development,Equity,Startup environment,Team events',\n",
       "       'Competitive pay,Flex hours',\n",
       "       'Career development,Competitive pay,Equity,Medical leave,Parental leave',\n",
       "       'Career development,Competitive pay,Equity,Flex vacation,Salary bonus',\n",
       "       'Career development,Flex vacation,Health care,Home office stipend,Medical leave',\n",
       "       'Career development,Competitive pay,Equity,Fertility benefits,Flex hours',\n",
       "       'Career development,Flex hours,Flex vacation,Health care,Team events',\n",
       "       '401(k) matching,Career development,Equity,Fertility benefits,Health care',\n",
       "       '401(k) matching,Career development,Fertility benefits,Flex hours,Flex vacation',\n",
       "       'Flex hours,Flex vacation,Transparency,Unlimited paid time off',\n",
       "       'Career development,Health care,Salary bonus',\n",
       "       '401(k) matching,Career development,Competitive pay,Flex vacation,Health care',\n",
       "       'Career development,Flex hours,Flex vacation,Salary bonus',\n",
       "       'Career development,Equity,Flex hours,Flex vacation,Team events',\n",
       "       'Career development,Yoga', 'Flex hours,Team events',\n",
       "       'Career development,Fitness / gym,Health care,Parental leave,Startup environment',\n",
       "       'Equity,Flex hours',\n",
       "       'Career development,Equity,Flex hours,Health care,Home office stipend',\n",
       "       'Health care,Insurance,Medical leave,Salary bonus',\n",
       "       'Competitive pay,Insurance', 'Startup environment,Team events',\n",
       "       'Career development,Medical leave,Startup environment',\n",
       "       'Career development,Flex hours,Salary bonus,Team events',\n",
       "       'Career development,Travel',\n",
       "       'Career development,Flex hours,Health care,Medical leave,Parental leave',\n",
       "       'Career development,Competitive pay,Fitness / gym,Gear,Health care',\n",
       "       'Career development,Competitive pay,Insurance',\n",
       "       'Career development,Flex hours,Salary bonus,Startup environment',\n",
       "       'Career development,Competitive pay,Flex hours,Parental leave,Salary bonus',\n",
       "       'Career development,Competitive pay,Flex hours,Health care,Team events',\n",
       "       'Career development,Equity,Health care,Medical leave,Unlimited paid time off',\n",
       "       'Career development,Competitive pay,Flex vacation,Home office stipend,Insurance',\n",
       "       '401(k) matching,Competitive pay,Health care,Insurance,Salary bonus',\n",
       "       'Competitive pay,Startup environment,Team events',\n",
       "       '401(k) matching,Career development,Conferences,Flex hours,Flex vacation',\n",
       "       'Career development,Equity,Team events', 'Competitive pay',\n",
       "       'Career development,Flex hours,Flex vacation,Team events',\n",
       "       'Career development,Parental leave,Team events',\n",
       "       '401(k) matching,Career development,Competitive pay,Conferences,Fitness / gym',\n",
       "       '401(k) matching,Career development,Cell phone stipend,Competitive pay,Conferences',\n",
       "       'Career development,Equity,Health care',\n",
       "       'Competitive pay,Flex hours,Health care,Startup environment',\n",
       "       'Career development,Competitive pay,Flex hours,Flex vacation,Gear',\n",
       "       'Career development,Flex hours,Flex vacation',\n",
       "       'Career development,Competitive pay,Conferences,Health care,Salary bonus',\n",
       "       '401(k) matching,Career development,Competitive pay,Fitness / gym,Flex hours',\n",
       "       'Career development,Fitness / gym,Flex hours,Health care,Medical leave',\n",
       "       'Career development,Flex hours,Flex vacation,Insurance,Parental leave',\n",
       "       'Flex hours,Flex vacation,Startup environment,Team events',\n",
       "       'Equity,Flex hours,Flex vacation,Health care,Unlimited paid time off',\n",
       "       'Career development,Competitive pay,Health care,Insurance,Startup environment',\n",
       "       'Career development,Flex vacation,Health care,Insurance,Medical leave',\n",
       "       '401(k) matching,Career development,Flexible spending account,Flex vacation,Health care',\n",
       "       'Career development,Conferences,Flex vacation,Health care,Startup environment',\n",
       "       'Career development,Competitive pay,Equity,Health care,Team events',\n",
       "       'Competitive pay,Equity,Flex vacation,Health care,Wellness',\n",
       "       'Career development,Equity,Insurance,Startup environment,Team events',\n",
       "       'Career development,Fitness / gym',\n",
       "       'Home office stipend,Startup environment,Team events,Yoga',\n",
       "       'Career development,Competitive pay,Fitness / gym,Flex hours,Flex vacation',\n",
       "       'Career development,Competitive pay,Flex vacation,Health care,Startup environment',\n",
       "       'Career development,Equity,Flex hours,Health care,Parental leave',\n",
       "       'Flex hours,Gear',\n",
       "       'Flex hours,Flex vacation,Medical leave,Salary bonus,Team events',\n",
       "       'Health care,Insurance,Team events',\n",
       "       'Career development,Health care,Medical leave,Salary bonus',\n",
       "       'Career development,Conferences,Health care,Salary bonus',\n",
       "       'Career development,Health care,Team events',\n",
       "       'Career development,Relocation support,Startup environment',\n",
       "       'Career development,Equity,Flex hours,Startup environment',\n",
       "       'Career development,Equity,Flex hours',\n",
       "       'Career development,Competitive pay,Equity,Fertility benefits,Flex vacation',\n",
       "       'Career development,Flex vacation,Health care,Team events',\n",
       "       'Career development,Conferences,Flex hours,Home office stipend,Startup environment',\n",
       "       'Career development,Startup environment,Travel',\n",
       "       'Equity,Health care',\n",
       "       'Career development,Flex vacation,Startup environment,Team events',\n",
       "       'Career development,Equity,Fertility benefits,Flex hours,Flex vacation',\n",
       "       '401(k) matching,Career development,Equity,Health care,Insurance',\n",
       "       'Competitive pay,Conferences,Equity,Salary bonus,Startup environment',\n",
       "       'Career development,Conferences,Flex vacation,Health care,Salary bonus',\n",
       "       'Competitive pay,Flex hours,Health care,Snacks / Drinks,Team events',\n",
       "       'Conferences,Flex hours,Flex vacation,Health care,Unlimited paid time off',\n",
       "       'Career development,Flex vacation,Health care,Startup environment,Team events',\n",
       "       'Career development,Equity,Startup environment',\n",
       "       'Career development,Flex hours,Insurance,Parental leave',\n",
       "       'Competitive pay,Equity,Flex hours,Startup environment,Team events',\n",
       "       'Career development,Flex hours,Medical leave,Parental leave,Salary bonus',\n",
       "       'Career development,Fitness / gym,Health care,Insurance,Medical leave',\n",
       "       '401(k) matching,Career development,Flex vacation,Health care,Salary bonus',\n",
       "       'Career development,Flex hours,Flex vacation,Health care,Parental leave',\n",
       "       'Equity,Flex hours,Flex vacation,Health care',\n",
       "       'Career development,Home office stipend,Snacks / Drinks,Wellness',\n",
       "       'Career development,Equity,Flex vacation,Insurance,Team events',\n",
       "       '401(k) matching,Career development,Health care,Startup environment,Wellness',\n",
       "       'Career development,Flex hours,Parental leave,Team events',\n",
       "       'Career development,Equity,Startup environment,Team events,Transparency',\n",
       "       'Career development,Equity,Insurance,Team events',\n",
       "       'Career development,Conferences,Team events',\n",
       "       'Career development,Competitive pay,Equity,Flex hours',\n",
       "       'Career development,Insurance,Startup environment',\n",
       "       'Fitness / gym,Team events',\n",
       "       'Career development,Conferences,Equity,Startup environment',\n",
       "       'Flex hours,Insurance,Medical leave,Parental leave', 'Wellness',\n",
       "       'Career development,Equity,Travel',\n",
       "       'Career development,Cell phone stipend,Competitive pay,Gear,Health care',\n",
       "       'Career development,Health care,Insurance,Medical leave,Startup environment',\n",
       "       'Career development,Flex hours,Flex vacation,Startup environment,Unlimited paid time off',\n",
       "       'Career development,Equity,Fitness / gym,Health care,Paid sabbatical',\n",
       "       'Career development,Flex vacation,Health care,Pet friendly,Startup environment',\n",
       "       'Flex vacation,Salary bonus',\n",
       "       'Career development,Flex hours,Gear,Startup environment,Travel',\n",
       "       'Career development,Equity,Parental leave,Startup environment,Team events',\n",
       "       'Career development,Competitive pay,Conferences,Flex hours,Health care',\n",
       "       'Competitive pay,Flex hours,Flex vacation,Health care,Insurance',\n",
       "       'Career development,Competitive pay,Equity,Health care,Startup environment',\n",
       "       'Career development,Flex hours,Flex vacation,Startup environment',\n",
       "       'Career development,Competitive pay,Equity,Health care,Medical leave',\n",
       "       'Career development,Equity,Flex hours,Insurance,Startup environment',\n",
       "       'Career development,Flex hours,Salary bonus',\n",
       "       'Career development,Wellness',\n",
       "       'Flex hours,Flex vacation,Relocation support',\n",
       "       'Career development,Flex hours,Health care,Medical leave,Salary bonus',\n",
       "       'Career development,Flex hours,Flex vacation,Medical leave,Parental leave',\n",
       "       'Career development,Fitness / gym,Health care,Parental leave',\n",
       "       'Career development,Gear,Health care',\n",
       "       'Career development,Equity,Flex hours,Parental leave,Startup environment',\n",
       "       'Career development,Conferences,Medical leave,Parental leave,Salary bonus',\n",
       "       'Career development,Health care,Pet friendly,Salary bonus,Team events',\n",
       "       'Career development,Lunch / meals,Yoga',\n",
       "       'Career development,Fitness / gym,Home office stipend,Insurance,Salary bonus',\n",
       "       'Career development,Competitive pay,Equity,Health care,Insurance',\n",
       "       '401(k) matching,Career development,Competitive pay,Conferences,Equity',\n",
       "       'Equity,Home office stipend,Relocation support',\n",
       "       'Career development,Medical leave,Salary bonus',\n",
       "       'Career development,Equity,Health care,Salary bonus',\n",
       "       '401(k) matching,Career development,Competitive pay,Startup environment',\n",
       "       '401(k) matching,Career development,Competitive pay',\n",
       "       'Career development,Competitive pay,Health care,Insurance,Relocation support',\n",
       "       'Career development,Equity,Flex vacation,Health care,Medical leave',\n",
       "       'Competitive pay,Equity,Health care,Insurance,Parental leave',\n",
       "       'Equity,Flex hours,Health care,Insurance,Parental leave',\n",
       "       'Career development,Conferences,Equity',\n",
       "       'Flex hours,Health care,Relocation support,Startup environment',\n",
       "       'Flex hours,Flex vacation,Health care',\n",
       "       'Career development,Health care,Medical leave,Relocation support,Startup environment',\n",
       "       '401(k) matching,Competitive pay,Health care,Insurance,Startup environment',\n",
       "       'Career development,Conferences,Flex vacation,Health care,Relocation support',\n",
       "       '401(k) matching,Equity,Flex vacation,Health care,Insurance',\n",
       "       'Career development,Flex hours,Health care,Insurance',\n",
       "       'Competitive pay,Equity,Health care,Salary bonus,Startup environment',\n",
       "       '401(k) matching,Health care,Medical leave,Parental leave,Team events',\n",
       "       'Career development,Competitive pay,Flex hours,Health care,Snacks / Drinks',\n",
       "       '401(k) matching,Flex hours,Flex vacation,Health care,Medical leave',\n",
       "       'Career development,Equity,Flex hours,Flex vacation,Startup environment',\n",
       "       'Competitive pay,Equity,Flex hours,Flex vacation',\n",
       "       '401(k) matching,Career development,Cell phone stipend,Competitive pay,Gear',\n",
       "       'Equity,Salary bonus',\n",
       "       'Flex hours,Startup environment,Team events',\n",
       "       'Career development,Health care,Startup environment,Wellness',\n",
       "       'Career development,Flex hours,Team events',\n",
       "       'Competitive pay,Flex vacation,Startup environment,Team events',\n",
       "       'Competitive pay,Equity,Flex vacation,Salary bonus,Startup environment',\n",
       "       '401(k) matching,Health care,Insurance,Medical leave,Parental leave',\n",
       "       '401(k) matching,Career development,Conferences,Flex vacation,Health care',\n",
       "       'Career development,Competitive pay,Fitness / gym,Health care,Parental leave',\n",
       "       'Insurance,Team events',\n",
       "       'Career development,Equity,Flex vacation,Health care,Relocation support',\n",
       "       'Career development,Flex vacation,Gear,Health care,Insurance',\n",
       "       'Career development,Flex hours,Flex vacation,Health care,Medical leave',\n",
       "       'Career development,Flex hours,Flex vacation,Parental leave,Startup environment',\n",
       "       '401(k) matching,Career development,Conferences,Equity,Fitness / gym',\n",
       "       'Competitive pay,Flex vacation,Startup environment',\n",
       "       'Career development,Flex hours,Health care,Salary bonus,Startup environment',\n",
       "       'Career development,Flex hours,Startup environment,Team events',\n",
       "       'Career development,Equity,Gear,Health care,Insurance',\n",
       "       'Career development,Flex vacation,Health care',\n",
       "       'Career development,Gear,Health care,Home office stipend,Insurance',\n",
       "       'Career development,Competitive pay,Flex hours,Parental leave,Startup environment',\n",
       "       'Flex hours,Flex vacation,Gear,Health care',\n",
       "       'Career development,Flex vacation,Team events',\n",
       "       'Career development,Competitive pay,Equity,Flex hours,Startup environment',\n",
       "       'Career development,Salary bonus',\n",
       "       'Flex hours,Flex vacation,Health care,Insurance,Parental leave',\n",
       "       'Career development,Equity,Medical leave,Startup environment,Team events',\n",
       "       'Career development,Competitive pay,Health care,Lunch / meals,Unlimited paid time off',\n",
       "       'Flex vacation,Gear,Health care,Insurance',\n",
       "       'Career development,Parental leave,Salary bonus,Wellness',\n",
       "       'Career development,Health care,Insurance,Salary bonus',\n",
       "       'Career development,Competitive pay,Equity,Parental leave,Team events',\n",
       "       'Career development,Conferences,Flex hours,Flex vacation,Home office stipend',\n",
       "       'Career development,Health care,Parental leave,Salary bonus',\n",
       "       'Career development,Competitive pay,Fertility benefits,Flex vacation,Gear',\n",
       "       'Career development,Conferences,Fitness / gym,Flex hours,Flex vacation',\n",
       "       'Career development,Startup environment,Transparency',\n",
       "       'Career development,Flat hierarchy,Startup environment',\n",
       "       'Career development,Conferences,Equity,Flex hours,Startup environment',\n",
       "       'Career development,Conferences,Equity,Salary bonus',\n",
       "       'Career development,Home office stipend,Relocation support,Startup environment',\n",
       "       'Career development,Flex hours,Parental leave,Startup environment',\n",
       "       'Career development,Health care,Insurance,Startup environment,Yoga',\n",
       "       'Competitive pay,Flex hours,Gear',\n",
       "       '401(k) matching,Career development,Equity,Health care,Unlimited paid time off',\n",
       "       'Career development,Competitive pay,Equity,Health care,Salary bonus',\n",
       "       '401(k) matching,Career development,Flex hours,Flex vacation,Gear',\n",
       "       'Career development,Competitive pay,Fitness / gym,Flex hours,Health care',\n",
       "       'Equity,Health care,Salary bonus',\n",
       "       'Equity,Flex hours,Flex vacation,Parental leave',\n",
       "       'Career development,Insurance,Parental leave',\n",
       "       'Career development,Competitive pay,Equity,Gear,Startup environment',\n",
       "       'Competitive pay,Equity,Health care,Insurance,Medical leave',\n",
       "       'Career development,Flex hours,Flex vacation,Gear,Health care',\n",
       "       'Equity,Startup environment',\n",
       "       'Career development,Flex hours,Home office stipend,Paid sabbatical,Parental leave',\n",
       "       'Startup environment,Wellness',\n",
       "       'Career development,Flex hours,Flex vacation,Health care,Wellness',\n",
       "       'Equity,Salary bonus,Startup environment',\n",
       "       'Career development,Competitive pay,Flex hours,Flex vacation',\n",
       "       'Equity,Fitness / gym,Health care,Insurance,Startup environment',\n",
       "       'Health care,Insurance,Parental leave,Relocation support',\n",
       "       'Career development,Competitive pay,Equity,Flex hours,Parental leave',\n",
       "       'Career development,Competitive pay,Equity,Fitness / gym,Flex hours',\n",
       "       'Competitive pay,Flex hours,Flex vacation,Salary bonus',\n",
       "       'Competitive pay,Equity,Startup environment,Team events',\n",
       "       'Competitive pay,Equity,Flex hours,Team events',\n",
       "       'Flat hierarchy,Flex hours,Startup environment',\n",
       "       'Career development,Gear,Home office stipend,Relocation support,Signing bonus',\n",
       "       'Competitive pay,Equity,Fertility benefits,Flex hours,Flex vacation',\n",
       "       'Career development,Health care,Home office stipend',\n",
       "       'Flex hours,Flex vacation,Parental leave,Startup environment',\n",
       "       'Career development,Health care,Medical leave,Startup environment',\n",
       "       'Career development,Transparency',\n",
       "       'Equity,Health care,Insurance,Relocation support,Salary bonus',\n",
       "       'Health care,Startup environment', 'Health care,Medical leave',\n",
       "       '401(k) matching,Career development,Flex vacation,Health care,Medical leave',\n",
       "       'Career development,Flex hours,Snacks / Drinks,Team events',\n",
       "       'Career development,Equity,Health care,Home office stipend,Salary bonus',\n",
       "       'Competitive pay,Equity,Health care,Wellness',\n",
       "       'Career development,Flex hours,Flex vacation,Relocation support',\n",
       "       'Competitive pay,Flex hours,Startup environment',\n",
       "       'Career development,Flex vacation,Health care,Insurance,Unlimited paid time off',\n",
       "       '401(k) matching,Career development,Fertility benefits,Health care,Insurance',\n",
       "       'Career development,Equity,Lunch / meals',\n",
       "       '401(k) matching,Health care,Insurance',\n",
       "       'Competitive pay,Equity,Health care,Salary bonus',\n",
       "       'Career development,Competitive pay,Health care,Salary bonus,Unlimited paid time off',\n",
       "       'Career development,Competitive pay,Flex hours',\n",
       "       'Career development,Conferences,Flex hours,Flex vacation,Team events',\n",
       "       'Career development,Equity,Flex vacation',\n",
       "       'Career development,Equity,Health care,Startup environment',\n",
       "       'Career development,Flex hours,Flex vacation,Parental leave,Salary bonus',\n",
       "       'Career development,Flex hours,Health care,Startup environment,Team events',\n",
       "       'Career development,Competitive pay,Equity,Fertility benefits,Health care',\n",
       "       'Career development,Health care,Parental leave,Startup environment',\n",
       "       'Flex hours,Flex vacation,Gear,Pet friendly,Salary bonus',\n",
       "       'Career development,Equity,Gear,Parental leave,Startup environment',\n",
       "       'Career development,Fitness / gym,Flex hours',\n",
       "       'Flex vacation,Health care,Insurance', 'Health care,Salary bonus',\n",
       "       'Career development,Competitive pay,Conferences,Team events',\n",
       "       '401(k) matching,Career development,Fertility benefits,Flex vacation,Snacks / Drinks',\n",
       "       'Health care,Parental leave,Startup environment',\n",
       "       'Health care,Salary bonus,Startup environment',\n",
       "       'Career development,Equity,Flex hours,Flex vacation,Gear',\n",
       "       'Competitive pay,Team events',\n",
       "       'Career development,Competitive pay,Health care,Medical leave,Startup environment',\n",
       "       'Conferences,Startup environment',\n",
       "       'Career development,Conferences,Insurance,Parental leave,Startup environment',\n",
       "       'Career development,Competitive pay,Fitness / gym,Flex hours,Home office stipend',\n",
       "       'Career development,Competitive pay,Salary bonus,Startup environment',\n",
       "       'Career development,Parental leave,Startup environment,Wellness',\n",
       "       'Competitive pay,Health care,Salary bonus',\n",
       "       '401(k) matching,Career development,Fitness / gym,Flex hours,Flex vacation',\n",
       "       '401(k) matching,Career development,Health care,Insurance,Startup environment',\n",
       "       'Equity,Flex vacation,Health care,Insurance,Medical leave',\n",
       "       'Career development,Health care,Startup environment,Transparency',\n",
       "       '401(k) matching,Career development,Health care,Insurance,Medical leave',\n",
       "       'Career development,Competitive pay,Health care,Salary bonus,Wellness',\n",
       "       'Career development,Flex hours,Wellness',\n",
       "       'Career development,Medical leave,Parental leave',\n",
       "       '401(k) matching,Career development,Competitive pay,Fitness / gym,Flex vacation',\n",
       "       'Career development,Insurance,Salary bonus',\n",
       "       'Flex hours,Health care,Insurance,Team events',\n",
       "       'Career development,Equity,Health care,Salary bonus,Startup environment',\n",
       "       'Career development,Flex vacation,Health care,Paid sabbatical,Parental leave',\n",
       "       'Career development,Competitive pay,Health care,Medical leave,Parental leave',\n",
       "       'Career development,Fitness / gym,Medical leave,Team events,Wellness',\n",
       "       'Career development,Competitive pay,Fertility benefits,Health care,Insurance',\n",
       "       'Career development,Equity,Home office stipend',\n",
       "       'Flex hours,Flex vacation,Health care,Startup environment,Wellness',\n",
       "       'Career development,Team events,Travel',\n",
       "       'Career development,Equity,Health care,Home office stipend,Medical leave',\n",
       "       'Career development,Competitive pay,Health care,Insurance,Wellness',\n",
       "       'Career development,Salary bonus,Team events',\n",
       "       'Career development,Startup environment,Team events,Transparency',\n",
       "       'Career development,Equity,Fitness / gym,Health care,Relocation support',\n",
       "       'Fitness / gym,Flex hours,Health care,Snacks / Drinks',\n",
       "       'Equity,Medical leave,Salary bonus',\n",
       "       'Flex hours,Flex vacation,Health care,Unlimited paid time off',\n",
       "       'Fitness / gym,Health care,Salary bonus,Team events',\n",
       "       'Competitive pay,Equity,Snacks / Drinks,Team events',\n",
       "       'Home office stipend',\n",
       "       'Career development,Competitive pay,Flex hours,Health care,Startup environment',\n",
       "       'Career development,Fitness / gym,Flex hours,Health care,Snacks / Drinks',\n",
       "       'Medical leave',\n",
       "       'Career development,Flex hours,Medical leave,Parental leave,Relocation support',\n",
       "       'Career development,Equity,Health care,Parental leave,Wellness',\n",
       "       'Equity,Health care,Insurance,Medical leave',\n",
       "       'Fitness / gym,Flex vacation,Health care,Home office stipend,Unlimited paid time off',\n",
       "       'Career development,Competitive pay,Conferences,Equity,Fertility benefits',\n",
       "       'Career development,Flex hours,Flex vacation,Health care,Paid sabbatical',\n",
       "       'Career development,Insurance,Parental leave,Snacks / Drinks,Startup environment',\n",
       "       'Career development,Flex hours,Salary bonus,Team events,Yoga',\n",
       "       'Career development,Insurance,Parental leave,Salary bonus,Snacks / Drinks',\n",
       "       'Equity,Flex vacation,Salary bonus,Startup environment,Team events',\n",
       "       'Career development,Flex hours,Health care,Team events,Transparency',\n",
       "       '401(k) matching,Equity,Fertility benefits,Health care,Insurance',\n",
       "       'Career development,Competitive pay,Conferences,Startup environment',\n",
       "       'Career development,Conferences,Wellness',\n",
       "       'Competitive pay,Flex hours,Flex vacation,Salary bonus,Startup environment',\n",
       "       'Career development,Fitness / gym,Health care,Insurance,Salary bonus',\n",
       "       'Flex hours,Flex vacation,Health care,Startup environment',\n",
       "       'Fitness / gym,Health care,Insurance,Salary bonus,Startup environment',\n",
       "       '401(k) matching,Career development,Competitive pay,Equity,Parental leave',\n",
       "       'Competitive pay,Health care,Salary bonus,Wellness',\n",
       "       'Competitive pay,Equity,Flex vacation,Startup environment',\n",
       "       'Career development,Equity,Home office stipend,Startup environment,Team events',\n",
       "       'Career development,Fitness / gym,Flex hours,Flex vacation,Home office stipend',\n",
       "       'Career development,Competitive pay,Flex hours,Flex vacation,Pet friendly',\n",
       "       'Competitive pay,Health care,Startup environment',\n",
       "       'Career development,Flex hours,Flex vacation,Health care,Pet friendly',\n",
       "       'Career development,Flex vacation,Gear,Health care,Startup environment',\n",
       "       'Career development,Equity,Flex hours,Team events',\n",
       "       'Career development,Flex hours,Snacks / Drinks,Startup environment,Team events',\n",
       "       'Career development,Flex vacation,Health care,Medical leave,Unlimited paid time off',\n",
       "       'Career development,Equity,Flex hours,Health care,Relocation support',\n",
       "       'Flex vacation',\n",
       "       'Career development,Conferences,Flex hours,Health care,Medical leave',\n",
       "       'Career development,Signing bonus',\n",
       "       'Career development,Fertility benefits,Fitness / gym,Health care,Insurance',\n",
       "       'Career development,Equity,Flex hours,Insurance,Parental leave',\n",
       "       'Equity,Flex vacation,Health care,Team events,Unlimited paid time off',\n",
       "       'Yoga', 'Competitive pay,Flat hierarchy,Flex hours',\n",
       "       'Career development,Health care,Salary bonus,Team events,Transparency',\n",
       "       'Career development,Conferences,Fitness / gym,Team events',\n",
       "       '401(k) matching,Flex vacation,Health care,Unlimited paid time off',\n",
       "       'Career development,Health care,Home office stipend,Startup environment,Team events',\n",
       "       'Career development,Flex hours,Flex vacation,Parental leave,Snacks / Drinks',\n",
       "       'Flex hours,Flex vacation,Startup environment',\n",
       "       '401(k) matching,Equity,Health care,Salary bonus,Unlimited paid time off',\n",
       "       'Career development,Flex hours,Medical leave',\n",
       "       'Career development,Equity,Health care,Medical leave,Parental leave',\n",
       "       '401(k) matching,Equity,Health care,Home office stipend,Unlimited paid time off',\n",
       "       'Career development,Fitness / gym,Health care,Lunch / meals,Startup environment',\n",
       "       'Career development,Equity,Team events,Travel',\n",
       "       'Career development,Competitive pay,Equity,Health care,Lunch / meals',\n",
       "       'Medical leave,Salary bonus',\n",
       "       'Career development,Competitive pay,Fitness / gym,Health care,Salary bonus',\n",
       "       'Career development,Flex hours,Startup environment,Travel',\n",
       "       'Competitive pay,Insurance,Team events',\n",
       "       'Career development,Competitive pay,Health care,Salary bonus,Startup environment',\n",
       "       '401(k) matching,Flex hours,Flex vacation,Health care,Insurance',\n",
       "       'Career development,Equity,Medical leave,Startup environment',\n",
       "       'Career development,Cell phone stipend,Competitive pay,Equity,Fertility benefits',\n",
       "       '401(k) matching,Career development,Competitive pay,Health care,Lunch / meals',\n",
       "       'Career development,Flex vacation,Gear,Health care,Home office stipend',\n",
       "       'Career development,Insurance,Parental leave,Salary bonus',\n",
       "       'Career development,Flex hours,Medical leave,Parental leave,Startup environment',\n",
       "       'Career development,Flex vacation,Health care,Insurance',\n",
       "       'Competitive pay,Equity,Flex hours,Flex vacation,Parental leave',\n",
       "       'Career development,Competitive pay,Conferences,Health care,Insurance',\n",
       "       'Career development,Gear',\n",
       "       'Career development,Fertility benefits,Parental leave',\n",
       "       'Flex hours,Flex vacation,Team events',\n",
       "       'Career development,Health care,Medical leave,Wellness',\n",
       "       'Fitness / gym,Health care,Insurance,Salary bonus',\n",
       "       'Career development,Competitive pay,Equity,Relocation support,Salary bonus',\n",
       "       'Career development,Competitive pay,Health care,Insurance,Salary bonus',\n",
       "       'Career development,Competitive pay,Flex vacation,Health care,Medical leave',\n",
       "       'Career development,Competitive pay,Flex hours,Gear,Health care',\n",
       "       'Career development,Equity,Fitness / gym,Health care,Insurance',\n",
       "       'Equity,Flex hours,Flex vacation,Home office stipend,Salary bonus',\n",
       "       'Career development,Conferences,Salary bonus',\n",
       "       'Career development,Conferences,Flex vacation',\n",
       "       'Fitness / gym,Health care,Medical leave,Salary bonus',\n",
       "       'Career development,Competitive pay,Equity,Salary bonus,Startup environment',\n",
       "       'Flex hours,Medical leave,Salary bonus,Startup environment,Team events',\n",
       "       'Competitive pay,Gear,Health care,Team events',\n",
       "       'Competitive pay,Flex hours,Gear,Team events',\n",
       "       'Career development,Competitive pay,Conferences,Equity',\n",
       "       'Equity,Gear,Health care,Salary bonus,Startup environment',\n",
       "       'Flex hours,Health care',\n",
       "       'Flex hours,Health care,Home office stipend,Salary bonus',\n",
       "       '401(k) matching,Career development,Equity,Health care',\n",
       "       'Competitive pay,Flex vacation,Team events,Unlimited paid time off',\n",
       "       '401(k) matching,Career development,Competitive pay,Equity,Gear',\n",
       "       'Competitive pay,Equity,Flex hours,Flex vacation,Health care',\n",
       "       'Equity,Flex hours,Team events,Yoga',\n",
       "       '401(k) matching,Career development,Competitive pay,Fitness / gym,Health care',\n",
       "       'Career development,Conferences,Flex hours,Health care,Home office stipend',\n",
       "       'Career development,Competitive pay,Gear,Relocation support,Transparency',\n",
       "       'Career development,Equity,Flex hours,Salary bonus,Yoga',\n",
       "       'Career development,Competitive pay,Health care,Medical leave,Pet friendly',\n",
       "       'Career development,Competitive pay,Equity,Flex hours,Insurance',\n",
       "       'Career development,Competitive pay,Equity,Health care',\n",
       "       'Competitive pay,Equity,Health care,Parental leave,Startup environment',\n",
       "       'Career development,Startup environment,Contract',\n",
       "       'Career development,Flex hours,Pet friendly,Salary bonus',\n",
       "       'Career development,Parental leave,Startup environment,Transparency',\n",
       "       'Career development,Competitive pay,Equity,Flex hours,Flexible spending account',\n",
       "       'Home office stipend,Team events',\n",
       "       '401(k) matching,Competitive pay,Equity,Health care',\n",
       "       'Career development,Flex hours,Flex vacation,Insurance,Medical leave',\n",
       "       '401(k) matching,Career development,Competitive pay,Parental leave,Salary bonus',\n",
       "       'Career development,Equity,Health care,Medical leave',\n",
       "       '401(k) matching,Career development,Competitive pay,Equity,Fitness / gym',\n",
       "       'Competitive pay,Equity,Unlimited paid time off',\n",
       "       'Career development,Competitive pay,Flex hours,Health care,Insurance',\n",
       "       'Career development,Competitive pay,Medical leave,Relocation support',\n",
       "       'Flex hours,Medical leave,Parental leave',\n",
       "       '401(k) matching,Equity,Flex hours,Salary bonus,Team events',\n",
       "       'Fitness / gym,Health care,Insurance,Medical leave',\n",
       "       'Career development,Flex hours,Health care,Parental leave,Salary bonus',\n",
       "       'Career development,Gear,Health care,Lunch / meals,Salary bonus',\n",
       "       'Career development,Competitive pay,Flex hours,Health care',\n",
       "       'Equity,Health care,Parental leave,Startup environment',\n",
       "       'Equity,Flex hours,Home office stipend,Startup environment,Team events',\n",
       "       'Flex hours,Freelance',\n",
       "       'Career development,Snacks / Drinks,Wellness',\n",
       "       'Equity,Flex hours,Team events',\n",
       "       'Career development,Insurance,Salary bonus,Transparency',\n",
       "       'Career development,Competitive pay,Health care,Parental leave,Salary bonus',\n",
       "       'Career development,Flex hours,Flex vacation,Health care,Unlimited paid time off',\n",
       "       'Career development,Equity,Fitness / gym,Health care,Home office stipend',\n",
       "       'Career development,Fitness / gym,Flex hours,Health care,Home office stipend',\n",
       "       'Equity,Flex hours,Health care,Insurance',\n",
       "       'Equity,Flex hours,Salary bonus,Startup environment,Team events',\n",
       "       'Career development,Competitive pay,Fertility benefits,Health care,Medical leave',\n",
       "       'Career development,Fertility benefits,Parental leave,Startup environment',\n",
       "       'Career development,Flex hours,Health care,Home office stipend,Salary bonus',\n",
       "       'Fitness / gym,Startup environment,Team events',\n",
       "       'Competitive pay,Equity,Health care,Salary bonus,Wellness',\n",
       "       'Flex hours,Health care,Insurance,Medical leave,Team events',\n",
       "       'Career development,Conferences,Flex hours,Salary bonus,Team events',\n",
       "       'Career development,Competitive pay,Conferences,Health care,Startup environment',\n",
       "       'Career development,Flex hours,Health care,Medical leave',\n",
       "       'Competitive pay,Equity,Salary bonus,Startup environment,Transparency',\n",
       "       '401(k) matching,Career development,Competitive pay,Health care,Medical leave',\n",
       "       'Career development,Conferences,Flex vacation,Health care',\n",
       "       'Career development,Conferences,Flex hours,Health care,Team events',\n",
       "       'Flat hierarchy',\n",
       "       'Career development,Flex vacation,Relocation support,Salary bonus',\n",
       "       'Career development,Equity,Flat hierarchy,Gear,Signing bonus',\n",
       "       '401(k) matching,Competitive pay,Equity,Gear',\n",
       "       'Competitive pay,Flex hours,Salary bonus,Startup environment',\n",
       "       'Career development,Equity,Fertility benefits,Flex vacation,Health care',\n",
       "       '401(k) matching,Career development,Health care,Insurance',\n",
       "       'Gear,Home office stipend,Startup environment',\n",
       "       'Flex hours,Salary bonus,Startup environment,Team events,Yoga',\n",
       "       '401(k) matching,Career development,Equity,Flex hours,Health care',\n",
       "       'Career development,Flex hours,Gear,Health care,Parental leave',\n",
       "       'Career development,Competitive pay,Conferences,Equity,Flex vacation',\n",
       "       'Career development,Relocation support,Startup environment,Team events',\n",
       "       'Career development,Equity,Flex hours,Flex vacation,Medical leave',\n",
       "       '401(k) matching,Competitive pay,Equity,Flex hours,Health care',\n",
       "       'Career development,Health care,Insurance,Team events',\n",
       "       'Career development,Fertility benefits,Flex hours,Flex vacation,Health care',\n",
       "       '401(k) matching,Flex vacation,Health care,Medical leave,Parental leave',\n",
       "       'Career development,Competitive pay,Equity,Home office stipend',\n",
       "       'Competitive pay,Equity,Startup environment',\n",
       "       'Career development,Flex vacation,Health care,Parental leave,Startup environment',\n",
       "       'Career development,Flex hours,Flex vacation,Relocation support,Startup environment',\n",
       "       'Competitive pay,Equity,Team events,Unlimited paid time off,Wellness',\n",
       "       'Career development,Competitive pay,Gear,Home office stipend,Travel',\n",
       "       'Competitive pay,Home office stipend',\n",
       "       'Career development,Health care,Parental leave',\n",
       "       'Career development,Competitive pay,Flat hierarchy,Flex hours,Relocation support',\n",
       "       '401(k) matching,Career development,Equity,Insurance,Parental leave',\n",
       "       'Health care,Pet friendly,Team events',\n",
       "       'Equity,Flex hours,Flex vacation,Gear,Health care',\n",
       "       '401(k) matching,Health care,Medical leave,Parental leave',\n",
       "       'Career development,Competitive pay,Salary bonus,Team events',\n",
       "       'Flex hours,Health care,Insurance,Parental leave',\n",
       "       'Flex hours,Health care,Insurance,Parental leave,Startup environment',\n",
       "       'Career development,Equity,Health care,Insurance,Team events',\n",
       "       'Flex vacation,Relocation support,Team events',\n",
       "       'Career development,Competitive pay,Health care,Unlimited paid time off',\n",
       "       '401(k) matching,Career development,Competitive pay,Health care,Startup environment',\n",
       "       '401(k) matching,Equity,Insurance,Parental leave,Wellness',\n",
       "       'Career development,Salary bonus,Startup environment',\n",
       "       '401(k) matching,Career development,Equity,Health care,Salary bonus',\n",
       "       'Competitive pay,Equity,Health care,Parental leave,Team events',\n",
       "       'Health care,Medical leave,Team events', 'Team events,Travel',\n",
       "       'Career development,Equity,Flex hours,Startup environment,Team events',\n",
       "       'Flex hours,Flex vacation,Health care,Medical leave,Parental leave',\n",
       "       'Competitive pay,Equity,Salary bonus,Team events,Unlimited paid time off',\n",
       "       'Career development,Flex vacation,Health care,Parental leave',\n",
       "       'Career development,Competitive pay,Flex hours,Flexible spending account,Flex vacation',\n",
       "       'Career development,Competitive pay,Flex hours,Health care,Medical leave',\n",
       "       'Unlimited paid time off',\n",
       "       'Career development,Fitness / gym,Flex vacation,Health care,Medical leave',\n",
       "       '401(k) matching,Competitive pay,Equity,Flex hours,Flexible spending account',\n",
       "       'Career development,Competitive pay,Flex vacation',\n",
       "       'Career development,Competitive pay,Conferences,Flex vacation,Health care',\n",
       "       'Career development,Flex hours,Flex vacation,Health care,Salary bonus',\n",
       "       '401(k) matching,Health care,Salary bonus',\n",
       "       'Career development,Health care,Insurance,Startup environment',\n",
       "       'Career development,Equity,Flex hours,Yoga',\n",
       "       'Conferences,Salary bonus', 'Career development,Equity,Insurance',\n",
       "       '401(k) matching,Career development,Flex vacation,Health care,Insurance',\n",
       "       'Flex vacation,Health care,Parental leave,Startup environment',\n",
       "       'Career development,Competitive pay,Conferences,Flex hours',\n",
       "       '401(k) matching,Career development,Conferences,Health care',\n",
       "       'Career development,Competitive pay,Flex vacation,Startup environment',\n",
       "       'Career development,Fitness / gym,Pet friendly,Startup environment,Unlimited paid time off',\n",
       "       'Career development,Flex hours,Pet friendly,Team events',\n",
       "       'Career development,Equity,Flex hours,Insurance,Wellness',\n",
       "       'Parental leave',\n",
       "       'Competitive pay,Flex hours,Relocation support,Startup environment',\n",
       "       '401(k) matching,Career development,Competitive pay,Conferences,Flex hours',\n",
       "       'Career development,Competitive pay,Medical leave,Startup environment',\n",
       "       'Competitive pay,Flex hours,Transparency',\n",
       "       'Career development,Conferences,Flex hours,Health care,Insurance',\n",
       "       'Career development,Competitive pay,Equity,Flex vacation,Relocation support',\n",
       "       'Career development,Conferences,Fitness / gym,Health care,Insurance',\n",
       "       '401(k) matching,Career development,Conferences,Health care,Insurance',\n",
       "       'Career development,Competitive pay,Health care,Salary bonus,Team events',\n",
       "       'Career development,Equity,Fitness / gym,Gear,Home office stipend',\n",
       "       'Salary bonus,Team events',\n",
       "       'Competitive pay,Health care,Lunch / meals,Wellness',\n",
       "       'Health care,Startup environment,Team events,Wellness',\n",
       "       'Career development,Equity,Fitness / gym,Gear,Relocation support',\n",
       "       'Competitive pay,Equity,Flex hours,Flex vacation,Salary bonus',\n",
       "       'Equity,Flex vacation',\n",
       "       'Competitive pay,Flex hours,Startup environment,Team events',\n",
       "       'Career development,Flex hours,Health care,Relocation support,Salary bonus',\n",
       "       'Fitness / gym,Flex hours,Flex vacation,Health care,Salary bonus',\n",
       "       '401(k) matching,Health care,Startup environment',\n",
       "       'Career development,Flex hours,Health care,Insurance,Parental leave',\n",
       "       'Career development,Gear,Lunch / meals,Salary bonus,Team events',\n",
       "       'Flex hours,Team events,Wellness',\n",
       "       '401(k) matching,Career development,Equity,Fitness / gym,Flex hours',\n",
       "       'Career development,Equity,Flex hours,Startup environment,Yoga',\n",
       "       'Career development,Conferences,Relocation support,Salary bonus,Team events',\n",
       "       'Career development,Equity,Flex hours,Gear,Health care',\n",
       "       'Competitive pay,Salary bonus',\n",
       "       'Career development,Flex hours,Gear,Health care,Home office stipend',\n",
       "       'Career development,Competitive pay,Health care,Home office stipend,Unlimited paid time off',\n",
       "       'Career development,Conferences,Equity,Flex hours',\n",
       "       'Equity,Health care,Startup environment,Team events',\n",
       "       'Health care,Insurance,Parental leave,Salary bonus',\n",
       "       'Career development,Competitive pay,Flex hours,Salary bonus,Transparency',\n",
       "       '401(k) matching,Flex hours,Flex vacation,Health care,Startup environment'],\n",
       "      dtype=object)"
      ]
     },
     "execution_count": 27,
     "metadata": {},
     "output_type": "execute_result"
    }
   ],
   "source": [
    "#using regex to remove commas and make all records separated with single comma only.\n",
    "df['JobBenefits'] = df['JobBenefits'].str.replace(r',+', ',').str.strip(',')\n",
    "df['JobBenefits'].unique()"
   ]
  },
  {
   "cell_type": "code",
   "execution_count": 28,
   "metadata": {
    "cell_id": "0c01b11febec44398826a61110ec8cb6",
    "deepnote_app_coordinates": {
     "h": 5,
     "w": 12,
     "x": 0,
     "y": 0
    },
    "deepnote_cell_type": "code",
    "deepnote_to_be_reexecuted": false,
    "execution_millis": 603,
    "execution_start": 1691694330749,
    "source_hash": "c085b6ba"
   },
   "outputs": [
    {
     "data": {
      "application/vnd.deepnote.dataframe.v3+json": {
       "column_count": 8,
       "columns": [
        {
         "dtype": "object",
         "name": "Company",
         "stats": {
          "categories": [
           {
            "count": 1,
            "name": "SGS"
           },
           {
            "count": 1,
            "name": "Ocorian"
           },
           {
            "count": 3,
            "name": "3 others"
           }
          ],
          "nan_count": 0,
          "unique_count": 5
         }
        },
        {
         "dtype": "object",
         "name": "JobTitle",
         "stats": {
          "categories": [
           {
            "count": 1,
            "name": "Clinical Data Analyst"
           },
           {
            "count": 1,
            "name": "AML/CFT & Data Analyst"
           },
           {
            "count": 3,
            "name": "3 others"
           }
          ],
          "nan_count": 0,
          "unique_count": 5
         }
        },
        {
         "dtype": "object",
         "name": "Location",
         "stats": {
          "categories": [
           {
            "count": 1,
            "name": "Richardson, TX, United States"
           },
           {
            "count": 1,
            "name": "Ebène, Mauritius"
           },
           {
            "count": 3,
            "name": "3 others"
           }
          ],
          "nan_count": 0,
          "unique_count": 5
         }
        },
        {
         "dtype": "object",
         "name": "JobType",
         "stats": {
          "categories": [
           {
            "count": 5,
            "name": "Full Time"
           }
          ],
          "nan_count": 0,
          "unique_count": 1
         }
        },
        {
         "dtype": "object",
         "name": "ExperienceLevel",
         "stats": {
          "categories": [
           {
            "count": 3,
            "name": "Entry-level"
           },
           {
            "count": 1,
            "name": "Not Specified"
           },
           {
            "count": 1,
            "name": "Mid-level"
           }
          ],
          "nan_count": 0,
          "unique_count": 3
         }
        },
        {
         "dtype": "int64",
         "name": "Salary",
         "stats": {
          "histogram": [
           {
            "bin_end": 54000000,
            "bin_start": 48000000,
            "count": 3
           },
           {
            "bin_end": 60000000,
            "bin_start": 54000000,
            "count": 0
           },
           {
            "bin_end": 66000000,
            "bin_start": 60000000,
            "count": 0
           },
           {
            "bin_end": 72000000,
            "bin_start": 66000000,
            "count": 0
           },
           {
            "bin_end": 78000000,
            "bin_start": 72000000,
            "count": 0
           },
           {
            "bin_end": 84000000,
            "bin_start": 78000000,
            "count": 0
           },
           {
            "bin_end": 90000000,
            "bin_start": 84000000,
            "count": 0
           },
           {
            "bin_end": 96000000,
            "bin_start": 90000000,
            "count": 1
           },
           {
            "bin_end": 102000000,
            "bin_start": 96000000,
            "count": 0
           },
           {
            "bin_end": 108000000,
            "bin_start": 102000000,
            "count": 1
           }
          ],
          "max": "108000000",
          "min": "48000000",
          "nan_count": 0,
          "unique_count": 3
         }
        },
        {
         "dtype": "object",
         "name": "JobRequirements",
         "stats": {
          "categories": [
           {
            "count": 1,
            "name": "Computer Science,Data quality,Genetics,Mathematics,SAS,Statistics"
           },
           {
            "count": 1,
            "name": "Agile,Data management,Finance,Security,,"
           },
           {
            "count": 3,
            "name": "3 others"
           }
          ],
          "nan_count": 0,
          "unique_count": 5
         }
        },
        {
         "dtype": "object",
         "name": "JobBenefits",
         "stats": {
          "categories": [
           {
            "count": 3,
            "name": "Not Specified"
           },
           {
            "count": 1,
            "name": "Career development"
           },
           {
            "count": 1,
            "name": "Flex hours,Flex vacation,Parental leave,Unlimited paid time off"
           }
          ],
          "nan_count": 0,
          "unique_count": 3
         }
        },
        {
         "dtype": "int64",
         "name": "_deepnote_index_column"
        }
       ],
       "row_count": 5,
       "rows": [
        {
         "Company": "SGS",
         "ExperienceLevel": "Entry-level",
         "JobBenefits": "Not Specified",
         "JobRequirements": "Computer Science,Data quality,Genetics,Mathematics,SAS,Statistics",
         "JobTitle": "Clinical Data Analyst",
         "JobType": "Full Time",
         "Location": "Richardson, TX, United States",
         "Salary": 48000000,
         "_deepnote_index_column": 0
        },
        {
         "Company": "Ocorian",
         "ExperienceLevel": "Entry-level",
         "JobBenefits": "Not Specified",
         "JobRequirements": "Agile,Data management,Finance,Security,,",
         "JobTitle": "AML/CFT & Data Analyst",
         "JobType": "Full Time",
         "Location": "Ebène, Mauritius",
         "Salary": 48000000,
         "_deepnote_index_column": 1
        },
        {
         "Company": "Cricut",
         "ExperienceLevel": "Not Specified",
         "JobBenefits": "Career development",
         "JobRequirements": "Agile,Architecture,AWS,Computer Science,Computer Vision,Deep Learning",
         "JobTitle": "Machine Learning Engineer",
         "JobType": "Full Time",
         "Location": "South Jordan, UT, United States",
         "Salary": 90000000,
         "_deepnote_index_column": 2
        },
        {
         "Company": "Bosch Group",
         "ExperienceLevel": "Entry-level",
         "JobBenefits": "Not Specified",
         "JobRequirements": "Engineering,Industrial,Oracle,Power BI,R,R&D",
         "JobTitle": "Application Developer & Data Analyst",
         "JobType": "Full Time",
         "Location": "Nonantola, Italy",
         "Salary": 48000000,
         "_deepnote_index_column": 3
        },
        {
         "Company": "Publicis Groupe",
         "ExperienceLevel": "Mid-level",
         "JobBenefits": "Flex hours,Flex vacation,Parental leave,Unlimited paid time off",
         "JobRequirements": "AWS,Azure,Computer Science,Consulting,Dataflow,Data pipelines",
         "JobTitle": "Data Engineer Full time (Public Sector) USA",
         "JobType": "Full Time",
         "Location": "Arlington, VA, United States",
         "Salary": 108000000,
         "_deepnote_index_column": 4
        }
       ]
      },
      "text/html": [
       "<div>\n",
       "<style scoped>\n",
       "    .dataframe tbody tr th:only-of-type {\n",
       "        vertical-align: middle;\n",
       "    }\n",
       "\n",
       "    .dataframe tbody tr th {\n",
       "        vertical-align: top;\n",
       "    }\n",
       "\n",
       "    .dataframe thead th {\n",
       "        text-align: right;\n",
       "    }\n",
       "</style>\n",
       "<table border=\"1\" class=\"dataframe\">\n",
       "  <thead>\n",
       "    <tr style=\"text-align: right;\">\n",
       "      <th></th>\n",
       "      <th>Company</th>\n",
       "      <th>JobTitle</th>\n",
       "      <th>Location</th>\n",
       "      <th>JobType</th>\n",
       "      <th>ExperienceLevel</th>\n",
       "      <th>Salary</th>\n",
       "      <th>JobRequirements</th>\n",
       "      <th>JobBenefits</th>\n",
       "    </tr>\n",
       "  </thead>\n",
       "  <tbody>\n",
       "    <tr>\n",
       "      <th>0</th>\n",
       "      <td>SGS</td>\n",
       "      <td>Clinical Data Analyst</td>\n",
       "      <td>Richardson, TX, United States</td>\n",
       "      <td>Full Time</td>\n",
       "      <td>Entry-level</td>\n",
       "      <td>48000000</td>\n",
       "      <td>Computer Science,Data quality,Genetics,Mathema...</td>\n",
       "      <td>Not Specified</td>\n",
       "    </tr>\n",
       "    <tr>\n",
       "      <th>1</th>\n",
       "      <td>Ocorian</td>\n",
       "      <td>AML/CFT &amp; Data Analyst</td>\n",
       "      <td>Ebène, Mauritius</td>\n",
       "      <td>Full Time</td>\n",
       "      <td>Entry-level</td>\n",
       "      <td>48000000</td>\n",
       "      <td>Agile,Data management,Finance,Security,,</td>\n",
       "      <td>Not Specified</td>\n",
       "    </tr>\n",
       "    <tr>\n",
       "      <th>2</th>\n",
       "      <td>Cricut</td>\n",
       "      <td>Machine Learning Engineer</td>\n",
       "      <td>South Jordan, UT, United States</td>\n",
       "      <td>Full Time</td>\n",
       "      <td>Not Specified</td>\n",
       "      <td>90000000</td>\n",
       "      <td>Agile,Architecture,AWS,Computer Science,Comput...</td>\n",
       "      <td>Career development</td>\n",
       "    </tr>\n",
       "    <tr>\n",
       "      <th>3</th>\n",
       "      <td>Bosch Group</td>\n",
       "      <td>Application Developer &amp; Data Analyst</td>\n",
       "      <td>Nonantola, Italy</td>\n",
       "      <td>Full Time</td>\n",
       "      <td>Entry-level</td>\n",
       "      <td>48000000</td>\n",
       "      <td>Engineering,Industrial,Oracle,Power BI,R,R&amp;D</td>\n",
       "      <td>Not Specified</td>\n",
       "    </tr>\n",
       "    <tr>\n",
       "      <th>4</th>\n",
       "      <td>Publicis Groupe</td>\n",
       "      <td>Data Engineer Full time (Public Sector) USA</td>\n",
       "      <td>Arlington, VA, United States</td>\n",
       "      <td>Full Time</td>\n",
       "      <td>Mid-level</td>\n",
       "      <td>108000000</td>\n",
       "      <td>AWS,Azure,Computer Science,Consulting,Dataflow...</td>\n",
       "      <td>Flex hours,Flex vacation,Parental leave,Unlimi...</td>\n",
       "    </tr>\n",
       "  </tbody>\n",
       "</table>\n",
       "</div>"
      ],
      "text/plain": [
       "           Company                                     JobTitle  \\\n",
       "0              SGS                        Clinical Data Analyst   \n",
       "1          Ocorian                       AML/CFT & Data Analyst   \n",
       "2           Cricut                    Machine Learning Engineer   \n",
       "3      Bosch Group         Application Developer & Data Analyst   \n",
       "4  Publicis Groupe  Data Engineer Full time (Public Sector) USA   \n",
       "\n",
       "                          Location    JobType ExperienceLevel     Salary  \\\n",
       "0    Richardson, TX, United States  Full Time     Entry-level   48000000   \n",
       "1                 Ebène, Mauritius  Full Time     Entry-level   48000000   \n",
       "2  South Jordan, UT, United States  Full Time   Not Specified   90000000   \n",
       "3                 Nonantola, Italy  Full Time     Entry-level   48000000   \n",
       "4     Arlington, VA, United States  Full Time       Mid-level  108000000   \n",
       "\n",
       "                                     JobRequirements  \\\n",
       "0  Computer Science,Data quality,Genetics,Mathema...   \n",
       "1           Agile,Data management,Finance,Security,,   \n",
       "2  Agile,Architecture,AWS,Computer Science,Comput...   \n",
       "3       Engineering,Industrial,Oracle,Power BI,R,R&D   \n",
       "4  AWS,Azure,Computer Science,Consulting,Dataflow...   \n",
       "\n",
       "                                         JobBenefits  \n",
       "0                                      Not Specified  \n",
       "1                                      Not Specified  \n",
       "2                                 Career development  \n",
       "3                                      Not Specified  \n",
       "4  Flex hours,Flex vacation,Parental leave,Unlimi...  "
      ]
     },
     "execution_count": 28,
     "metadata": {},
     "output_type": "execute_result"
    }
   ],
   "source": [
    "df.head()"
   ]
  },
  {
   "cell_type": "markdown",
   "metadata": {
    "cell_id": "bce73ce78d63492f9db72762be363237",
    "deepnote_app_coordinates": {
     "h": 5,
     "w": 12,
     "x": 0,
     "y": 0
    },
    "deepnote_cell_type": "text-cell-h3",
    "formattedRanges": []
   },
   "source": [
    "### Extract the Country name from Location column"
   ]
  },
  {
   "cell_type": "code",
   "execution_count": 29,
   "metadata": {
    "cell_id": "71558bbd480747f6924d0e768316f4db",
    "deepnote_app_coordinates": {
     "h": 5,
     "w": 12,
     "x": 0,
     "y": 0
    },
    "deepnote_cell_type": "code",
    "deepnote_to_be_reexecuted": false,
    "execution_millis": 208,
    "execution_start": 1691694332297,
    "source_hash": "1b671b70"
   },
   "outputs": [
    {
     "data": {
      "application/vnd.deepnote.dataframe.v3+json": {
       "column_count": 1,
       "columns": [
        {
         "dtype": "object",
         "name": "Country",
         "stats": {
          "categories": [
           {
            "count": 1,
            "name": "Afghanistan"
           },
           {
            "count": 1,
            "name": "Albania"
           },
           {
            "count": 193,
            "name": "193 others"
           }
          ],
          "nan_count": 0,
          "unique_count": 195
         }
        },
        {
         "dtype": "int64",
         "name": "_deepnote_index_column"
        }
       ],
       "row_count": 195,
       "rows": [
        {
         "Country": "Afghanistan",
         "_deepnote_index_column": 0
        },
        {
         "Country": "Albania",
         "_deepnote_index_column": 1
        },
        {
         "Country": "Algeria",
         "_deepnote_index_column": 2
        },
        {
         "Country": "Andorra",
         "_deepnote_index_column": 3
        },
        {
         "Country": "Angola",
         "_deepnote_index_column": 4
        },
        {
         "Country": "Antigua and Barbuda",
         "_deepnote_index_column": 5
        },
        {
         "Country": "Argentina",
         "_deepnote_index_column": 6
        },
        {
         "Country": "Armenia",
         "_deepnote_index_column": 7
        },
        {
         "Country": "Austria",
         "_deepnote_index_column": 8
        },
        {
         "Country": "Azerbaijan",
         "_deepnote_index_column": 9
        }
       ]
      },
      "text/html": [
       "<div>\n",
       "<style scoped>\n",
       "    .dataframe tbody tr th:only-of-type {\n",
       "        vertical-align: middle;\n",
       "    }\n",
       "\n",
       "    .dataframe tbody tr th {\n",
       "        vertical-align: top;\n",
       "    }\n",
       "\n",
       "    .dataframe thead th {\n",
       "        text-align: right;\n",
       "    }\n",
       "</style>\n",
       "<table border=\"1\" class=\"dataframe\">\n",
       "  <thead>\n",
       "    <tr style=\"text-align: right;\">\n",
       "      <th></th>\n",
       "      <th>Country</th>\n",
       "    </tr>\n",
       "  </thead>\n",
       "  <tbody>\n",
       "    <tr>\n",
       "      <th>0</th>\n",
       "      <td>Afghanistan</td>\n",
       "    </tr>\n",
       "    <tr>\n",
       "      <th>1</th>\n",
       "      <td>Albania</td>\n",
       "    </tr>\n",
       "    <tr>\n",
       "      <th>2</th>\n",
       "      <td>Algeria</td>\n",
       "    </tr>\n",
       "    <tr>\n",
       "      <th>3</th>\n",
       "      <td>Andorra</td>\n",
       "    </tr>\n",
       "    <tr>\n",
       "      <th>4</th>\n",
       "      <td>Angola</td>\n",
       "    </tr>\n",
       "    <tr>\n",
       "      <th>...</th>\n",
       "      <td>...</td>\n",
       "    </tr>\n",
       "    <tr>\n",
       "      <th>190</th>\n",
       "      <td>Yemen</td>\n",
       "    </tr>\n",
       "    <tr>\n",
       "      <th>191</th>\n",
       "      <td>Zambia</td>\n",
       "    </tr>\n",
       "    <tr>\n",
       "      <th>192</th>\n",
       "      <td>Zimbabwe</td>\n",
       "    </tr>\n",
       "    <tr>\n",
       "      <th>193</th>\n",
       "      <td>remote</td>\n",
       "    </tr>\n",
       "    <tr>\n",
       "      <th>194</th>\n",
       "      <td>worldwide</td>\n",
       "    </tr>\n",
       "  </tbody>\n",
       "</table>\n",
       "<p>195 rows × 1 columns</p>\n",
       "</div>"
      ],
      "text/plain": [
       "         Country\n",
       "0    Afghanistan\n",
       "1        Albania\n",
       "2        Algeria\n",
       "3        Andorra\n",
       "4         Angola\n",
       "..           ...\n",
       "190        Yemen\n",
       "191       Zambia\n",
       "192     Zimbabwe\n",
       "193       remote\n",
       "194    worldwide\n",
       "\n",
       "[195 rows x 1 columns]"
      ]
     },
     "execution_count": 29,
     "metadata": {},
     "output_type": "execute_result"
    }
   ],
   "source": [
    "#read the csv file of all countries in the world\n",
    "Countries = pd.read_csv('/work/Countries.csv')\n",
    "Countries"
   ]
  },
  {
   "cell_type": "code",
   "execution_count": 30,
   "metadata": {
    "cell_id": "3a9b6157ad8f4419a6cbc998329a5b32",
    "deepnote_app_coordinates": {
     "h": 5,
     "w": 12,
     "x": 0,
     "y": 0
    },
    "deepnote_cell_type": "code",
    "deepnote_to_be_reexecuted": false,
    "execution_millis": 83,
    "execution_start": 1691694333455,
    "source_hash": "fddcfe95"
   },
   "outputs": [
    {
     "data": {
      "text/plain": [
       "['Afghanistan',\n",
       " 'Albania',\n",
       " 'Algeria',\n",
       " 'Andorra',\n",
       " 'Angola',\n",
       " 'Antigua and Barbuda',\n",
       " 'Argentina',\n",
       " 'Armenia',\n",
       " 'Austria',\n",
       " 'Azerbaijan',\n",
       " 'Bahrain',\n",
       " 'Bangladesh',\n",
       " 'Barbados',\n",
       " 'Belarus',\n",
       " 'Belgium',\n",
       " 'Belize',\n",
       " 'Benin',\n",
       " 'Bhutan',\n",
       " 'Bolivia',\n",
       " 'Bosnia and Herzegovina',\n",
       " 'Botswana',\n",
       " 'Brazil',\n",
       " 'Brunei',\n",
       " 'Bulgaria',\n",
       " 'Burkina Faso',\n",
       " 'Burundi',\n",
       " 'Cabo Verde',\n",
       " 'Cambodia',\n",
       " 'Cameroon',\n",
       " 'Canada',\n",
       " 'Central African Republic',\n",
       " 'Chad',\n",
       " 'Channel Islands',\n",
       " 'Chile',\n",
       " 'China',\n",
       " 'Colombia',\n",
       " 'Comoros',\n",
       " 'Congo',\n",
       " 'Costa Rica',\n",
       " \"Côte d'Ivoire\",\n",
       " 'Croatia',\n",
       " 'Cuba',\n",
       " 'Cyprus',\n",
       " 'Czech Republic',\n",
       " 'Denmark',\n",
       " 'Djibouti',\n",
       " 'Dominica',\n",
       " 'Dominican Republic',\n",
       " 'DR Congo',\n",
       " 'Ecuador',\n",
       " 'Egypt',\n",
       " 'El Salvador',\n",
       " 'Equatorial Guinea',\n",
       " 'Eritrea',\n",
       " 'Estonia',\n",
       " 'Eswatini',\n",
       " 'Ethiopia',\n",
       " 'Faeroe Islands',\n",
       " 'Finland',\n",
       " 'France',\n",
       " 'French Guiana',\n",
       " 'Gabon',\n",
       " 'Gambia',\n",
       " 'Georgia',\n",
       " 'Germany',\n",
       " 'Ghana',\n",
       " 'Gibraltar',\n",
       " 'Greece',\n",
       " 'Grenada',\n",
       " 'Guatemala',\n",
       " 'Guinea',\n",
       " 'Guinea-Bissau',\n",
       " 'Guyana',\n",
       " 'Haiti',\n",
       " 'Holy See',\n",
       " 'Honduras',\n",
       " 'Hong Kong',\n",
       " 'Hungary',\n",
       " 'Iceland',\n",
       " 'India',\n",
       " 'Indonesia',\n",
       " 'Iran',\n",
       " 'Iraq',\n",
       " 'Ireland',\n",
       " 'Isle of Man',\n",
       " 'Israel',\n",
       " 'Italy',\n",
       " 'Jamaica',\n",
       " 'Japan',\n",
       " 'Jordan',\n",
       " 'Kazakhstan',\n",
       " 'Kenya',\n",
       " 'Kuwait',\n",
       " 'Kyrgyzstan',\n",
       " 'Laos',\n",
       " 'Latvia',\n",
       " 'Lebanon',\n",
       " 'Lesotho',\n",
       " 'Liberia',\n",
       " 'Libya',\n",
       " 'Liechtenstein',\n",
       " 'Lithuania',\n",
       " 'Luxembourg',\n",
       " 'Macao',\n",
       " 'Madagascar',\n",
       " 'Malawi',\n",
       " 'Malaysia',\n",
       " 'Maldives',\n",
       " 'Mali',\n",
       " 'Malta',\n",
       " 'Mauritania',\n",
       " 'Mauritius',\n",
       " 'Mayotte',\n",
       " 'Mexico',\n",
       " 'Moldova',\n",
       " 'Monaco',\n",
       " 'Mongolia',\n",
       " 'Montenegro',\n",
       " 'Morocco',\n",
       " 'Mozambique',\n",
       " 'Myanmar',\n",
       " 'Namibia',\n",
       " 'Nepal',\n",
       " 'Netherlands',\n",
       " 'Nicaragua',\n",
       " 'Niger',\n",
       " 'Nigeria',\n",
       " 'North Korea',\n",
       " 'North Macedonia',\n",
       " 'Norway',\n",
       " 'Oman',\n",
       " 'Pakistan',\n",
       " 'Panama',\n",
       " 'Paraguay',\n",
       " 'Peru',\n",
       " 'Philippines',\n",
       " 'Poland',\n",
       " 'Portugal',\n",
       " 'Qatar',\n",
       " 'Réunion',\n",
       " 'Romania',\n",
       " 'Russia',\n",
       " 'Rwanda',\n",
       " 'Saint Helena',\n",
       " 'Saint Kitts and Nevis',\n",
       " 'Saint Lucia',\n",
       " 'Saint Vincent and the Grenadines',\n",
       " 'San Marino',\n",
       " 'Sao Tome & Principe',\n",
       " 'Saudi Arabia',\n",
       " 'Senegal',\n",
       " 'Serbia',\n",
       " 'Seychelles',\n",
       " 'Sierra Leone',\n",
       " 'Singapore',\n",
       " 'Slovakia',\n",
       " 'Slovenia',\n",
       " 'Somalia',\n",
       " 'South Africa',\n",
       " 'South Korea',\n",
       " 'South Sudan',\n",
       " 'Spain',\n",
       " 'Sri Lanka',\n",
       " 'State of Palestine',\n",
       " 'Sudan',\n",
       " 'Suriname',\n",
       " 'Sweden',\n",
       " 'Switzerland',\n",
       " 'Syria',\n",
       " 'Taiwan',\n",
       " 'Tajikistan',\n",
       " 'Tanzania',\n",
       " 'Thailand',\n",
       " 'The Bahamas',\n",
       " 'Timor-Leste',\n",
       " 'Togo',\n",
       " 'Trinidad and Tobago',\n",
       " 'Tunisia',\n",
       " 'Turkey',\n",
       " 'Turkmenistan',\n",
       " 'Uganda',\n",
       " 'Ukraine',\n",
       " 'United Arab Emirates',\n",
       " 'United Kingdom',\n",
       " 'United States',\n",
       " 'Uruguay',\n",
       " 'Uzbekistan',\n",
       " 'Venezuela',\n",
       " 'Vietnam',\n",
       " 'Western Sahara',\n",
       " 'Yemen',\n",
       " 'Zambia',\n",
       " 'Zimbabwe',\n",
       " 'remote',\n",
       " 'worldwide']"
      ]
     },
     "execution_count": 30,
     "metadata": {},
     "output_type": "execute_result"
    }
   ],
   "source": [
    "#convert the Countries to list\n",
    "Countries_list = Countries['Country'].tolist()\n",
    "Countries_list"
   ]
  },
  {
   "cell_type": "markdown",
   "metadata": {
    "cell_id": "336454b57bbe4fa98b651f0c957c52c3",
    "deepnote_app_coordinates": {
     "h": 5,
     "w": 12,
     "x": 0,
     "y": 0
    },
    "deepnote_cell_type": "text-cell-h3",
    "formattedRanges": []
   },
   "source": [
    "### Extract the rows that contain only state of usa"
   ]
  },
  {
   "cell_type": "markdown",
   "metadata": {
    "cell_id": "d94364526e9d46f3a34e2852cc044bba",
    "deepnote_app_coordinates": {
     "h": 2,
     "w": 8,
     "x": 0,
     "y": 0
    },
    "deepnote_cell_type": "text-cell-bullet",
    "formattedRanges": []
   },
   "source": [
    "- for e.g. Richardson, TX. it's must be Richardson, TX, United States"
   ]
  },
  {
   "cell_type": "code",
   "execution_count": 31,
   "metadata": {
    "cell_id": "053d181e806547beb89e1b4b5b54a9f9",
    "deepnote_app_coordinates": {
     "h": 5,
     "w": 12,
     "x": 0,
     "y": 0
    },
    "deepnote_cell_type": "code",
    "deepnote_to_be_reexecuted": false,
    "execution_millis": 19,
    "execution_start": 1691694335179,
    "source_hash": "8c14106e"
   },
   "outputs": [],
   "source": [
    "usa_states = pd.read_csv('/work/usa_states.csv')"
   ]
  },
  {
   "cell_type": "code",
   "execution_count": 32,
   "metadata": {
    "cell_id": "e5e78ade5a9746b7969ff0c103e27ff5",
    "deepnote_app_coordinates": {
     "h": 5,
     "w": 12,
     "x": 0,
     "y": 0
    },
    "deepnote_cell_type": "code",
    "deepnote_to_be_reexecuted": false,
    "execution_millis": 240,
    "execution_start": 1691694336382,
    "source_hash": "5ad34540"
   },
   "outputs": [
    {
     "data": {
      "application/vnd.deepnote.dataframe.v3+json": {
       "column_count": 2,
       "columns": [
        {
         "dtype": "object",
         "name": "State",
         "stats": {
          "categories": [
           {
            "count": 1,
            "name": "Alabama"
           },
           {
            "count": 1,
            "name": "Alaska"
           },
           {
            "count": 1,
            "name": "Arizona"
           }
          ],
          "nan_count": 0,
          "unique_count": 3
         }
        },
        {
         "dtype": "object",
         "name": "Abbr",
         "stats": {
          "categories": [
           {
            "count": 1,
            "name": "AL"
           },
           {
            "count": 1,
            "name": "AK"
           },
           {
            "count": 1,
            "name": "AZ"
           }
          ],
          "nan_count": 0,
          "unique_count": 3
         }
        },
        {
         "dtype": "int64",
         "name": "_deepnote_index_column"
        }
       ],
       "row_count": 3,
       "rows": [
        {
         "Abbr": "AL",
         "State": "Alabama",
         "_deepnote_index_column": 0
        },
        {
         "Abbr": "AK",
         "State": "Alaska",
         "_deepnote_index_column": 1
        },
        {
         "Abbr": "AZ",
         "State": "Arizona",
         "_deepnote_index_column": 2
        }
       ]
      },
      "text/html": [
       "<div>\n",
       "<style scoped>\n",
       "    .dataframe tbody tr th:only-of-type {\n",
       "        vertical-align: middle;\n",
       "    }\n",
       "\n",
       "    .dataframe tbody tr th {\n",
       "        vertical-align: top;\n",
       "    }\n",
       "\n",
       "    .dataframe thead th {\n",
       "        text-align: right;\n",
       "    }\n",
       "</style>\n",
       "<table border=\"1\" class=\"dataframe\">\n",
       "  <thead>\n",
       "    <tr style=\"text-align: right;\">\n",
       "      <th></th>\n",
       "      <th>State</th>\n",
       "      <th>Abbr</th>\n",
       "    </tr>\n",
       "  </thead>\n",
       "  <tbody>\n",
       "    <tr>\n",
       "      <th>0</th>\n",
       "      <td>Alabama</td>\n",
       "      <td>AL</td>\n",
       "    </tr>\n",
       "    <tr>\n",
       "      <th>1</th>\n",
       "      <td>Alaska</td>\n",
       "      <td>AK</td>\n",
       "    </tr>\n",
       "    <tr>\n",
       "      <th>2</th>\n",
       "      <td>Arizona</td>\n",
       "      <td>AZ</td>\n",
       "    </tr>\n",
       "  </tbody>\n",
       "</table>\n",
       "</div>"
      ],
      "text/plain": [
       "     State Abbr\n",
       "0  Alabama   AL\n",
       "1   Alaska   AK\n",
       "2  Arizona   AZ"
      ]
     },
     "execution_count": 32,
     "metadata": {},
     "output_type": "execute_result"
    }
   ],
   "source": [
    "usa_states.head(3)"
   ]
  },
  {
   "cell_type": "code",
   "execution_count": 33,
   "metadata": {
    "cell_id": "3056b50f1df0465a82e158ad0800abc9",
    "deepnote_app_coordinates": {
     "h": 5,
     "w": 12,
     "x": 0,
     "y": 0
    },
    "deepnote_cell_type": "code",
    "deepnote_to_be_reexecuted": false,
    "execution_millis": 129,
    "execution_start": 1691694337594,
    "source_hash": "375c31cd"
   },
   "outputs": [
    {
     "data": {
      "text/plain": [
       "['Alabama',\n",
       " 'Alaska',\n",
       " 'Arizona',\n",
       " 'Arkansas',\n",
       " 'California',\n",
       " 'Colorado',\n",
       " 'Connecticut',\n",
       " 'Delaware',\n",
       " 'District of Columbia',\n",
       " 'Florida',\n",
       " 'Georgia',\n",
       " 'Hawaii',\n",
       " 'Idaho',\n",
       " 'Illinois',\n",
       " 'Indiana',\n",
       " 'Iowa',\n",
       " 'Kansas',\n",
       " 'Kentucky',\n",
       " 'Louisiana',\n",
       " 'Maine',\n",
       " 'Montana',\n",
       " 'Nebraska',\n",
       " 'Nevada',\n",
       " 'New Hampshire',\n",
       " 'New Jersey',\n",
       " 'New Mexico',\n",
       " 'New York',\n",
       " 'North Carolina',\n",
       " 'North Dakota',\n",
       " 'Ohio',\n",
       " 'Oklahoma',\n",
       " 'Oregon',\n",
       " 'Maryland',\n",
       " 'Massachusetts',\n",
       " 'Michigan',\n",
       " 'Minnesota',\n",
       " 'Mississippi',\n",
       " 'Missouri',\n",
       " 'Pennsylvania',\n",
       " 'Rhode Island',\n",
       " 'South Carolina',\n",
       " 'South Dakota',\n",
       " 'Tennessee',\n",
       " 'Texas',\n",
       " 'Utah',\n",
       " 'Vermont',\n",
       " 'Virginia',\n",
       " 'Washington',\n",
       " 'West Virginia',\n",
       " 'Wisconsin',\n",
       " 'Wyoming',\n",
       " 'AL',\n",
       " 'AK',\n",
       " 'AZ',\n",
       " 'AR',\n",
       " 'CA',\n",
       " 'CO',\n",
       " 'CT',\n",
       " 'DE',\n",
       " 'DC',\n",
       " 'FL',\n",
       " 'GA',\n",
       " 'HI',\n",
       " 'ID',\n",
       " 'IL',\n",
       " 'IN',\n",
       " 'IA',\n",
       " 'KS',\n",
       " 'KY',\n",
       " 'LA',\n",
       " 'ME',\n",
       " 'MT',\n",
       " 'NE',\n",
       " 'NV',\n",
       " 'NH',\n",
       " 'NJ',\n",
       " 'NM',\n",
       " 'NY',\n",
       " 'NC',\n",
       " 'ND',\n",
       " 'OH',\n",
       " 'OK',\n",
       " 'OR',\n",
       " 'MD',\n",
       " 'MA',\n",
       " 'MI',\n",
       " 'MN',\n",
       " 'MS',\n",
       " 'MO',\n",
       " 'PA',\n",
       " 'RI',\n",
       " 'SC',\n",
       " 'SD',\n",
       " 'TN',\n",
       " 'TX',\n",
       " 'UT',\n",
       " 'VT',\n",
       " 'VA',\n",
       " 'WA',\n",
       " 'WV',\n",
       " 'WI',\n",
       " 'WY']"
      ]
     },
     "execution_count": 33,
     "metadata": {},
     "output_type": "execute_result"
    }
   ],
   "source": [
    "#convert the usa_states to list\n",
    "usa_states_list = usa_states['State'].tolist()\n",
    "usa_states_list.extend(usa_states['Abbr'].tolist())\n",
    "usa_states_list"
   ]
  },
  {
   "cell_type": "markdown",
   "metadata": {
    "cell_id": "a78de4b87f7341a5968f1a68060bb6e8",
    "deepnote_app_coordinates": {
     "h": 5,
     "w": 12,
     "x": 0,
     "y": 0
    },
    "deepnote_cell_type": "text-cell-h3",
    "formattedRanges": []
   },
   "source": [
    "### extract_country function"
   ]
  },
  {
   "cell_type": "markdown",
   "metadata": {
    "cell_id": "b4693294e0774ae894d1474cddfcd98a",
    "deepnote_app_coordinates": {
     "h": 2,
     "w": 8,
     "x": 0,
     "y": 0
    },
    "deepnote_cell_type": "text-cell-p",
    "formattedRanges": []
   },
   "source": [
    "The main task for this function is finds the country name from location column.Also the function searches for rows that contain only state name only without country.Finally, the function return the country name or None."
   ]
  },
  {
   "cell_type": "code",
   "execution_count": 34,
   "metadata": {
    "cell_id": "3cf68d01e0614428a367d7c2e06d724d",
    "deepnote_app_coordinates": {
     "h": 5,
     "w": 12,
     "x": 0,
     "y": 0
    },
    "deepnote_cell_type": "code",
    "deepnote_to_be_reexecuted": false,
    "execution_millis": 8,
    "execution_start": 1691694340951,
    "source_hash": "a777749b"
   },
   "outputs": [],
   "source": [
    "def extract_country(location):\n",
    "    for country in Countries_list:\n",
    "        if country.lower() in location.lower():\n",
    "            return country\n",
    "    for state in usa_states_list:\n",
    "        if state.lower() in location.lower():\n",
    "            return 'united states'\n",
    "    return None"
   ]
  },
  {
   "cell_type": "code",
   "execution_count": 35,
   "metadata": {
    "cell_id": "b254f1f1f4e64c8d8ae605bb68b8af42",
    "deepnote_app_coordinates": {
     "h": 5,
     "w": 12,
     "x": 0,
     "y": 0
    },
    "deepnote_cell_type": "code",
    "deepnote_to_be_reexecuted": false,
    "execution_millis": 71,
    "execution_start": 1691694342611,
    "source_hash": "7786ef80"
   },
   "outputs": [],
   "source": [
    "#Apply the function on the Location column\n",
    "df['Country'] = df['Location'].apply(extract_country)"
   ]
  },
  {
   "cell_type": "code",
   "execution_count": 36,
   "metadata": {
    "cell_id": "e2b975355eaf4a179b8344b99bbfced4",
    "deepnote_app_coordinates": {
     "h": 5,
     "w": 12,
     "x": 0,
     "y": 0
    },
    "deepnote_cell_type": "code",
    "deepnote_to_be_reexecuted": false,
    "execution_millis": 132,
    "execution_start": 1691694344284,
    "source_hash": "91ceb546"
   },
   "outputs": [
    {
     "data": {
      "text/plain": [
       "array(['United States', 'Mauritius', 'Jordan', 'Italy', 'Portugal',\n",
       "       'Switzerland', 'Canada', 'India', 'Germany', 'united states',\n",
       "       'remote', 'Spain', 'France', 'Mexico', 'Brazil', 'Poland',\n",
       "       'Malaysia', 'Argentina', 'Belgium', 'United Kingdom', 'Ukraine',\n",
       "       'United Arab Emirates', 'South Africa', 'Costa Rica', 'Lithuania',\n",
       "       'Israel', 'Colombia', 'Zambia', 'Czech Republic', None,\n",
       "       'Singapore', 'Serbia', 'Netherlands', 'Luxembourg', 'Thailand',\n",
       "       'Niger', 'Sweden', 'Estonia', 'Croatia', 'Egypt', 'Gibraltar',\n",
       "       'Philippines', 'Zimbabwe', 'Georgia', 'Finland', 'Norway',\n",
       "       'Vietnam', 'Bulgaria', 'Oman', 'Hong Kong', 'Turkey', 'Denmark',\n",
       "       'Bosnia and Herzegovina', 'South Korea', 'Indonesia', 'Pakistan',\n",
       "       'Chile', 'Malta', 'Ireland', 'North Macedonia', 'Slovenia',\n",
       "       'Hungary', 'Greece', 'Morocco', 'Austria', 'Sri Lanka', 'Latvia',\n",
       "       'Japan', 'Nepal', 'Armenia', 'Slovakia', 'Taiwan', 'Uruguay',\n",
       "       'Albania', 'Peru', 'Bangladesh', 'Lebanon', 'Cyprus'], dtype=object)"
      ]
     },
     "execution_count": 36,
     "metadata": {},
     "output_type": "execute_result"
    }
   ],
   "source": [
    "df['Country'].unique()"
   ]
  },
  {
   "cell_type": "code",
   "execution_count": 37,
   "metadata": {
    "cell_id": "6bc1fcc0235a43758bf334059343b7af",
    "deepnote_app_coordinates": {
     "h": 5,
     "w": 12,
     "x": 0,
     "y": 0
    },
    "deepnote_cell_type": "code",
    "deepnote_table_loading": false,
    "deepnote_table_state": {
     "filters": [],
     "pageIndex": 0,
     "pageSize": 50,
     "sortBy": []
    },
    "deepnote_to_be_reexecuted": false,
    "execution_millis": 189,
    "execution_start": 1691694346716,
    "source_hash": "ab2033f6"
   },
   "outputs": [
    {
     "data": {
      "application/vnd.deepnote.dataframe.v3+json": {
       "column_count": 9,
       "columns": [
        {
         "dtype": "object",
         "name": "Company",
         "stats": {
          "categories": [
           {
            "count": 4,
            "name": "Fivesky"
           },
           {
            "count": 2,
            "name": "Riskified"
           },
           {
            "count": 29,
            "name": "22 others"
           }
          ],
          "nan_count": 0,
          "unique_count": 24
         }
        },
        {
         "dtype": "object",
         "name": "JobTitle",
         "stats": {
          "categories": [
           {
            "count": 4,
            "name": "Data Specialist - Governance"
           },
           {
            "count": 3,
            "name": "Data Engineer"
           },
           {
            "count": 28,
            "name": "25 others"
           }
          ],
          "nan_count": 0,
          "unique_count": 27
         }
        },
        {
         "dtype": "object",
         "name": "Location",
         "stats": {
          "categories": [
           {
            "count": 4,
            "name": "Budapest, HUN"
           },
           {
            "count": 3,
            "name": "Tel Aviv"
           },
           {
            "count": 28,
            "name": "20 others"
           }
          ],
          "nan_count": 0,
          "unique_count": 22
         }
        },
        {
         "dtype": "object",
         "name": "JobType",
         "stats": {
          "categories": [
           {
            "count": 35,
            "name": "Full Time"
           }
          ],
          "nan_count": 0,
          "unique_count": 1
         }
        },
        {
         "dtype": "object",
         "name": "ExperienceLevel",
         "stats": {
          "categories": [
           {
            "count": 21,
            "name": "Senior-level"
           },
           {
            "count": 6,
            "name": "Not Specified"
           },
           {
            "count": 8,
            "name": "2 others"
           }
          ],
          "nan_count": 0,
          "unique_count": 4
         }
        },
        {
         "dtype": "int64",
         "name": "Salary",
         "stats": {
          "histogram": [
           {
            "bin_end": 49400000,
            "bin_start": 30000000,
            "count": 5
           },
           {
            "bin_end": 68800000,
            "bin_start": 49400000,
            "count": 11
           },
           {
            "bin_end": 88200000,
            "bin_start": 68800000,
            "count": 8
           },
           {
            "bin_end": 107600000,
            "bin_start": 88200000,
            "count": 7
           },
           {
            "bin_end": 127000000,
            "bin_start": 107600000,
            "count": 2
           },
           {
            "bin_end": 146400000,
            "bin_start": 127000000,
            "count": 0
           },
           {
            "bin_end": 165800000,
            "bin_start": 146400000,
            "count": 0
           },
           {
            "bin_end": 185200000,
            "bin_start": 165800000,
            "count": 0
           },
           {
            "bin_end": 204600000,
            "bin_start": 185200000,
            "count": 1
           },
           {
            "bin_end": 224000000,
            "bin_start": 204600000,
            "count": 1
           }
          ],
          "max": "224000000",
          "min": "30000000",
          "nan_count": 0,
          "unique_count": 17
         }
        },
        {
         "dtype": "object",
         "name": "JobRequirements",
         "stats": {
          "categories": [
           {
            "count": 4,
            "name": "Data management,Data quality,Data visualization,Excel,Python,Security"
           },
           {
            "count": 2,
            "name": "Ansible,AWS,Azure,CI/CD,Computer Science,CX"
           },
           {
            "count": 29,
            "name": "29 others"
           }
          ],
          "nan_count": 0,
          "unique_count": 31
         }
        },
        {
         "dtype": "object",
         "name": "JobBenefits",
         "stats": {
          "categories": [
           {
            "count": 6,
            "name": "Not Specified"
           },
           {
            "count": 4,
            "name": "Competitive pay,Flex vacation"
           },
           {
            "count": 25,
            "name": "18 others"
           }
          ],
          "nan_count": 0,
          "unique_count": 20
         }
        },
        {
         "dtype": "object",
         "name": "Country",
         "stats": {
          "categories": [
           {
            "count": 35,
            "name": "Missing"
           }
          ],
          "nan_count": 35,
          "unique_count": 0
         }
        },
        {
         "dtype": "int64",
         "name": "_deepnote_index_column"
        }
       ],
       "row_count": 35,
       "rows": [
        {
         "Company": "Riskified",
         "Country": "None",
         "ExperienceLevel": "Not Specified",
         "JobBenefits": "Career development,Equity,Health care,Home office stipend,Insurance",
         "JobRequirements": "Airflow,Big Data,Classification,Clustering,Computer Science,Databricks",
         "JobTitle": "Data Scientist",
         "JobType": "Full Time",
         "Location": "Tel Aviv",
         "Salary": 92000000,
         "_deepnote_index_column": 129
        },
        {
         "Company": "bunq",
         "Country": "None",
         "ExperienceLevel": "Mid-level",
         "JobBenefits": "Career development,Equity,Flex vacation,Health care,Insurance",
         "JobRequirements": "AWS,Banking,ETL,FinTech,NLP,Python",
         "JobTitle": "Data Engineer - Türkiye",
         "JobType": "Full Time",
         "Location": "Kadiköy / Istanbul, Istanbul, Türkiye",
         "Salary": 73000000,
         "_deepnote_index_column": 256
        },
        {
         "Company": "Sensor Tower",
         "Country": "None",
         "ExperienceLevel": "Not Specified",
         "JobBenefits": "Career development,Competitive pay,Equity,Flex vacation,Health care",
         "JobRequirements": "AWS,Computer Science,DataOps,Data visualization,Excel,GCP",
         "JobTitle": "Coordinator of Data Operations",
         "JobType": "Full Time",
         "Location": "San Diego",
         "Salary": 59000000,
         "_deepnote_index_column": 320
        },
        {
         "Company": "Fivesky",
         "Country": "None",
         "ExperienceLevel": "Not Specified",
         "JobBenefits": "Competitive pay,Flex vacation",
         "JobRequirements": "Data management,Data quality,Data visualization,Excel,Python,Security",
         "JobTitle": "Data Specialist - Governance",
         "JobType": "Full Time",
         "Location": "Budapest, HUN",
         "Salary": 70000000,
         "_deepnote_index_column": 402
        },
        {
         "Company": "bunq",
         "Country": "None",
         "ExperienceLevel": "Mid-level",
         "JobBenefits": "Career development,Equity,Flex vacation,Health care,Insurance",
         "JobRequirements": "AWS,Banking,ETL,NLP,Python,SQL",
         "JobTitle": "Data Engineer",
         "JobType": "Full Time",
         "Location": "Kadiköy / Istanbul, Istanbul, Türkiye",
         "Salary": 73000000,
         "_deepnote_index_column": 530
        },
        {
         "Company": "Kpler",
         "Country": "None",
         "ExperienceLevel": "Senior-level",
         "JobBenefits": "Competitive pay,Flex vacation,Gear,Medical leave,Parental leave",
         "JobRequirements": "Ansible,AWS,Data pipelines,DevOps,Elasticsearch,Engineering",
         "JobTitle": "Senior/Staff Data Engineer",
         "JobType": "Full Time",
         "Location": "Athens",
         "Salary": 115000000,
         "_deepnote_index_column": 808
        },
        {
         "Company": "Credera",
         "Country": "None",
         "ExperienceLevel": "Senior-level",
         "JobBenefits": "401(k) matching,Career development,Competitive pay,Startup environment",
         "JobRequirements": "Architecture,AWS,Azure,Cluster analysis,Computer Science,Consulting",
         "JobTitle": "Principal  - Data Science",
         "JobType": "Full Time",
         "Location": "Los Angeles",
         "Salary": 224000000,
         "_deepnote_index_column": 944
        },
        {
         "Company": "Credera",
         "Country": "None",
         "ExperienceLevel": "Senior-level",
         "JobBenefits": "401(k) matching,Career development,Competitive pay",
         "JobRequirements": "Agile,Architecture,AWS,Azure,Cluster analysis,Computer Science",
         "JobTitle": "Senior Machine Learning Architect",
         "JobType": "Full Time",
         "Location": "Los Angeles",
         "Salary": 189000000,
         "_deepnote_index_column": 948
        },
        {
         "Company": "Fivesky",
         "Country": "None",
         "ExperienceLevel": "Senior-level",
         "JobBenefits": "Competitive pay,Flex vacation",
         "JobRequirements": "Data management,Data quality,Data visualization,Excel,Python,Security",
         "JobTitle": "Data Specialist - Governance",
         "JobType": "Full Time",
         "Location": "Budapest, HUN",
         "Salary": 70000000,
         "_deepnote_index_column": 1006
        },
        {
         "Company": "Kambi",
         "Country": "None",
         "ExperienceLevel": "Entry-level",
         "JobBenefits": "Career development,Conferences,Team events",
         "JobRequirements": "Agile,AWS,Kafka,NoSQL,Python,Spark",
         "JobTitle": "Data Engineer  Data Lake",
         "JobType": "Full Time",
         "Location": "Stockholm",
         "Salary": 59000000,
         "_deepnote_index_column": 1077
        },
        {
         "Company": "Riskified",
         "Country": "None",
         "ExperienceLevel": "Senior-level",
         "JobBenefits": "Career development,Equity,Health care,Home office stipend,Insurance",
         "JobRequirements": "Computer Science,E-commerce,Economics,Machine Learning,Mathematics,Python",
         "JobTitle": "Data Analyst",
         "JobType": "Full Time",
         "Location": "Tel Aviv",
         "Salary": 92000000,
         "_deepnote_index_column": 1157
        },
        {
         "Company": "PayMongo",
         "Country": "None",
         "ExperienceLevel": "Senior-level",
         "JobBenefits": "Not Specified",
         "JobRequirements": "AWS,Azure,Business Intelligence,Computer Science,Data management,Data pipelines",
         "JobTitle": "Data Engineer",
         "JobType": "Full Time",
         "Location": "Taguig",
         "Salary": 115000000,
         "_deepnote_index_column": 1177
        },
        {
         "Company": "M-KOPA",
         "Country": "None",
         "ExperienceLevel": "Not Specified",
         "JobBenefits": "Career development,Health care,Home office stipend",
         "JobRequirements": "DataOps,Data quality,Excel,FinTech,KPIs,Looker",
         "JobTitle": "Data Operations Analyst",
         "JobType": "Full Time",
         "Location": "Nairobi",
         "Salary": 39000000,
         "_deepnote_index_column": 1320
        },
        {
         "Company": "Dream Sports",
         "Country": "None",
         "ExperienceLevel": "Entry-level",
         "JobBenefits": "Not Specified",
         "JobRequirements": "Architecture,AWS,Cassandra,Distributed Systems,Kafka,Looker",
         "JobTitle": "Data Analyst",
         "JobType": "Full Time",
         "Location": "Mumbai",
         "Salary": 48000000,
         "_deepnote_index_column": 1441
        },
        {
         "Company": "Relativity",
         "Country": "None",
         "ExperienceLevel": "Senior-level",
         "JobBenefits": "Flex hours,Flex vacation,Health care,Unlimited paid time off",
         "JobRequirements": "Ansible,AWS,Azure,CI/CD,Computer Science,CX",
         "JobTitle": "Software Engineer (SRE in Elasticsearch platform team)",
         "JobType": "Full Time",
         "Location": "Rzeszow",
         "Salary": 62000000,
         "_deepnote_index_column": 1629
        },
        {
         "Company": "Relativity",
         "Country": "None",
         "ExperienceLevel": "Senior-level",
         "JobBenefits": "Flex hours,Flex vacation,Health care,Unlimited paid time off",
         "JobRequirements": "Ansible,AWS,Azure,CI/CD,Computer Science,CX",
         "JobTitle": "Senior Software Engineer (SRE in Elasticsearch platform team)",
         "JobType": "Full Time",
         "Location": "Poznan",
         "Salary": 62000000,
         "_deepnote_index_column": 1634
        },
        {
         "Company": "CRI Group",
         "Country": "None",
         "ExperienceLevel": "Senior-level",
         "JobBenefits": "Career development",
         "JobRequirements": "Agile,Airflow,Architecture,AWS,Azure,Cassandra",
         "JobTitle": "Expert in AI/ NLP/ ML - 4354",
         "JobType": "Full Time",
         "Location": "Brussels",
         "Salary": 62000000,
         "_deepnote_index_column": 1731
        },
        {
         "Company": "Riiid Labs",
         "Country": "None",
         "ExperienceLevel": "Not Specified",
         "JobBenefits": "Not Specified",
         "JobRequirements": "ChatGPT,GPT,JSON,Machine Learning,NeurIPS,UX",
         "JobTitle": "AI Data Manager",
         "JobType": "Full Time",
         "Location": "Seoul",
         "Salary": 77000000,
         "_deepnote_index_column": 1741
        },
        {
         "Company": "Fivesky",
         "Country": "None",
         "ExperienceLevel": "Senior-level",
         "JobBenefits": "Competitive pay,Flex vacation",
         "JobRequirements": "Data management,Data quality,Data visualization,Excel,Python,Security",
         "JobTitle": "Data Specialist - Governance",
         "JobType": "Full Time",
         "Location": "Budapest, HUN",
         "Salary": 70000000,
         "_deepnote_index_column": 1754
        },
        {
         "Company": "AppsFlyer",
         "Country": "None",
         "ExperienceLevel": "Senior-level",
         "JobBenefits": "Not Specified",
         "JobRequirements": "AWS,Big Data,BigQuery,Computer Science,CX,Data analysis",
         "JobTitle": "Product Data Analyst",
         "JobType": "Full Time",
         "Location": "Herzliya",
         "Salary": 55000000,
         "_deepnote_index_column": 1938
        },
        {
         "Company": "Algorhythm",
         "Country": "None",
         "ExperienceLevel": "Mid-level",
         "JobBenefits": "Competitive pay,Flex hours,Gear,Team events",
         "JobRequirements": "AWS,Azure,Databricks,Data governance,Data management,Data quality",
         "JobTitle": "Data Management consultant",
         "JobType": "Full Time",
         "Location": "Thuiswerk",
         "Salary": 56000000,
         "_deepnote_index_column": 2171
        },
        {
         "Company": "Zynga",
         "Country": "None",
         "ExperienceLevel": "Senior-level",
         "JobBenefits": "Career development,Flex hours,Flex vacation,Insurance,Medical leave",
         "JobRequirements": "Computer Science,Deep Learning,Economics,Machine Learning,Mathematics,ML models",
         "JobTitle": "Data Analyst 2",
         "JobType": "Full Time",
         "Location": "European Union",
         "Salary": 92000000,
         "_deepnote_index_column": 2291
        },
        {
         "Company": "Pipedrive",
         "Country": "None",
         "ExperienceLevel": "Not Specified",
         "JobBenefits": "Career development,Competitive pay,Equity,Flex hours,Flex vacation",
         "JobRequirements": "A/B testing,Data analysis,Power BI,Python,R,R&D",
         "JobTitle": "Product Data Analyst",
         "JobType": "Full Time",
         "Location": "Prague",
         "Salary": 56000000,
         "_deepnote_index_column": 2349
        },
        {
         "Company": "Fivesky",
         "Country": "None",
         "ExperienceLevel": "Senior-level",
         "JobBenefits": "Competitive pay,Flex vacation",
         "JobRequirements": "Data management,Data quality,Data visualization,Excel,Python,Security",
         "JobTitle": "Data Specialist - Governance",
         "JobType": "Full Time",
         "Location": "Budapest, HUN",
         "Salary": 70000000,
         "_deepnote_index_column": 2373
        },
        {
         "Company": "FREE NOW",
         "Country": "None",
         "ExperienceLevel": "Senior-level",
         "JobBenefits": "Career development,Fitness / gym,Flex hours",
         "JobRequirements": "Computer Science,Economics,Engineering,Mathematics,Python,QlikView",
         "JobTitle": "Product Data Analyst (m/f/d) - Hamburg",
         "JobType": "Full Time",
         "Location": "Hamburg",
         "Salary": 92000000,
         "_deepnote_index_column": 2389
        },
        {
         "Company": "Wasoko",
         "Country": "None",
         "ExperienceLevel": "Senior-level",
         "JobBenefits": "Startup environment",
         "JobRequirements": "Agile,BigQuery,Business Intelligence,Data quality,Data visualization,E-commerce",
         "JobTitle": "Business Intelligence Analyst",
         "JobType": "Full Time",
         "Location": "Nairobi, KE",
         "Salary": 48000000,
         "_deepnote_index_column": 2395
        },
        {
         "Company": "Mindvalley",
         "Country": "None",
         "ExperienceLevel": "Senior-level",
         "JobBenefits": "Career development",
         "JobRequirements": "AWS,Azure,Business Intelligence,Computer Science,Data Analytics,Data quality",
         "JobTitle": "Senior Data Analyst",
         "JobType": "Full Time",
         "Location": "European Union",
         "Salary": 92000000,
         "_deepnote_index_column": 2465
        },
        {
         "Company": "Kambi",
         "Country": "None",
         "ExperienceLevel": "Entry-level",
         "JobBenefits": "Career development,Conferences,Team events",
         "JobRequirements": "Airflow,Engineering,Grafana,,,",
         "JobTitle": "Data Engineer",
         "JobType": "Full Time",
         "Location": "Stockholm",
         "Salary": 59000000,
         "_deepnote_index_column": 2530
        },
        {
         "Company": "CRI Group",
         "Country": "None",
         "ExperienceLevel": "Senior-level",
         "JobBenefits": "Not Specified",
         "JobRequirements": "Architecture,Business Intelligence,Data analysis,Data management,Data Mining,Data quality",
         "JobTitle": "Business Intelligence Expert - 4335",
         "JobType": "Full Time",
         "Location": "Brussels",
         "Salary": 62000000,
         "_deepnote_index_column": 2662
        },
        {
         "Company": "Via",
         "Country": "None",
         "ExperienceLevel": "Senior-level",
         "JobBenefits": "Not Specified",
         "JobRequirements": "Airflow,Architecture,Big Data,BigQuery,Computer Science,Databricks",
         "JobTitle": "Senior Data Infrastructure Engineer",
         "JobType": "Full Time",
         "Location": "Tel Aviv",
         "Salary": 55000000,
         "_deepnote_index_column": 2734
        },
        {
         "Company": "Hadrian",
         "Country": "None",
         "ExperienceLevel": "Senior-level",
         "JobBenefits": "Career development,Flex hours,Flex vacation,Health care,Relocation support",
         "JobRequirements": "APIs,CAD,Computer Vision,Engineering,Industrial,Machine Learning",
         "JobTitle": "Robotics Engineer",
         "JobType": "Full Time",
         "Location": "Los Angeles",
         "Salary": 69000000,
         "_deepnote_index_column": 2905
        },
        {
         "Company": "Dexterity",
         "Country": "None",
         "ExperienceLevel": "Senior-level",
         "JobBenefits": "Career development",
         "JobRequirements": "Architecture,Computer Science,Computer Vision,Data analysis,Engineering,Machine Learning",
         "JobTitle": "Robotics Engineer - Tech Lead",
         "JobType": "Full Time",
         "Location": "Redwood City",
         "Salary": 103000000,
         "_deepnote_index_column": 2918
        },
        {
         "Company": "GWI",
         "Country": "None",
         "ExperienceLevel": "Entry-level",
         "JobBenefits": "Career development,Competitive pay,Health care,Salary bonus,Team events",
         "JobRequirements": "Agile,Data quality,Data Warehousing,ELT,Engineering,ETL",
         "JobTitle": "Data Analyst",
         "JobType": "Full Time",
         "Location": "Athens, GR",
         "Salary": 42000000,
         "_deepnote_index_column": 2956
        },
        {
         "Company": "AppsFlyer",
         "Country": "None",
         "ExperienceLevel": "Senior-level",
         "JobBenefits": "Salary bonus,Team events",
         "JobRequirements": "AWS,Computer Science,Data analysis,Data Analytics,Data pipelines,Data visualization",
         "JobTitle": "R&D Data Analyst",
         "JobType": "Full Time",
         "Location": "Herzliya",
         "Salary": 92000000,
         "_deepnote_index_column": 2961
        },
        {
         "Company": "GWI",
         "Country": "None",
         "ExperienceLevel": "Entry-level",
         "JobBenefits": "Career development,Competitive pay,Health care,Salary bonus,Team events",
         "JobRequirements": "Agile,Data Analytics,Data quality,Data Warehousing,ELT,Engineering",
         "JobTitle": "Data Analytics Engineer",
         "JobType": "Full Time",
         "Location": "Athens, GR",
         "Salary": 30000000,
         "_deepnote_index_column": 2973
        }
       ]
      },
      "text/html": [
       "<div>\n",
       "<style scoped>\n",
       "    .dataframe tbody tr th:only-of-type {\n",
       "        vertical-align: middle;\n",
       "    }\n",
       "\n",
       "    .dataframe tbody tr th {\n",
       "        vertical-align: top;\n",
       "    }\n",
       "\n",
       "    .dataframe thead th {\n",
       "        text-align: right;\n",
       "    }\n",
       "</style>\n",
       "<table border=\"1\" class=\"dataframe\">\n",
       "  <thead>\n",
       "    <tr style=\"text-align: right;\">\n",
       "      <th></th>\n",
       "      <th>Company</th>\n",
       "      <th>JobTitle</th>\n",
       "      <th>Location</th>\n",
       "      <th>JobType</th>\n",
       "      <th>ExperienceLevel</th>\n",
       "      <th>Salary</th>\n",
       "      <th>JobRequirements</th>\n",
       "      <th>JobBenefits</th>\n",
       "      <th>Country</th>\n",
       "    </tr>\n",
       "  </thead>\n",
       "  <tbody>\n",
       "    <tr>\n",
       "      <th>129</th>\n",
       "      <td>Riskified</td>\n",
       "      <td>Data Scientist</td>\n",
       "      <td>Tel Aviv</td>\n",
       "      <td>Full Time</td>\n",
       "      <td>Not Specified</td>\n",
       "      <td>92000000</td>\n",
       "      <td>Airflow,Big Data,Classification,Clustering,Com...</td>\n",
       "      <td>Career development,Equity,Health care,Home off...</td>\n",
       "      <td>None</td>\n",
       "    </tr>\n",
       "    <tr>\n",
       "      <th>256</th>\n",
       "      <td>bunq</td>\n",
       "      <td>Data Engineer - Türkiye</td>\n",
       "      <td>Kadiköy / Istanbul, Istanbul, Türkiye</td>\n",
       "      <td>Full Time</td>\n",
       "      <td>Mid-level</td>\n",
       "      <td>73000000</td>\n",
       "      <td>AWS,Banking,ETL,FinTech,NLP,Python</td>\n",
       "      <td>Career development,Equity,Flex vacation,Health...</td>\n",
       "      <td>None</td>\n",
       "    </tr>\n",
       "    <tr>\n",
       "      <th>320</th>\n",
       "      <td>Sensor Tower</td>\n",
       "      <td>Coordinator of Data Operations</td>\n",
       "      <td>San Diego</td>\n",
       "      <td>Full Time</td>\n",
       "      <td>Not Specified</td>\n",
       "      <td>59000000</td>\n",
       "      <td>AWS,Computer Science,DataOps,Data visualizatio...</td>\n",
       "      <td>Career development,Competitive pay,Equity,Flex...</td>\n",
       "      <td>None</td>\n",
       "    </tr>\n",
       "    <tr>\n",
       "      <th>402</th>\n",
       "      <td>Fivesky</td>\n",
       "      <td>Data Specialist - Governance</td>\n",
       "      <td>Budapest, HUN</td>\n",
       "      <td>Full Time</td>\n",
       "      <td>Not Specified</td>\n",
       "      <td>70000000</td>\n",
       "      <td>Data management,Data quality,Data visualizatio...</td>\n",
       "      <td>Competitive pay,Flex vacation</td>\n",
       "      <td>None</td>\n",
       "    </tr>\n",
       "    <tr>\n",
       "      <th>530</th>\n",
       "      <td>bunq</td>\n",
       "      <td>Data Engineer</td>\n",
       "      <td>Kadiköy / Istanbul, Istanbul, Türkiye</td>\n",
       "      <td>Full Time</td>\n",
       "      <td>Mid-level</td>\n",
       "      <td>73000000</td>\n",
       "      <td>AWS,Banking,ETL,NLP,Python,SQL</td>\n",
       "      <td>Career development,Equity,Flex vacation,Health...</td>\n",
       "      <td>None</td>\n",
       "    </tr>\n",
       "    <tr>\n",
       "      <th>808</th>\n",
       "      <td>Kpler</td>\n",
       "      <td>Senior/Staff Data Engineer</td>\n",
       "      <td>Athens</td>\n",
       "      <td>Full Time</td>\n",
       "      <td>Senior-level</td>\n",
       "      <td>115000000</td>\n",
       "      <td>Ansible,AWS,Data pipelines,DevOps,Elasticsearc...</td>\n",
       "      <td>Competitive pay,Flex vacation,Gear,Medical lea...</td>\n",
       "      <td>None</td>\n",
       "    </tr>\n",
       "    <tr>\n",
       "      <th>944</th>\n",
       "      <td>Credera</td>\n",
       "      <td>Principal  - Data Science</td>\n",
       "      <td>Los Angeles</td>\n",
       "      <td>Full Time</td>\n",
       "      <td>Senior-level</td>\n",
       "      <td>224000000</td>\n",
       "      <td>Architecture,AWS,Azure,Cluster analysis,Comput...</td>\n",
       "      <td>401(k) matching,Career development,Competitive...</td>\n",
       "      <td>None</td>\n",
       "    </tr>\n",
       "    <tr>\n",
       "      <th>948</th>\n",
       "      <td>Credera</td>\n",
       "      <td>Senior Machine Learning Architect</td>\n",
       "      <td>Los Angeles</td>\n",
       "      <td>Full Time</td>\n",
       "      <td>Senior-level</td>\n",
       "      <td>189000000</td>\n",
       "      <td>Agile,Architecture,AWS,Azure,Cluster analysis,...</td>\n",
       "      <td>401(k) matching,Career development,Competitive...</td>\n",
       "      <td>None</td>\n",
       "    </tr>\n",
       "    <tr>\n",
       "      <th>1006</th>\n",
       "      <td>Fivesky</td>\n",
       "      <td>Data Specialist - Governance</td>\n",
       "      <td>Budapest, HUN</td>\n",
       "      <td>Full Time</td>\n",
       "      <td>Senior-level</td>\n",
       "      <td>70000000</td>\n",
       "      <td>Data management,Data quality,Data visualizatio...</td>\n",
       "      <td>Competitive pay,Flex vacation</td>\n",
       "      <td>None</td>\n",
       "    </tr>\n",
       "    <tr>\n",
       "      <th>1077</th>\n",
       "      <td>Kambi</td>\n",
       "      <td>Data Engineer  Data Lake</td>\n",
       "      <td>Stockholm</td>\n",
       "      <td>Full Time</td>\n",
       "      <td>Entry-level</td>\n",
       "      <td>59000000</td>\n",
       "      <td>Agile,AWS,Kafka,NoSQL,Python,Spark</td>\n",
       "      <td>Career development,Conferences,Team events</td>\n",
       "      <td>None</td>\n",
       "    </tr>\n",
       "    <tr>\n",
       "      <th>1157</th>\n",
       "      <td>Riskified</td>\n",
       "      <td>Data Analyst</td>\n",
       "      <td>Tel Aviv</td>\n",
       "      <td>Full Time</td>\n",
       "      <td>Senior-level</td>\n",
       "      <td>92000000</td>\n",
       "      <td>Computer Science,E-commerce,Economics,Machine ...</td>\n",
       "      <td>Career development,Equity,Health care,Home off...</td>\n",
       "      <td>None</td>\n",
       "    </tr>\n",
       "    <tr>\n",
       "      <th>1177</th>\n",
       "      <td>PayMongo</td>\n",
       "      <td>Data Engineer</td>\n",
       "      <td>Taguig</td>\n",
       "      <td>Full Time</td>\n",
       "      <td>Senior-level</td>\n",
       "      <td>115000000</td>\n",
       "      <td>AWS,Azure,Business Intelligence,Computer Scien...</td>\n",
       "      <td>Not Specified</td>\n",
       "      <td>None</td>\n",
       "    </tr>\n",
       "    <tr>\n",
       "      <th>1320</th>\n",
       "      <td>M-KOPA</td>\n",
       "      <td>Data Operations Analyst</td>\n",
       "      <td>Nairobi</td>\n",
       "      <td>Full Time</td>\n",
       "      <td>Not Specified</td>\n",
       "      <td>39000000</td>\n",
       "      <td>DataOps,Data quality,Excel,FinTech,KPIs,Looker</td>\n",
       "      <td>Career development,Health care,Home office sti...</td>\n",
       "      <td>None</td>\n",
       "    </tr>\n",
       "    <tr>\n",
       "      <th>1441</th>\n",
       "      <td>Dream Sports</td>\n",
       "      <td>Data Analyst</td>\n",
       "      <td>Mumbai</td>\n",
       "      <td>Full Time</td>\n",
       "      <td>Entry-level</td>\n",
       "      <td>48000000</td>\n",
       "      <td>Architecture,AWS,Cassandra,Distributed Systems...</td>\n",
       "      <td>Not Specified</td>\n",
       "      <td>None</td>\n",
       "    </tr>\n",
       "    <tr>\n",
       "      <th>1629</th>\n",
       "      <td>Relativity</td>\n",
       "      <td>Software Engineer (SRE in Elasticsearch platfo...</td>\n",
       "      <td>Rzeszow</td>\n",
       "      <td>Full Time</td>\n",
       "      <td>Senior-level</td>\n",
       "      <td>62000000</td>\n",
       "      <td>Ansible,AWS,Azure,CI/CD,Computer Science,CX</td>\n",
       "      <td>Flex hours,Flex vacation,Health care,Unlimited...</td>\n",
       "      <td>None</td>\n",
       "    </tr>\n",
       "    <tr>\n",
       "      <th>1634</th>\n",
       "      <td>Relativity</td>\n",
       "      <td>Senior Software Engineer (SRE in Elasticsearch...</td>\n",
       "      <td>Poznan</td>\n",
       "      <td>Full Time</td>\n",
       "      <td>Senior-level</td>\n",
       "      <td>62000000</td>\n",
       "      <td>Ansible,AWS,Azure,CI/CD,Computer Science,CX</td>\n",
       "      <td>Flex hours,Flex vacation,Health care,Unlimited...</td>\n",
       "      <td>None</td>\n",
       "    </tr>\n",
       "    <tr>\n",
       "      <th>1731</th>\n",
       "      <td>CRI Group</td>\n",
       "      <td>Expert in AI/ NLP/ ML - 4354</td>\n",
       "      <td>Brussels</td>\n",
       "      <td>Full Time</td>\n",
       "      <td>Senior-level</td>\n",
       "      <td>62000000</td>\n",
       "      <td>Agile,Airflow,Architecture,AWS,Azure,Cassandra</td>\n",
       "      <td>Career development</td>\n",
       "      <td>None</td>\n",
       "    </tr>\n",
       "    <tr>\n",
       "      <th>1741</th>\n",
       "      <td>Riiid Labs</td>\n",
       "      <td>AI Data Manager</td>\n",
       "      <td>Seoul</td>\n",
       "      <td>Full Time</td>\n",
       "      <td>Not Specified</td>\n",
       "      <td>77000000</td>\n",
       "      <td>ChatGPT,GPT,JSON,Machine Learning,NeurIPS,UX</td>\n",
       "      <td>Not Specified</td>\n",
       "      <td>None</td>\n",
       "    </tr>\n",
       "    <tr>\n",
       "      <th>1754</th>\n",
       "      <td>Fivesky</td>\n",
       "      <td>Data Specialist - Governance</td>\n",
       "      <td>Budapest, HUN</td>\n",
       "      <td>Full Time</td>\n",
       "      <td>Senior-level</td>\n",
       "      <td>70000000</td>\n",
       "      <td>Data management,Data quality,Data visualizatio...</td>\n",
       "      <td>Competitive pay,Flex vacation</td>\n",
       "      <td>None</td>\n",
       "    </tr>\n",
       "    <tr>\n",
       "      <th>1938</th>\n",
       "      <td>AppsFlyer</td>\n",
       "      <td>Product Data Analyst</td>\n",
       "      <td>Herzliya</td>\n",
       "      <td>Full Time</td>\n",
       "      <td>Senior-level</td>\n",
       "      <td>55000000</td>\n",
       "      <td>AWS,Big Data,BigQuery,Computer Science,CX,Data...</td>\n",
       "      <td>Not Specified</td>\n",
       "      <td>None</td>\n",
       "    </tr>\n",
       "    <tr>\n",
       "      <th>2171</th>\n",
       "      <td>Algorhythm</td>\n",
       "      <td>Data Management consultant</td>\n",
       "      <td>Thuiswerk</td>\n",
       "      <td>Full Time</td>\n",
       "      <td>Mid-level</td>\n",
       "      <td>56000000</td>\n",
       "      <td>AWS,Azure,Databricks,Data governance,Data mana...</td>\n",
       "      <td>Competitive pay,Flex hours,Gear,Team events</td>\n",
       "      <td>None</td>\n",
       "    </tr>\n",
       "    <tr>\n",
       "      <th>2291</th>\n",
       "      <td>Zynga</td>\n",
       "      <td>Data Analyst 2</td>\n",
       "      <td>European Union</td>\n",
       "      <td>Full Time</td>\n",
       "      <td>Senior-level</td>\n",
       "      <td>92000000</td>\n",
       "      <td>Computer Science,Deep Learning,Economics,Machi...</td>\n",
       "      <td>Career development,Flex hours,Flex vacation,In...</td>\n",
       "      <td>None</td>\n",
       "    </tr>\n",
       "    <tr>\n",
       "      <th>2349</th>\n",
       "      <td>Pipedrive</td>\n",
       "      <td>Product Data Analyst</td>\n",
       "      <td>Prague</td>\n",
       "      <td>Full Time</td>\n",
       "      <td>Not Specified</td>\n",
       "      <td>56000000</td>\n",
       "      <td>A/B testing,Data analysis,Power BI,Python,R,R&amp;D</td>\n",
       "      <td>Career development,Competitive pay,Equity,Flex...</td>\n",
       "      <td>None</td>\n",
       "    </tr>\n",
       "    <tr>\n",
       "      <th>2373</th>\n",
       "      <td>Fivesky</td>\n",
       "      <td>Data Specialist - Governance</td>\n",
       "      <td>Budapest, HUN</td>\n",
       "      <td>Full Time</td>\n",
       "      <td>Senior-level</td>\n",
       "      <td>70000000</td>\n",
       "      <td>Data management,Data quality,Data visualizatio...</td>\n",
       "      <td>Competitive pay,Flex vacation</td>\n",
       "      <td>None</td>\n",
       "    </tr>\n",
       "    <tr>\n",
       "      <th>2389</th>\n",
       "      <td>FREE NOW</td>\n",
       "      <td>Product Data Analyst (m/f/d) - Hamburg</td>\n",
       "      <td>Hamburg</td>\n",
       "      <td>Full Time</td>\n",
       "      <td>Senior-level</td>\n",
       "      <td>92000000</td>\n",
       "      <td>Computer Science,Economics,Engineering,Mathema...</td>\n",
       "      <td>Career development,Fitness / gym,Flex hours</td>\n",
       "      <td>None</td>\n",
       "    </tr>\n",
       "    <tr>\n",
       "      <th>2395</th>\n",
       "      <td>Wasoko</td>\n",
       "      <td>Business Intelligence Analyst</td>\n",
       "      <td>Nairobi, KE</td>\n",
       "      <td>Full Time</td>\n",
       "      <td>Senior-level</td>\n",
       "      <td>48000000</td>\n",
       "      <td>Agile,BigQuery,Business Intelligence,Data qual...</td>\n",
       "      <td>Startup environment</td>\n",
       "      <td>None</td>\n",
       "    </tr>\n",
       "    <tr>\n",
       "      <th>2465</th>\n",
       "      <td>Mindvalley</td>\n",
       "      <td>Senior Data Analyst</td>\n",
       "      <td>European Union</td>\n",
       "      <td>Full Time</td>\n",
       "      <td>Senior-level</td>\n",
       "      <td>92000000</td>\n",
       "      <td>AWS,Azure,Business Intelligence,Computer Scien...</td>\n",
       "      <td>Career development</td>\n",
       "      <td>None</td>\n",
       "    </tr>\n",
       "    <tr>\n",
       "      <th>2530</th>\n",
       "      <td>Kambi</td>\n",
       "      <td>Data Engineer</td>\n",
       "      <td>Stockholm</td>\n",
       "      <td>Full Time</td>\n",
       "      <td>Entry-level</td>\n",
       "      <td>59000000</td>\n",
       "      <td>Airflow,Engineering,Grafana,,,</td>\n",
       "      <td>Career development,Conferences,Team events</td>\n",
       "      <td>None</td>\n",
       "    </tr>\n",
       "    <tr>\n",
       "      <th>2662</th>\n",
       "      <td>CRI Group</td>\n",
       "      <td>Business Intelligence Expert - 4335</td>\n",
       "      <td>Brussels</td>\n",
       "      <td>Full Time</td>\n",
       "      <td>Senior-level</td>\n",
       "      <td>62000000</td>\n",
       "      <td>Architecture,Business Intelligence,Data analys...</td>\n",
       "      <td>Not Specified</td>\n",
       "      <td>None</td>\n",
       "    </tr>\n",
       "    <tr>\n",
       "      <th>2734</th>\n",
       "      <td>Via</td>\n",
       "      <td>Senior Data Infrastructure Engineer</td>\n",
       "      <td>Tel Aviv</td>\n",
       "      <td>Full Time</td>\n",
       "      <td>Senior-level</td>\n",
       "      <td>55000000</td>\n",
       "      <td>Airflow,Architecture,Big Data,BigQuery,Compute...</td>\n",
       "      <td>Not Specified</td>\n",
       "      <td>None</td>\n",
       "    </tr>\n",
       "    <tr>\n",
       "      <th>2905</th>\n",
       "      <td>Hadrian</td>\n",
       "      <td>Robotics Engineer</td>\n",
       "      <td>Los Angeles</td>\n",
       "      <td>Full Time</td>\n",
       "      <td>Senior-level</td>\n",
       "      <td>69000000</td>\n",
       "      <td>APIs,CAD,Computer Vision,Engineering,Industria...</td>\n",
       "      <td>Career development,Flex hours,Flex vacation,He...</td>\n",
       "      <td>None</td>\n",
       "    </tr>\n",
       "    <tr>\n",
       "      <th>2918</th>\n",
       "      <td>Dexterity</td>\n",
       "      <td>Robotics Engineer - Tech Lead</td>\n",
       "      <td>Redwood City</td>\n",
       "      <td>Full Time</td>\n",
       "      <td>Senior-level</td>\n",
       "      <td>103000000</td>\n",
       "      <td>Architecture,Computer Science,Computer Vision,...</td>\n",
       "      <td>Career development</td>\n",
       "      <td>None</td>\n",
       "    </tr>\n",
       "    <tr>\n",
       "      <th>2956</th>\n",
       "      <td>GWI</td>\n",
       "      <td>Data Analyst</td>\n",
       "      <td>Athens, GR</td>\n",
       "      <td>Full Time</td>\n",
       "      <td>Entry-level</td>\n",
       "      <td>42000000</td>\n",
       "      <td>Agile,Data quality,Data Warehousing,ELT,Engine...</td>\n",
       "      <td>Career development,Competitive pay,Health care...</td>\n",
       "      <td>None</td>\n",
       "    </tr>\n",
       "    <tr>\n",
       "      <th>2961</th>\n",
       "      <td>AppsFlyer</td>\n",
       "      <td>R&amp;D Data Analyst</td>\n",
       "      <td>Herzliya</td>\n",
       "      <td>Full Time</td>\n",
       "      <td>Senior-level</td>\n",
       "      <td>92000000</td>\n",
       "      <td>AWS,Computer Science,Data analysis,Data Analyt...</td>\n",
       "      <td>Salary bonus,Team events</td>\n",
       "      <td>None</td>\n",
       "    </tr>\n",
       "    <tr>\n",
       "      <th>2973</th>\n",
       "      <td>GWI</td>\n",
       "      <td>Data Analytics Engineer</td>\n",
       "      <td>Athens, GR</td>\n",
       "      <td>Full Time</td>\n",
       "      <td>Entry-level</td>\n",
       "      <td>30000000</td>\n",
       "      <td>Agile,Data Analytics,Data quality,Data Warehou...</td>\n",
       "      <td>Career development,Competitive pay,Health care...</td>\n",
       "      <td>None</td>\n",
       "    </tr>\n",
       "  </tbody>\n",
       "</table>\n",
       "</div>"
      ],
      "text/plain": [
       "           Company                                           JobTitle  \\\n",
       "129      Riskified                                     Data Scientist   \n",
       "256           bunq                            Data Engineer - Türkiye   \n",
       "320   Sensor Tower                     Coordinator of Data Operations   \n",
       "402        Fivesky                       Data Specialist - Governance   \n",
       "530           bunq                                      Data Engineer   \n",
       "808          Kpler                         Senior/Staff Data Engineer   \n",
       "944        Credera                          Principal  - Data Science   \n",
       "948        Credera                  Senior Machine Learning Architect   \n",
       "1006       Fivesky                       Data Specialist - Governance   \n",
       "1077         Kambi                          Data Engineer  Data Lake   \n",
       "1157     Riskified                                       Data Analyst   \n",
       "1177      PayMongo                                      Data Engineer   \n",
       "1320        M-KOPA                            Data Operations Analyst   \n",
       "1441  Dream Sports                                       Data Analyst   \n",
       "1629    Relativity  Software Engineer (SRE in Elasticsearch platfo...   \n",
       "1634    Relativity  Senior Software Engineer (SRE in Elasticsearch...   \n",
       "1731     CRI Group                       Expert in AI/ NLP/ ML - 4354   \n",
       "1741    Riiid Labs                                    AI Data Manager   \n",
       "1754       Fivesky                       Data Specialist - Governance   \n",
       "1938     AppsFlyer                               Product Data Analyst   \n",
       "2171    Algorhythm                         Data Management consultant   \n",
       "2291         Zynga                                     Data Analyst 2   \n",
       "2349     Pipedrive                               Product Data Analyst   \n",
       "2373       Fivesky                       Data Specialist - Governance   \n",
       "2389      FREE NOW             Product Data Analyst (m/f/d) - Hamburg   \n",
       "2395        Wasoko                      Business Intelligence Analyst   \n",
       "2465    Mindvalley                                Senior Data Analyst   \n",
       "2530         Kambi                                      Data Engineer   \n",
       "2662     CRI Group                Business Intelligence Expert - 4335   \n",
       "2734           Via                Senior Data Infrastructure Engineer   \n",
       "2905       Hadrian                                  Robotics Engineer   \n",
       "2918     Dexterity                      Robotics Engineer - Tech Lead   \n",
       "2956           GWI                                       Data Analyst   \n",
       "2961     AppsFlyer                                   R&D Data Analyst   \n",
       "2973           GWI                            Data Analytics Engineer   \n",
       "\n",
       "                                   Location    JobType ExperienceLevel  \\\n",
       "129                                Tel Aviv  Full Time   Not Specified   \n",
       "256   Kadiköy / Istanbul, Istanbul, Türkiye  Full Time       Mid-level   \n",
       "320                               San Diego  Full Time   Not Specified   \n",
       "402                           Budapest, HUN  Full Time   Not Specified   \n",
       "530   Kadiköy / Istanbul, Istanbul, Türkiye  Full Time       Mid-level   \n",
       "808                                  Athens  Full Time    Senior-level   \n",
       "944                             Los Angeles  Full Time    Senior-level   \n",
       "948                             Los Angeles  Full Time    Senior-level   \n",
       "1006                          Budapest, HUN  Full Time    Senior-level   \n",
       "1077                              Stockholm  Full Time     Entry-level   \n",
       "1157                               Tel Aviv  Full Time    Senior-level   \n",
       "1177                                 Taguig  Full Time    Senior-level   \n",
       "1320                                Nairobi  Full Time   Not Specified   \n",
       "1441                                 Mumbai  Full Time     Entry-level   \n",
       "1629                                Rzeszow  Full Time    Senior-level   \n",
       "1634                                 Poznan  Full Time    Senior-level   \n",
       "1731                               Brussels  Full Time    Senior-level   \n",
       "1741                                  Seoul  Full Time   Not Specified   \n",
       "1754                          Budapest, HUN  Full Time    Senior-level   \n",
       "1938                               Herzliya  Full Time    Senior-level   \n",
       "2171                              Thuiswerk  Full Time       Mid-level   \n",
       "2291                         European Union  Full Time    Senior-level   \n",
       "2349                                 Prague  Full Time   Not Specified   \n",
       "2373                          Budapest, HUN  Full Time    Senior-level   \n",
       "2389                                Hamburg  Full Time    Senior-level   \n",
       "2395                            Nairobi, KE  Full Time    Senior-level   \n",
       "2465                         European Union  Full Time    Senior-level   \n",
       "2530                              Stockholm  Full Time     Entry-level   \n",
       "2662                               Brussels  Full Time    Senior-level   \n",
       "2734                               Tel Aviv  Full Time    Senior-level   \n",
       "2905                            Los Angeles  Full Time    Senior-level   \n",
       "2918                           Redwood City  Full Time    Senior-level   \n",
       "2956                             Athens, GR  Full Time     Entry-level   \n",
       "2961                               Herzliya  Full Time    Senior-level   \n",
       "2973                             Athens, GR  Full Time     Entry-level   \n",
       "\n",
       "         Salary                                    JobRequirements  \\\n",
       "129    92000000  Airflow,Big Data,Classification,Clustering,Com...   \n",
       "256    73000000                 AWS,Banking,ETL,FinTech,NLP,Python   \n",
       "320    59000000  AWS,Computer Science,DataOps,Data visualizatio...   \n",
       "402    70000000  Data management,Data quality,Data visualizatio...   \n",
       "530    73000000                     AWS,Banking,ETL,NLP,Python,SQL   \n",
       "808   115000000  Ansible,AWS,Data pipelines,DevOps,Elasticsearc...   \n",
       "944   224000000  Architecture,AWS,Azure,Cluster analysis,Comput...   \n",
       "948   189000000  Agile,Architecture,AWS,Azure,Cluster analysis,...   \n",
       "1006   70000000  Data management,Data quality,Data visualizatio...   \n",
       "1077   59000000                 Agile,AWS,Kafka,NoSQL,Python,Spark   \n",
       "1157   92000000  Computer Science,E-commerce,Economics,Machine ...   \n",
       "1177  115000000  AWS,Azure,Business Intelligence,Computer Scien...   \n",
       "1320   39000000     DataOps,Data quality,Excel,FinTech,KPIs,Looker   \n",
       "1441   48000000  Architecture,AWS,Cassandra,Distributed Systems...   \n",
       "1629   62000000        Ansible,AWS,Azure,CI/CD,Computer Science,CX   \n",
       "1634   62000000        Ansible,AWS,Azure,CI/CD,Computer Science,CX   \n",
       "1731   62000000     Agile,Airflow,Architecture,AWS,Azure,Cassandra   \n",
       "1741   77000000       ChatGPT,GPT,JSON,Machine Learning,NeurIPS,UX   \n",
       "1754   70000000  Data management,Data quality,Data visualizatio...   \n",
       "1938   55000000  AWS,Big Data,BigQuery,Computer Science,CX,Data...   \n",
       "2171   56000000  AWS,Azure,Databricks,Data governance,Data mana...   \n",
       "2291   92000000  Computer Science,Deep Learning,Economics,Machi...   \n",
       "2349   56000000    A/B testing,Data analysis,Power BI,Python,R,R&D   \n",
       "2373   70000000  Data management,Data quality,Data visualizatio...   \n",
       "2389   92000000  Computer Science,Economics,Engineering,Mathema...   \n",
       "2395   48000000  Agile,BigQuery,Business Intelligence,Data qual...   \n",
       "2465   92000000  AWS,Azure,Business Intelligence,Computer Scien...   \n",
       "2530   59000000                     Airflow,Engineering,Grafana,,,   \n",
       "2662   62000000  Architecture,Business Intelligence,Data analys...   \n",
       "2734   55000000  Airflow,Architecture,Big Data,BigQuery,Compute...   \n",
       "2905   69000000  APIs,CAD,Computer Vision,Engineering,Industria...   \n",
       "2918  103000000  Architecture,Computer Science,Computer Vision,...   \n",
       "2956   42000000  Agile,Data quality,Data Warehousing,ELT,Engine...   \n",
       "2961   92000000  AWS,Computer Science,Data analysis,Data Analyt...   \n",
       "2973   30000000  Agile,Data Analytics,Data quality,Data Warehou...   \n",
       "\n",
       "                                            JobBenefits Country  \n",
       "129   Career development,Equity,Health care,Home off...    None  \n",
       "256   Career development,Equity,Flex vacation,Health...    None  \n",
       "320   Career development,Competitive pay,Equity,Flex...    None  \n",
       "402                       Competitive pay,Flex vacation    None  \n",
       "530   Career development,Equity,Flex vacation,Health...    None  \n",
       "808   Competitive pay,Flex vacation,Gear,Medical lea...    None  \n",
       "944   401(k) matching,Career development,Competitive...    None  \n",
       "948   401(k) matching,Career development,Competitive...    None  \n",
       "1006                      Competitive pay,Flex vacation    None  \n",
       "1077         Career development,Conferences,Team events    None  \n",
       "1157  Career development,Equity,Health care,Home off...    None  \n",
       "1177                                      Not Specified    None  \n",
       "1320  Career development,Health care,Home office sti...    None  \n",
       "1441                                      Not Specified    None  \n",
       "1629  Flex hours,Flex vacation,Health care,Unlimited...    None  \n",
       "1634  Flex hours,Flex vacation,Health care,Unlimited...    None  \n",
       "1731                                 Career development    None  \n",
       "1741                                      Not Specified    None  \n",
       "1754                      Competitive pay,Flex vacation    None  \n",
       "1938                                      Not Specified    None  \n",
       "2171        Competitive pay,Flex hours,Gear,Team events    None  \n",
       "2291  Career development,Flex hours,Flex vacation,In...    None  \n",
       "2349  Career development,Competitive pay,Equity,Flex...    None  \n",
       "2373                      Competitive pay,Flex vacation    None  \n",
       "2389        Career development,Fitness / gym,Flex hours    None  \n",
       "2395                                Startup environment    None  \n",
       "2465                                 Career development    None  \n",
       "2530         Career development,Conferences,Team events    None  \n",
       "2662                                      Not Specified    None  \n",
       "2734                                      Not Specified    None  \n",
       "2905  Career development,Flex hours,Flex vacation,He...    None  \n",
       "2918                                 Career development    None  \n",
       "2956  Career development,Competitive pay,Health care...    None  \n",
       "2961                           Salary bonus,Team events    None  \n",
       "2973  Career development,Competitive pay,Health care...    None  "
      ]
     },
     "execution_count": 37,
     "metadata": {},
     "output_type": "execute_result"
    }
   ],
   "source": [
    "df[df['Country'].isnull()]"
   ]
  },
  {
   "cell_type": "code",
   "execution_count": 38,
   "metadata": {
    "cell_id": "e23ab39011fb473ca65b1baaf62b3d7b",
    "deepnote_app_coordinates": {
     "h": 5,
     "w": 12,
     "x": 0,
     "y": 0
    },
    "deepnote_cell_type": "code",
    "deepnote_to_be_reexecuted": false,
    "execution_millis": 387,
    "execution_start": 1691694359126,
    "source_hash": "3ed8901b"
   },
   "outputs": [
    {
     "data": {
      "application/vnd.deepnote.dataframe.v3+json": {
       "column_count": 9,
       "columns": [
        {
         "dtype": "object",
         "name": "Company",
         "stats": {
          "categories": [],
          "nan_count": 0,
          "unique_count": 0
         }
        },
        {
         "dtype": "object",
         "name": "JobTitle",
         "stats": {
          "categories": [],
          "nan_count": 0,
          "unique_count": 0
         }
        },
        {
         "dtype": "object",
         "name": "Location",
         "stats": {
          "categories": [],
          "nan_count": 0,
          "unique_count": 0
         }
        },
        {
         "dtype": "object",
         "name": "JobType",
         "stats": {
          "categories": [],
          "nan_count": 0,
          "unique_count": 0
         }
        },
        {
         "dtype": "object",
         "name": "ExperienceLevel",
         "stats": {
          "categories": [],
          "nan_count": 0,
          "unique_count": 0
         }
        },
        {
         "dtype": "int64",
         "name": "Salary",
         "stats": {
          "histogram": [
           {
            "bin_end": 0.1,
            "bin_start": 0,
            "count": 0
           },
           {
            "bin_end": 0.2,
            "bin_start": 0.1,
            "count": 0
           },
           {
            "bin_end": 0.30000000000000004,
            "bin_start": 0.2,
            "count": 0
           },
           {
            "bin_end": 0.4,
            "bin_start": 0.30000000000000004,
            "count": 0
           },
           {
            "bin_end": 0.5,
            "bin_start": 0.4,
            "count": 0
           },
           {
            "bin_end": 0.6000000000000001,
            "bin_start": 0.5,
            "count": 0
           },
           {
            "bin_end": 0.7000000000000001,
            "bin_start": 0.6000000000000001,
            "count": 0
           },
           {
            "bin_end": 0.8,
            "bin_start": 0.7000000000000001,
            "count": 0
           },
           {
            "bin_end": 0.9,
            "bin_start": 0.8,
            "count": 0
           },
           {
            "bin_end": 1,
            "bin_start": 0.9,
            "count": 0
           }
          ],
          "max": null,
          "min": null,
          "nan_count": 0,
          "unique_count": 0
         }
        },
        {
         "dtype": "object",
         "name": "JobRequirements",
         "stats": {
          "categories": [],
          "nan_count": 0,
          "unique_count": 0
         }
        },
        {
         "dtype": "object",
         "name": "JobBenefits",
         "stats": {
          "categories": [],
          "nan_count": 0,
          "unique_count": 0
         }
        },
        {
         "dtype": "object",
         "name": "Country",
         "stats": {
          "categories": [],
          "nan_count": 0,
          "unique_count": 0
         }
        },
        {
         "dtype": "int64",
         "name": "_deepnote_index_column"
        }
       ],
       "row_count": 0,
       "rows": []
      },
      "text/html": [
       "<div>\n",
       "<style scoped>\n",
       "    .dataframe tbody tr th:only-of-type {\n",
       "        vertical-align: middle;\n",
       "    }\n",
       "\n",
       "    .dataframe tbody tr th {\n",
       "        vertical-align: top;\n",
       "    }\n",
       "\n",
       "    .dataframe thead th {\n",
       "        text-align: right;\n",
       "    }\n",
       "</style>\n",
       "<table border=\"1\" class=\"dataframe\">\n",
       "  <thead>\n",
       "    <tr style=\"text-align: right;\">\n",
       "      <th></th>\n",
       "      <th>Company</th>\n",
       "      <th>JobTitle</th>\n",
       "      <th>Location</th>\n",
       "      <th>JobType</th>\n",
       "      <th>ExperienceLevel</th>\n",
       "      <th>Salary</th>\n",
       "      <th>JobRequirements</th>\n",
       "      <th>JobBenefits</th>\n",
       "      <th>Country</th>\n",
       "    </tr>\n",
       "  </thead>\n",
       "  <tbody>\n",
       "  </tbody>\n",
       "</table>\n",
       "</div>"
      ],
      "text/plain": [
       "Empty DataFrame\n",
       "Columns: [Company, JobTitle, Location, JobType, ExperienceLevel, Salary, JobRequirements, JobBenefits, Country]\n",
       "Index: []"
      ]
     },
     "execution_count": 38,
     "metadata": {},
     "output_type": "execute_result"
    }
   ],
   "source": [
    "#drop nulls in Country column\n",
    "df.dropna(subset=['Country'],inplace=True)\n",
    "df[df['Country'].isnull()]"
   ]
  },
  {
   "cell_type": "code",
   "execution_count": 39,
   "metadata": {
    "cell_id": "a800833875d0414eb17610c030b37082",
    "deepnote_app_coordinates": {
     "h": 5,
     "w": 12,
     "x": 0,
     "y": 0
    },
    "deepnote_cell_type": "code",
    "deepnote_to_be_reexecuted": false,
    "execution_millis": 8,
    "execution_start": 1691694360479,
    "source_hash": "105e4773"
   },
   "outputs": [],
   "source": [
    "#drop Location column\n",
    "df.drop('Location',axis=1,inplace=True)"
   ]
  },
  {
   "cell_type": "code",
   "execution_count": 40,
   "metadata": {
    "cell_id": "fd5a55ac3d7f44a790c8686e6ad5443b",
    "deepnote_app_coordinates": {
     "h": 5,
     "w": 12,
     "x": 0,
     "y": 0
    },
    "deepnote_cell_type": "code",
    "deepnote_to_be_reexecuted": false,
    "execution_millis": 10,
    "execution_start": 1691694362659,
    "source_hash": "25d43fa0"
   },
   "outputs": [
    {
     "data": {
      "text/plain": [
       "Index(['Company', 'JobTitle', 'JobType', 'ExperienceLevel', 'Salary',\n",
       "       'JobRequirements', 'JobBenefits', 'Country'],\n",
       "      dtype='object')"
      ]
     },
     "execution_count": 40,
     "metadata": {},
     "output_type": "execute_result"
    }
   ],
   "source": [
    "df.columns"
   ]
  },
  {
   "cell_type": "code",
   "execution_count": 41,
   "metadata": {
    "cell_id": "caf5f0df7d214032934a32c8130bdc3f",
    "deepnote_app_coordinates": {
     "h": 5,
     "w": 12,
     "x": 0,
     "y": 0
    },
    "deepnote_cell_type": "code",
    "deepnote_to_be_reexecuted": false,
    "execution_millis": 11,
    "execution_start": 1691694363686,
    "source_hash": "bad052ca"
   },
   "outputs": [],
   "source": [
    "#list of AI, ML, Data Scientist, Big Data common positions\n",
    "ai_ml_analyst_bi_positions = [\n",
    "    'Machine Learning Engineer',\n",
    "    'Data Scientist',\n",
    "    'AI Research Scientist',\n",
    "    'AI/ML Developer',\n",
    "    'AI Engineer',\n",
    "    'Deep Learning Engineer',\n",
    "    'NLP Engineer',\n",
    "    'Computer Vision Engineer',\n",
    "    'AI Analyst',\n",
    "    'ML Operations Engineer',\n",
    "    'AI Consultant',\n",
    "    'AI Product Manager',\n",
    "    'AI Ethicist',\n",
    "    'Data Engineer',\n",
    "    'AI Trainer',\n",
    "    'AI Architect',\n",
    "    'Data Analyst',\n",
    "    'ML Researcher',\n",
    "    'AI Specialist',\n",
    "    'AI/ML Instructor',\n",
    "    'Robotics Engineer',\n",
    "    'Algorithm Engineer',\n",
    "    'Cognitive Computing Specialist',\n",
    "    'Reinforcement Learning Researcher',\n",
    "    'AI Solutions Architect',\n",
    "    'Speech Recognition Engineer',\n",
    "    'Chatbot Developer',\n",
    "    'Predictive Analytics Specialist',\n",
    "    'AI Business Strategist',\n",
    "    'Computer Scientist (AI/ML)',\n",
    "    'Machine Learning Operations Manager',\n",
    "    'Computer Vision Scientist',\n",
    "    'Autonomous Vehicle Engineer',\n",
    "    'AI Healthcare Specialist',\n",
    "    'Data Mining Specialist',\n",
    "    'AI Data Labeler',\n",
    "    'AI Systems Integrator',\n",
    "    'Quantum Machine Learning Researcher',\n",
    "    'AI Visual Designer',\n",
    "    'Machine Learning Infrastructure Engineer',\n",
    "    'AI Model Validator',\n",
    "    'AI Policy Analyst',\n",
    "    'Data Wrangler',\n",
    "    'AI Marketing Specialist',\n",
    "    'AI Sales Engineer',\n",
    "    'AI Legal Consultant',\n",
    "    'AI Data Scientist',\n",
    "    'AI Platform Engineer',\n",
    "    'Machine Learning Ops Developer',\n",
    "    'AI/ML DevOps Engineer',\n",
    "    'AI Robotics Specialist',\n",
    "    'AI Research Engineer',\n",
    "    'ML Model Developer',\n",
    "    'AI Software Engineer',\n",
    "    'AI Chatbot Specialist',\n",
    "    'AI UX/UI Designer',\n",
    "    'Data Science Manager',\n",
    "    'AI Data Analyst',\n",
    "    'ML Solutions Architect',\n",
    "    'AI Knowledge Engineer',\n",
    "    'AI Testing Engineer',\n",
    "    'AI Validation Analyst',\n",
    "    'Data Mining Engineer',\n",
    "    'ML Deployment Specialist',\n",
    "    'AI Automation Engineer',\n",
    "    'AI Curriculum Developer',\n",
    "    'AI Speech Scientist',\n",
    "    'Machine Learning Compiler Engineer',\n",
    "    'AI Operations Analyst',\n",
    "    'AI Pattern Recognition Specialist',\n",
    "    'AI Data Visualization Specialist',\n",
    "    'ML Infrastructure Specialist',\n",
    "    'AI Algorithm Designer',\n",
    "    'AI Research Manager',\n",
    "    'AI Healthcare Data Analyst',\n",
    "    'Deep Reinforcement Learning Engineer',\n",
    "    'AI Ethics Officer',\n",
    "    'AI Support Engineer',\n",
    "    'AI Finance Analyst',\n",
    "    'AI/ML Solution Consultant',\n",
    "    'AI Video Analytics Engineer',\n",
    "    'Machine Learning Hardware Engineer',\n",
    "    'AI Cybersecurity Specialist',\n",
    "    'AI Quality Assurance Analyst',\n",
    "    'ML Model Interpreter',\n",
    "    'AI Content Developer',\n",
    "    'AI Fraud Detection Specialist',\n",
    "    'AI Talent Acquisition Specialist',\n",
    "    'AI Supply Chain Analyst',\n",
    "    'AI Environmental Scientist',\n",
    "    'AI Energy Analyst',\n",
    "    'Machine Learning Operations Analyst',\n",
    "    'AI Remote Sensing Specialist',\n",
    "    'AI Integration Engineer',\n",
    "    'AI Language Model Developer',\n",
    "    'Machine Learning Compiler Engineer',\n",
    "    'AI Software Tester',\n",
    "    'AI Financial Analyst',\n",
    "    'AI Music Composer',\n",
    "    'AI Customer Support Analyst',\n",
    "    'AI Game Developer',\n",
    "    'AI Medical Researcher',\n",
    "    'AI Agriculture Specialist',\n",
    "    'AI Retail Analyst',\n",
    "    'AI Human Resources Specialist',\n",
    "    'AI Automotive Engineer',\n",
    "    'AI Climate Scientist',\n",
    "    'AI Astronomy Researcher',\n",
    "    'AI Journalism Analyst',\n",
    "    'AI Disaster Response Specialist',\n",
    "    'AI Social Media Analyst',\n",
    "    'AI Real Estate Analyst',\n",
    "    'AI Urban Planner',\n",
    "    'AI Political Analyst',\n",
    "    'AI Sports Analyst',\n",
    "    'AI Virtual Reality Developer',\n",
    "    'AI Fashion Designer',\n",
    "    'AI Interior Designer',\n",
    "    'AI Food Scientist',\n",
    "    'AI Linguist',\n",
    "    'AI Legal Researcher',\n",
    "    'AI Philosopher',\n",
    "    'AI Behavioral Analyst',\n",
    "    'AI Wildlife Conservationist',\n",
    "    'AI Public Relations Specialist',\n",
    "    'AI Transportation Planner',\n",
    "    'AI Cultural Heritage Specialist',\n",
    "    'AI Ethical Hacker',\n",
    "    'AI Oceanographer',\n",
    "    'AI Space Exploration Scientist',\n",
    "    'AI Educational Technologist',\n",
    "    'AI Clinical Psychologist',\n",
    "    'AI Mental Health Specialist',\n",
    "    'AI Pediatrician',\n",
    "    'AI Personal Trainer',\n",
    "    'AI Language Tutor',\n",
    "    'AI Financial Advisor',\n",
    "    'AI Life Coach',\n",
    "    'AI Culinary Artist',\n",
    "    'AI Business Analyst',\n",
    "    'AI Market Research Analyst',\n",
    "    'AI Competitive Intelligence Analyst',\n",
    "    'AI Investment Analyst',\n",
    "    'AI Risk Analyst',\n",
    "    'AI Fraud Analyst',\n",
    "    'AI Operations Analyst',\n",
    "    'AI Supply Chain Analyst',\n",
    "    'AI Healthcare Data Analyst',\n",
    "    'AI Environmental Analyst',\n",
    "    'AI Social Media Analyst',\n",
    "    'AI Policy Analyst',\n",
    "    'AI Legal Analyst',\n",
    "    'AI HR Analyst',\n",
    "    'AI Education Analyst',\n",
    "    'AI Media Analyst',\n",
    "    'AI Marketing Analyst',\n",
    "    'AI Public Relations Analyst',\n",
    "    'AI Sales Analyst',\n",
    "    'AI Customer Insights Analyst',\n",
    "    'Business Intelligence Analyst',\n",
    "    'BI Data Analyst',\n",
    "    'BI Solutions Architect',\n",
    "    'BI Report Developer',\n",
    "    'BI Data Engineer',\n",
    "    'BI Analytics Manager',\n",
    "    'BI Dashboard Designer',\n",
    "    'BI Visualization Specialist',\n",
    "    'BI Performance Analyst',\n",
    "    'BI SQL Analyst',\n",
    "    'BI Tableau Developer',\n",
    "    'BI Power BI Analyst',\n",
    "    'BI QlikView Developer',\n",
    "    'BI Data Warehouse Specialist',\n",
    "    'BI ETL Developer',\n",
    "    'BI Business Analyst',\n",
    "    'BI Financial Analyst',\n",
    "    'BI Market Analyst',\n",
    "    'BI Sales Analyst',\n",
    "    'BI Supply Chain Analyst',\n",
    "    'BI Healthcare Analyst',\n",
    "    'BI Retail Analyst',\n",
    "    'BI Marketing Analyst',\n",
    "    'Machine Learning Engineer',\n",
    "    'Analytics Engineer',\n",
    "    'Data Architect',\n",
    "    'ML Engineer',\n",
    "    'AI/ML Engineer',\n",
    "    'Analytics Engineer',\n",
    "    'Data Strategist',\n",
    "    'Data Manager',\n",
    "    'Insight Analyst',\n",
    "    'Data Platform Engineer',\n",
    "    'Data Platform',\n",
    "    'Data Specialist',\n",
    "    'AI Programmer',\n",
    "    'ETL Engineer',\n",
    "    'Devops Engineer',\n",
    "    'MLOps Engineer',\n",
    "    'Data Science'\n",
    "\n",
    "]"
   ]
  },
  {
   "cell_type": "markdown",
   "metadata": {
    "cell_id": "368b59bddd2549ffb0df75e3f8f1cf65",
    "deepnote_app_coordinates": {
     "h": 5,
     "w": 12,
     "x": 0,
     "y": 0
    },
    "deepnote_cell_type": "text-cell-h3",
    "formattedRanges": []
   },
   "source": [
    "### Extract_Jobs function"
   ]
  },
  {
   "cell_type": "markdown",
   "metadata": {
    "cell_id": "290d1867ba494cc4be03d3e288f8ed10",
    "deepnote_app_coordinates": {
     "h": 2,
     "w": 8,
     "x": 0,
     "y": 0
    },
    "deepnote_cell_type": "text-cell-p",
    "formattedRanges": []
   },
   "source": [
    "This function uses for extract the shot job title from the full job title and return it."
   ]
  },
  {
   "cell_type": "markdown",
   "metadata": {
    "cell_id": "e218806c5de74e93ba057fe2ca8737a5",
    "deepnote_app_coordinates": {
     "h": 2,
     "w": 8,
     "x": 0,
     "y": 0
    },
    "deepnote_cell_type": "text-cell-bullet",
    "formattedRanges": []
   },
   "source": [
    "- for e.g. Full job title: Principal Cloud Data Engineer (Prisma Access), The function will return 'Data Engineer'."
   ]
  },
  {
   "cell_type": "markdown",
   "metadata": {
    "cell_id": "78f61415576f4342998dc9f22abd51e2",
    "deepnote_app_coordinates": {
     "h": 2,
     "w": 8,
     "x": 0,
     "y": 0
    },
    "deepnote_cell_type": "text-cell-p",
    "formattedRanges": []
   },
   "source": []
  },
  {
   "cell_type": "code",
   "execution_count": 42,
   "metadata": {
    "cell_id": "6b5b0fd513174ba5be3ef49b910512fa",
    "deepnote_app_coordinates": {
     "h": 5,
     "w": 12,
     "x": 0,
     "y": 0
    },
    "deepnote_cell_type": "code",
    "deepnote_to_be_reexecuted": false,
    "execution_millis": 9,
    "execution_start": 1691694364811,
    "source_hash": "9badc4d7"
   },
   "outputs": [],
   "source": [
    "def extract_Jobs(Job):\n",
    "    for position in ai_ml_analyst_bi_positions:\n",
    "        if position.lower() in Job.lower(): \n",
    "           return position\n",
    "    return None"
   ]
  },
  {
   "cell_type": "code",
   "execution_count": 43,
   "metadata": {
    "cell_id": "be0d4b87f52a430199fbd1d2787be5ca",
    "deepnote_app_coordinates": {
     "h": 5,
     "w": 12,
     "x": 0,
     "y": 0
    },
    "deepnote_cell_type": "code",
    "deepnote_to_be_reexecuted": false,
    "execution_millis": 22,
    "execution_start": 1691694365816,
    "source_hash": "c5f888eb"
   },
   "outputs": [],
   "source": [
    "#apply the function on the JobTitle column\n",
    "df['Short_JobTitle'] = df['JobTitle'].apply(extract_Jobs)"
   ]
  },
  {
   "cell_type": "code",
   "execution_count": 44,
   "metadata": {
    "cell_id": "3dc27db6397d49168a6cfb469c923419",
    "deepnote_app_coordinates": {
     "h": 5,
     "w": 12,
     "x": 0,
     "y": 0
    },
    "deepnote_cell_type": "code",
    "deepnote_to_be_reexecuted": false,
    "execution_millis": 227,
    "execution_start": 1691694366801,
    "source_hash": "173878c1"
   },
   "outputs": [
    {
     "data": {
      "application/vnd.deepnote.dataframe.v3+json": {
       "column_count": 9,
       "columns": [
        {
         "dtype": "object",
         "name": "Company",
         "stats": {
          "categories": [
           {
            "count": 56,
            "name": "Bosch Group"
           },
           {
            "count": 48,
            "name": "Amazon.com"
           },
           {
            "count": 875,
            "name": "438 others"
           }
          ],
          "nan_count": 0,
          "unique_count": 440
         }
        },
        {
         "dtype": "object",
         "name": "JobTitle",
         "stats": {
          "categories": [
           {
            "count": 8,
            "name": "Research Scientist"
           },
           {
            "count": 7,
            "name": "BI Developer"
           },
           {
            "count": 964,
            "name": "829 others"
           }
          ],
          "nan_count": 0,
          "unique_count": 831
         }
        },
        {
         "dtype": "object",
         "name": "JobType",
         "stats": {
          "categories": [
           {
            "count": 978,
            "name": "Full Time"
           },
           {
            "count": 1,
            "name": "Part Time"
           }
          ],
          "nan_count": 0,
          "unique_count": 2
         }
        },
        {
         "dtype": "object",
         "name": "ExperienceLevel",
         "stats": {
          "categories": [
           {
            "count": 600,
            "name": "Senior-level"
           },
           {
            "count": 120,
            "name": "Entry-level"
           },
           {
            "count": 259,
            "name": "3 others"
           }
          ],
          "nan_count": 0,
          "unique_count": 5
         }
        },
        {
         "dtype": "int64",
         "name": "Salary",
         "stats": {
          "histogram": [
           {
            "bin_end": 55300000,
            "bin_start": 30000000,
            "count": 325
           },
           {
            "bin_end": 80600000,
            "bin_start": 55300000,
            "count": 370
           },
           {
            "bin_end": 105900000,
            "bin_start": 80600000,
            "count": 85
           },
           {
            "bin_end": 131200000,
            "bin_start": 105900000,
            "count": 64
           },
           {
            "bin_end": 156500000,
            "bin_start": 131200000,
            "count": 48
           },
           {
            "bin_end": 181800000,
            "bin_start": 156500000,
            "count": 54
           },
           {
            "bin_end": 207100000,
            "bin_start": 181800000,
            "count": 25
           },
           {
            "bin_end": 232400000,
            "bin_start": 207100000,
            "count": 1
           },
           {
            "bin_end": 257700000,
            "bin_start": 232400000,
            "count": 4
           },
           {
            "bin_end": 283000000,
            "bin_start": 257700000,
            "count": 3
           }
          ],
          "max": "283000000",
          "min": "30000000",
          "nan_count": 0,
          "unique_count": 111
         }
        },
        {
         "dtype": "object",
         "name": "JobRequirements",
         "stats": {
          "categories": [
           {
            "count": 5,
            "name": "Architecture,Consulting,Data governance,Data management,Data strategy,Machine Learning"
           },
           {
            "count": 5,
            "name": "Airflow,AWS,Banking,Blockchain,Classification,Computer Science"
           },
           {
            "count": 969,
            "name": "840 others"
           }
          ],
          "nan_count": 0,
          "unique_count": 842
         }
        },
        {
         "dtype": "object",
         "name": "JobBenefits",
         "stats": {
          "categories": [
           {
            "count": 186,
            "name": "Not Specified"
           },
           {
            "count": 63,
            "name": "Career development"
           },
           {
            "count": 730,
            "name": "338 others"
           }
          ],
          "nan_count": 0,
          "unique_count": 340
         }
        },
        {
         "dtype": "object",
         "name": "Country",
         "stats": {
          "categories": [
           {
            "count": 245,
            "name": "united states"
           },
           {
            "count": 234,
            "name": "United States"
           },
           {
            "count": 500,
            "name": "55 others"
           }
          ],
          "nan_count": 0,
          "unique_count": 57
         }
        },
        {
         "dtype": "object",
         "name": "Short_JobTitle",
         "stats": {
          "categories": [
           {
            "count": 979,
            "name": "Missing"
           }
          ],
          "nan_count": 979,
          "unique_count": 0
         }
        },
        {
         "dtype": "int64",
         "name": "_deepnote_index_column"
        }
       ],
       "row_count": 979,
       "rows": [
        {
         "Company": "Natixis in Portugal",
         "Country": "Portugal",
         "ExperienceLevel": "Entry-level",
         "JobBenefits": "Gear",
         "JobRequirements": "Banking,Data quality,Excel,Security,,",
         "JobTitle": "Vendor Management and Data Quality Lead",
         "JobType": "Full Time",
         "Salary": 39000000,
         "Short_JobTitle": "None",
         "_deepnote_index_column": 6
        },
        {
         "Company": "YouGov",
         "Country": "India",
         "ExperienceLevel": "Entry-level",
         "JobBenefits": "Career development",
         "JobRequirements": "Data Analytics,Excel,Finance,Market research,Power BI,Privacy",
         "JobTitle": "Graduate Power BI Developer",
         "JobType": "Full Time",
         "Salary": 35000000,
         "Short_JobTitle": "None",
         "_deepnote_index_column": 12
        },
        {
         "Company": "Bosch Group",
         "Country": "Portugal",
         "ExperienceLevel": "Senior-level",
         "JobBenefits": "Flex hours",
         "JobRequirements": "Data management,Engineering,R,Spark,,",
         "JobTitle": "SAP Consultant - Product Data Management",
         "JobType": "Full Time",
         "Salary": 62000000,
         "Short_JobTitle": "None",
         "_deepnote_index_column": 13
        },
        {
         "Company": "Bosch Group",
         "Country": "Germany",
         "ExperienceLevel": "Entry-level",
         "JobBenefits": "Team events",
         "JobRequirements": "BigQuery,Data Analytics,LLMs,Pandas,Python,",
         "JobTitle": "PreMaster Programm - Data Analytics and Visualization",
         "JobType": "Full Time",
         "Salary": 39000000,
         "Short_JobTitle": "None",
         "_deepnote_index_column": 14
        },
        {
         "Company": "Issuu",
         "Country": "united states",
         "ExperienceLevel": "Not Specified",
         "JobBenefits": "Competitive pay,Equity,Health care,Insurance",
         "JobRequirements": "Business Analytics,Business Intelligence,Data warehouse,Looker,Python,R",
         "JobTitle": "BI Analyst",
         "JobType": "Full Time",
         "Salary": 48000000,
         "Short_JobTitle": "None",
         "_deepnote_index_column": 18
        },
        {
         "Company": "Talan",
         "Country": "Spain",
         "ExperienceLevel": "Entry-level",
         "JobBenefits": "Not Specified",
         "JobRequirements": "Agile,Azure,Big Data,Blockchain,Databricks,Data management",
         "JobTitle": "Data Management Scrum Master",
         "JobType": "Full Time",
         "Salary": 39000000,
         "Short_JobTitle": "None",
         "_deepnote_index_column": 22
        },
        {
         "Company": "Bosch Group",
         "Country": "United States",
         "ExperienceLevel": "Entry-level",
         "JobBenefits": "Career development,Team events",
         "JobRequirements": "Airflow,APIs,Architecture,Azure,Clustering,Computer Science",
         "JobTitle": "Rotational Development Program - Artificial Intelligence and Machine Learning Trainee",
         "JobType": "Full Time",
         "Salary": 44000000,
         "Short_JobTitle": "None",
         "_deepnote_index_column": 23
        },
        {
         "Company": "Publicis Groupe",
         "Country": "United States",
         "ExperienceLevel": "Senior-level",
         "JobBenefits": "Health care",
         "JobRequirements": "Agile,Architecture,Business Intelligence,Data analysis,Data visualization,ETL",
         "JobTitle": "BI Developer",
         "JobType": "Full Time",
         "Salary": 106000000,
         "Short_JobTitle": "None",
         "_deepnote_index_column": 27
        },
        {
         "Company": "Neo Cybernetica",
         "Country": "Poland",
         "ExperienceLevel": "Senior-level",
         "JobBenefits": "Career development,Flex hours,Health care,Startup environment",
         "JobRequirements": "Cybernetics,DataRobot,Engineering,Keras,Machine Learning,Python",
         "JobTitle": "ML Research Engineer",
         "JobType": "Full Time",
         "Salary": 105000000,
         "Short_JobTitle": "None",
         "_deepnote_index_column": 30
        },
        {
         "Company": "Western Digital",
         "Country": "Malaysia",
         "ExperienceLevel": "Senior-level",
         "JobBenefits": "Startup environment",
         "JobRequirements": "Data Analytics,Engineering,Excel,Industrial,Statistics,",
         "JobTitle": "Principal Engineer, Data Project Management",
         "JobType": "Full Time",
         "Salary": 55000000,
         "Short_JobTitle": "None",
         "_deepnote_index_column": 31
        }
       ]
      },
      "text/html": [
       "<div>\n",
       "<style scoped>\n",
       "    .dataframe tbody tr th:only-of-type {\n",
       "        vertical-align: middle;\n",
       "    }\n",
       "\n",
       "    .dataframe tbody tr th {\n",
       "        vertical-align: top;\n",
       "    }\n",
       "\n",
       "    .dataframe thead th {\n",
       "        text-align: right;\n",
       "    }\n",
       "</style>\n",
       "<table border=\"1\" class=\"dataframe\">\n",
       "  <thead>\n",
       "    <tr style=\"text-align: right;\">\n",
       "      <th></th>\n",
       "      <th>Company</th>\n",
       "      <th>JobTitle</th>\n",
       "      <th>JobType</th>\n",
       "      <th>ExperienceLevel</th>\n",
       "      <th>Salary</th>\n",
       "      <th>JobRequirements</th>\n",
       "      <th>JobBenefits</th>\n",
       "      <th>Country</th>\n",
       "      <th>Short_JobTitle</th>\n",
       "    </tr>\n",
       "  </thead>\n",
       "  <tbody>\n",
       "    <tr>\n",
       "      <th>6</th>\n",
       "      <td>Natixis in Portugal</td>\n",
       "      <td>Vendor Management and Data Quality Lead</td>\n",
       "      <td>Full Time</td>\n",
       "      <td>Entry-level</td>\n",
       "      <td>39000000</td>\n",
       "      <td>Banking,Data quality,Excel,Security,,</td>\n",
       "      <td>Gear</td>\n",
       "      <td>Portugal</td>\n",
       "      <td>None</td>\n",
       "    </tr>\n",
       "    <tr>\n",
       "      <th>12</th>\n",
       "      <td>YouGov</td>\n",
       "      <td>Graduate Power BI Developer</td>\n",
       "      <td>Full Time</td>\n",
       "      <td>Entry-level</td>\n",
       "      <td>35000000</td>\n",
       "      <td>Data Analytics,Excel,Finance,Market research,P...</td>\n",
       "      <td>Career development</td>\n",
       "      <td>India</td>\n",
       "      <td>None</td>\n",
       "    </tr>\n",
       "    <tr>\n",
       "      <th>13</th>\n",
       "      <td>Bosch Group</td>\n",
       "      <td>SAP Consultant - Product Data Management</td>\n",
       "      <td>Full Time</td>\n",
       "      <td>Senior-level</td>\n",
       "      <td>62000000</td>\n",
       "      <td>Data management,Engineering,R,Spark,,</td>\n",
       "      <td>Flex hours</td>\n",
       "      <td>Portugal</td>\n",
       "      <td>None</td>\n",
       "    </tr>\n",
       "    <tr>\n",
       "      <th>14</th>\n",
       "      <td>Bosch Group</td>\n",
       "      <td>PreMaster Programm - Data Analytics and Visual...</td>\n",
       "      <td>Full Time</td>\n",
       "      <td>Entry-level</td>\n",
       "      <td>39000000</td>\n",
       "      <td>BigQuery,Data Analytics,LLMs,Pandas,Python,</td>\n",
       "      <td>Team events</td>\n",
       "      <td>Germany</td>\n",
       "      <td>None</td>\n",
       "    </tr>\n",
       "    <tr>\n",
       "      <th>18</th>\n",
       "      <td>Issuu</td>\n",
       "      <td>BI Analyst</td>\n",
       "      <td>Full Time</td>\n",
       "      <td>Not Specified</td>\n",
       "      <td>48000000</td>\n",
       "      <td>Business Analytics,Business Intelligence,Data ...</td>\n",
       "      <td>Competitive pay,Equity,Health care,Insurance</td>\n",
       "      <td>united states</td>\n",
       "      <td>None</td>\n",
       "    </tr>\n",
       "    <tr>\n",
       "      <th>...</th>\n",
       "      <td>...</td>\n",
       "      <td>...</td>\n",
       "      <td>...</td>\n",
       "      <td>...</td>\n",
       "      <td>...</td>\n",
       "      <td>...</td>\n",
       "      <td>...</td>\n",
       "      <td>...</td>\n",
       "      <td>...</td>\n",
       "    </tr>\n",
       "    <tr>\n",
       "      <th>3178</th>\n",
       "      <td>Galileo Financial Technologies</td>\n",
       "      <td>Staff ETL Developer</td>\n",
       "      <td>Full Time</td>\n",
       "      <td>Senior-level</td>\n",
       "      <td>63000000</td>\n",
       "      <td>Computer Science,Data pipelines,Data warehouse...</td>\n",
       "      <td>Flex hours,Health care,Insurance</td>\n",
       "      <td>remote</td>\n",
       "      <td>None</td>\n",
       "    </tr>\n",
       "    <tr>\n",
       "      <th>3180</th>\n",
       "      <td>Talan</td>\n",
       "      <td>Talan Consulting  Consultant Senior/Manager ...</td>\n",
       "      <td>Full Time</td>\n",
       "      <td>Senior-level</td>\n",
       "      <td>62000000</td>\n",
       "      <td>Architecture,Consulting,Data governance,Data m...</td>\n",
       "      <td>Not Specified</td>\n",
       "      <td>France</td>\n",
       "      <td>None</td>\n",
       "    </tr>\n",
       "    <tr>\n",
       "      <th>3186</th>\n",
       "      <td>ServiceNow</td>\n",
       "      <td>Sr Software QA Engineer-Machine Learning QE</td>\n",
       "      <td>Full Time</td>\n",
       "      <td>Senior-level</td>\n",
       "      <td>117000000</td>\n",
       "      <td>Engineering,Git,JavaScript,Machine Learning,Ma...</td>\n",
       "      <td>401(k) matching,Competitive pay,Equity,Flex ho...</td>\n",
       "      <td>United States</td>\n",
       "      <td>None</td>\n",
       "    </tr>\n",
       "    <tr>\n",
       "      <th>3190</th>\n",
       "      <td>CCRi</td>\n",
       "      <td>Application Integration Engineer, Computer Vis...</td>\n",
       "      <td>Full Time</td>\n",
       "      <td>Mid-level</td>\n",
       "      <td>113000000</td>\n",
       "      <td>Agile,Angular,APIs,Architecture,AWS,Azure</td>\n",
       "      <td>401(k) matching,Career development,Flex hours,...</td>\n",
       "      <td>United States</td>\n",
       "      <td>None</td>\n",
       "    </tr>\n",
       "    <tr>\n",
       "      <th>3192</th>\n",
       "      <td>DoorDash</td>\n",
       "      <td>Senior Software Engineer, Machine Learning - A...</td>\n",
       "      <td>Full Time</td>\n",
       "      <td>Senior-level</td>\n",
       "      <td>176000000</td>\n",
       "      <td>Computer Science,Data analysis,Engineering,Exc...</td>\n",
       "      <td>401(k) matching,Career development,Equity,Insu...</td>\n",
       "      <td>united states</td>\n",
       "      <td>None</td>\n",
       "    </tr>\n",
       "  </tbody>\n",
       "</table>\n",
       "<p>979 rows × 9 columns</p>\n",
       "</div>"
      ],
      "text/plain": [
       "                             Company  \\\n",
       "6                Natixis in Portugal   \n",
       "12                            YouGov   \n",
       "13                       Bosch Group   \n",
       "14                       Bosch Group   \n",
       "18                             Issuu   \n",
       "...                              ...   \n",
       "3178  Galileo Financial Technologies   \n",
       "3180                           Talan   \n",
       "3186                      ServiceNow   \n",
       "3190                            CCRi   \n",
       "3192                        DoorDash   \n",
       "\n",
       "                                               JobTitle    JobType  \\\n",
       "6               Vendor Management and Data Quality Lead  Full Time   \n",
       "12                          Graduate Power BI Developer  Full Time   \n",
       "13             SAP Consultant - Product Data Management  Full Time   \n",
       "14    PreMaster Programm - Data Analytics and Visual...  Full Time   \n",
       "18                                           BI Analyst  Full Time   \n",
       "...                                                 ...        ...   \n",
       "3178                                Staff ETL Developer  Full Time   \n",
       "3180  Talan Consulting  Consultant Senior/Manager ...  Full Time   \n",
       "3186        Sr Software QA Engineer-Machine Learning QE  Full Time   \n",
       "3190  Application Integration Engineer, Computer Vis...  Full Time   \n",
       "3192  Senior Software Engineer, Machine Learning - A...  Full Time   \n",
       "\n",
       "     ExperienceLevel     Salary  \\\n",
       "6        Entry-level   39000000   \n",
       "12       Entry-level   35000000   \n",
       "13      Senior-level   62000000   \n",
       "14       Entry-level   39000000   \n",
       "18     Not Specified   48000000   \n",
       "...              ...        ...   \n",
       "3178    Senior-level   63000000   \n",
       "3180    Senior-level   62000000   \n",
       "3186    Senior-level  117000000   \n",
       "3190       Mid-level  113000000   \n",
       "3192    Senior-level  176000000   \n",
       "\n",
       "                                        JobRequirements  \\\n",
       "6                 Banking,Data quality,Excel,Security,,   \n",
       "12    Data Analytics,Excel,Finance,Market research,P...   \n",
       "13                Data management,Engineering,R,Spark,,   \n",
       "14          BigQuery,Data Analytics,LLMs,Pandas,Python,   \n",
       "18    Business Analytics,Business Intelligence,Data ...   \n",
       "...                                                 ...   \n",
       "3178  Computer Science,Data pipelines,Data warehouse...   \n",
       "3180  Architecture,Consulting,Data governance,Data m...   \n",
       "3186  Engineering,Git,JavaScript,Machine Learning,Ma...   \n",
       "3190          Agile,Angular,APIs,Architecture,AWS,Azure   \n",
       "3192  Computer Science,Data analysis,Engineering,Exc...   \n",
       "\n",
       "                                            JobBenefits        Country  \\\n",
       "6                                                  Gear       Portugal   \n",
       "12                                   Career development          India   \n",
       "13                                           Flex hours       Portugal   \n",
       "14                                          Team events        Germany   \n",
       "18         Competitive pay,Equity,Health care,Insurance  united states   \n",
       "...                                                 ...            ...   \n",
       "3178                   Flex hours,Health care,Insurance         remote   \n",
       "3180                                      Not Specified         France   \n",
       "3186  401(k) matching,Competitive pay,Equity,Flex ho...  United States   \n",
       "3190  401(k) matching,Career development,Flex hours,...  United States   \n",
       "3192  401(k) matching,Career development,Equity,Insu...  united states   \n",
       "\n",
       "     Short_JobTitle  \n",
       "6              None  \n",
       "12             None  \n",
       "13             None  \n",
       "14             None  \n",
       "18             None  \n",
       "...             ...  \n",
       "3178           None  \n",
       "3180           None  \n",
       "3186           None  \n",
       "3190           None  \n",
       "3192           None  \n",
       "\n",
       "[979 rows x 9 columns]"
      ]
     },
     "execution_count": 44,
     "metadata": {},
     "output_type": "execute_result"
    }
   ],
   "source": [
    "df[df['Short_JobTitle'].isnull()]"
   ]
  },
  {
   "cell_type": "code",
   "execution_count": 45,
   "metadata": {
    "cell_id": "f86f4e04d249411c979ab1609a7d21f5",
    "deepnote_app_coordinates": {
     "h": 5,
     "w": 12,
     "x": 0,
     "y": 0
    },
    "deepnote_cell_type": "code",
    "deepnote_to_be_reexecuted": false,
    "execution_millis": 9,
    "execution_start": 1691694368615,
    "source_hash": "43f560ba"
   },
   "outputs": [],
   "source": [
    "#drop nulls in Short_JobTitle column\n",
    "df.dropna(subset=['Short_JobTitle'],inplace=True)"
   ]
  },
  {
   "cell_type": "code",
   "execution_count": 47,
   "metadata": {
    "cell_id": "56bb23bf04a54d2f8598bf2fcaeeca6f",
    "deepnote_app_coordinates": {
     "h": 5,
     "w": 12,
     "x": 0,
     "y": 0
    },
    "deepnote_cell_type": "code",
    "deepnote_to_be_reexecuted": false,
    "execution_millis": 11,
    "execution_start": 1691694372510,
    "source_hash": "14f60b8f"
   },
   "outputs": [
    {
     "data": {
      "text/plain": [
       "(1995, 9)"
      ]
     },
     "execution_count": 47,
     "metadata": {},
     "output_type": "execute_result"
    }
   ],
   "source": [
    "#Final number of rows and columns after clearing process.\n",
    "df.shape"
   ]
  },
  {
   "cell_type": "markdown",
   "metadata": {
    "cell_id": "1255ef4ea4204376bf931886c423a52c",
    "deepnote_app_coordinates": {
     "h": 5,
     "w": 12,
     "x": 0,
     "y": 0
    },
    "deepnote_cell_type": "markdown"
   },
   "source": [
    "# EDA"
   ]
  },
  {
   "cell_type": "markdown",
   "metadata": {
    "cell_id": "ef18ab6a4e434271acd42becdd8faf3f",
    "deepnote_app_coordinates": {
     "h": 5,
     "w": 12,
     "x": 0,
     "y": 0
    },
    "deepnote_cell_type": "markdown"
   },
   "source": [
    "# Data Visualization"
   ]
  },
  {
   "cell_type": "markdown",
   "metadata": {
    "cell_id": "1cd98e6fdae34d949d5ce6e4782f7366",
    "deepnote_app_coordinates": {
     "h": 5,
     "w": 12,
     "x": 0,
     "y": 0
    },
    "deepnote_cell_type": "markdown"
   },
   "source": []
  },
  {
   "cell_type": "markdown",
   "metadata": {
    "created_in_deepnote_cell": true,
    "deepnote_cell_type": "markdown"
   },
   "source": [
    "<a style='text-decoration:none;line-height:16px;display:flex;color:#5B5B62;padding:10px;justify-content:end;' href='https://deepnote.com?utm_source=created-in-deepnote-cell&projectId=0ff6a6cf-3adf-435d-b30a-0d11ebbef82a' target=\"_blank\">\n",
    "<img alt='Created in deepnote.com' style='display:inline;max-height:16px;margin:0px;margin-right:7.5px;' src='data:image/svg+xml;base64,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' > </img>\n",
    "Created in <span style='font-weight:600;margin-left:4px;'>Deepnote</span></a>"
   ]
  }
 ],
 "metadata": {
  "deepnote": {},
  "deepnote_app_layout": "powerful-article",
  "deepnote_execution_queue": [],
  "deepnote_full_width": true,
  "deepnote_notebook_id": "c6f28afa79954ef0a28f8d3e34b82a25",
  "kernelspec": {
   "display_name": "Python 3 (ipykernel)",
   "language": "python",
   "name": "python3"
  },
  "language_info": {
   "codemirror_mode": {
    "name": "ipython",
    "version": 3
   },
   "file_extension": ".py",
   "mimetype": "text/x-python",
   "name": "python",
   "nbconvert_exporter": "python",
   "pygments_lexer": "ipython3",
   "version": "3.10.9"
  }
 },
 "nbformat": 4,
 "nbformat_minor": 1
}
